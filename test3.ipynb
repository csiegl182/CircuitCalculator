{
 "cells": [
  {
   "attachments": {},
   "cell_type": "markdown",
   "metadata": {},
   "source": [
    "# Test Setup for Transient Analysis"
   ]
  },
  {
   "cell_type": "code",
   "execution_count": 1,
   "metadata": {},
   "outputs": [],
   "source": [
    "from CircuitCalculator.Circuit.solution import DCSolution\n",
    "from CircuitCalculator.Circuit.circuit import Circuit, transform_circuit\n",
    "from CircuitCalculator.Circuit import components as cmp"
   ]
  },
  {
   "cell_type": "code",
   "execution_count": 2,
   "metadata": {},
   "outputs": [],
   "source": [
    "# G1, G2, G3 = 10, 20, 30\n",
    "# R1, R2, R3 = 1/G1, 1/G2, 1/G3\n",
    "R1, R2 = 10, 20\n",
    "G1, G2 = 1/R1, 1/R2\n",
    "RC = 40e6\n",
    "C = 1e-3\n",
    "circuit = Circuit([\n",
    "    cmp.dc_voltage_source(id='Uq', V=1, nodes=('1', '0')),\n",
    "    cmp.resistor(id='R1', R=R1, nodes=('1', '2')),\n",
    "    cmp.capacitor(id='C', C=C, nodes=('2', '3')),\n",
    "    cmp.resistor(id='R2', R=R2, nodes=('3', '0')),\n",
    "    cmp.dc_current_source(id='Iq', I=1, nodes=('0', '3')),\n",
    "    cmp.ground(nodes=('0',))\n",
    "])\n",
    "solution = DCSolution(circuit)"
   ]
  },
  {
   "cell_type": "markdown",
   "metadata": {},
   "source": [
    "## Funktion zur Berechnung der State Space Matrizen"
   ]
  },
  {
   "cell_type": "code",
   "execution_count": 3,
   "metadata": {},
   "outputs": [],
   "source": [
    "from CircuitCalculator.Network.NodalAnalysis.node_analysis import *\n",
    "from CircuitCalculator.Network.NodalAnalysis import labelmapper as map\n",
    "from CircuitCalculator.Network.network import Branch\n",
    "from CircuitCalculator.Network import elements as elm\n",
    "from CircuitCalculator.Circuit.circuit import Component\n",
    "def voltage_derivatives(components: list[Component]) -> list[Component]:\n",
    "    return [c for c in components if c.type == 'capacitor']\n",
    "\n",
    "def create_state_space_matrices_from_circuit_old(circuit: Circuit, node_index_mapper: map.NodeIndexMapper = map.default) -> tuple[np.ndarray, np.ndarray]:\n",
    "    network = transform_circuit(circuit, w=0)\n",
    "    node_mapping = node_index_mapper(network)\n",
    "    Y = create_node_matrix_from_network(network).real\n",
    "    Q = create_source_incidence_matrix_from_network(network=network).real\n",
    "    all_Cs = voltage_derivatives(circuit.components)\n",
    "    Delta = np.zeros((len(all_Cs), Y.shape[1]))\n",
    "    for k in range(len(all_Cs)):\n",
    "        for i_label, i in node_mapping.items():\n",
    "            if i_label in all_Cs[k].nodes:\n",
    "                if i_label == all_Cs[k].nodes[0]:\n",
    "                    Delta[k][i] = +1\n",
    "                else:\n",
    "                    Delta[k][i] = -1\n",
    "    Delta = np.matrix(Delta)\n",
    "    Cmat = np.zeros((Y.shape[0],1))\n",
    "    for i_label, i in node_mapping.items():\n",
    "        for C in all_Cs:\n",
    "            if i_label in C.nodes:\n",
    "                if i_label == C.nodes[1]:\n",
    "                    Cmat[i] = -C.value['C']\n",
    "                    Cmat[i] = +C.value['C']\n",
    "                else:\n",
    "                    Cmat[i] = +C.value['C']\n",
    "                    Cmat[i] = -C.value['C']\n",
    "    A = np.linalg.inv(Delta*np.linalg.inv(Y)*Cmat)\n",
    "    B = -A*Delta*np.linalg.inv(Y)*Q\n",
    "    print(Cmat)\n",
    "    return A, B\n",
    "\n",
    "def create_state_space_matrices_from_circuit(circuit: Circuit, node_index_mapper: map.NodeIndexMapper = map.default) -> tuple[np.ndarray, np.ndarray]:\n",
    "    network = transform_circuit(circuit, w=0)\n",
    "    node_mapping = node_index_mapper(network)\n",
    "    Y = create_node_matrix_from_network(network).real\n",
    "    Q = create_source_incidence_matrix_from_network(network=network).real\n",
    "    all_Cs = voltage_derivatives(circuit.components)\n",
    "    Delta = np.zeros((len(all_Cs), Y.shape[1]))\n",
    "    for k in range(len(all_Cs)):\n",
    "        for i_label, i in node_mapping.items():\n",
    "            if i_label in all_Cs[k].nodes:\n",
    "                if i_label == all_Cs[k].nodes[0]:\n",
    "                    Delta[k][i] = +1\n",
    "                else:\n",
    "                    Delta[k][i] = -1\n",
    "    Delta = np.matrix(Delta)\n",
    "    invC = np.array([-1/float(C.value['C']) for C in all_Cs])\n",
    "    A = np.linalg.inv(Delta*np.linalg.inv(Y)*Delta.T)*np.diag(invC)\n",
    "    B = -A*Delta*np.linalg.inv(Y)*Q\n",
    "    return A, B"
   ]
  },
  {
   "cell_type": "code",
   "execution_count": 4,
   "metadata": {},
   "outputs": [
    {
     "name": "stdout",
     "output_type": "stream",
     "text": [
      "[[-33.33333333]]\n",
      "[[-666.66666667   33.33333333]]\n"
     ]
    },
    {
     "data": {
      "text/plain": [
       "(None, None)"
      ]
     },
     "execution_count": 4,
     "metadata": {},
     "output_type": "execute_result"
    }
   ],
   "source": [
    "A, B = create_state_space_matrices_from_circuit(circuit=circuit)\n",
    "print(A), print(B)"
   ]
  },
  {
   "cell_type": "code",
   "execution_count": 5,
   "metadata": {},
   "outputs": [],
   "source": [
    "from scipy import signal\n",
    "\n",
    "sys = signal.StateSpace(A, B, 1, np.zeros((1,2)))\n"
   ]
  },
  {
   "cell_type": "code",
   "execution_count": 6,
   "metadata": {},
   "outputs": [],
   "source": [
    "t = np.arange(0, 0.5, 0.0003)\n",
    "U = 2*np.array(t > 0.1, dtype=float)\n",
    "I = -3*np.array(t > 0.2, dtype=float)\n",
    "\n",
    "tout, yout, xout = signal.lsim(sys, np.column_stack((I, U)), t)"
   ]
  },
  {
   "cell_type": "code",
   "execution_count": 7,
   "metadata": {},
   "outputs": [],
   "source": [
    "def pll(R1, R2):\n",
    "    return R1*R2/(R1+R2)\n",
    "\n",
    "Ri = R1+R2\n",
    "tau = Ri*C\n",
    "u_ref = np.zeros(t.size)\n",
    "u_ref[t>0.1] = 2*(1-np.exp(-(tout[t>0.1]-0.1)/tau))\n",
    "u_ref[t>0.2] = u_ref[t>0.2] + 3*R2*(1-np.exp(-(tout[t>0.2]-0.2)/tau))"
   ]
  },
  {
   "cell_type": "code",
   "execution_count": 8,
   "metadata": {},
   "outputs": [
    {
     "data": {
      "text/plain": [
       "[<matplotlib.lines.Line2D at 0x1795b1330>]"
      ]
     },
     "execution_count": 8,
     "metadata": {},
     "output_type": "execute_result"
    },
    {
     "data": {
      "image/png": "[encoded data removed]",
      "text/plain": [
       "<Figure size 640x480 with 1 Axes>"
      ]
     },
     "metadata": {},
     "output_type": "display_data"
    }
   ],
   "source": [
    "import matplotlib.pyplot as plt\n",
    "\n",
    "plt.plot(tout, yout)\n",
    "# plt.plot((tout[0], tout[-1]), (solution.get_voltage('C'), solution.get_voltage('C')))\n",
    "plt.plot(tout, u_ref, 'g--')\n"
   ]
  }
 ],
 "metadata": {
  "kernelspec": {
   "display_name": "Python 3",
   "language": "python",
   "name": "python3"
  },
  "language_info": {
   "codemirror_mode": {
    "name": "ipython",
    "version": 3
   },
   "file_extension": ".py",
   "mimetype": "text/x-python",
   "name": "python",
   "nbconvert_exporter": "python",
   "pygments_lexer": "ipython3",
   "version": "3.10.13"
  },
  "orig_nbformat": 4
 },
 "nbformat": 4,
 "nbformat_minor": 2
}
