{
 "cells": [
  {
   "cell_type": "markdown",
   "metadata": {},
   "source": [
    "# Example 6 - Test"
   ]
  },
  {
   "cell_type": "code",
   "execution_count": 1,
   "metadata": {},
   "outputs": [],
   "source": [
    "from CircuitCalculator.Circuit.circuit import Circuit, transform_circuit\n",
    "import CircuitCalculator.Circuit.components as ccp\n",
    "from CircuitCalculator.Circuit.solution import DCSolution\n",
    "import numpy as np"
   ]
  },
  {
   "cell_type": "code",
   "execution_count": 2,
   "metadata": {},
   "outputs": [],
   "source": [
    "R1, R2, R3, R4, R5 = 10, 20, 30, 40, 50\n",
    "Vs1, Vs2 = 1, 2\n",
    "circuit = Circuit([\n",
    "    ccp.dc_voltage_source(V=Vs1, id='Vs1', nodes=('0', '1')),\n",
    "    ccp.dc_voltage_source(V=Vs2, id='Vs2', nodes=('3', '2')),\n",
    "    ccp.resistor(R=R1, id='R1', nodes=('1', '2')),\n",
    "    ccp.resistor(R=R2, id='R2', nodes=('2', '0')),\n",
    "    ccp.resistor(R=R3, id='R3', nodes=('2', '3')),\n",
    "    ccp.resistor(R=R4, id='R4', nodes=('3', '4')),\n",
    "    ccp.resistor(R=R5, id='R5', nodes=('4', '0')),\n",
    "    ccp.ground(nodes=('0', ))\n",
    "])\n",
    "network = transform_circuit(circuit, w=0)"
   ]
  },
  {
   "cell_type": "code",
   "execution_count": 3,
   "metadata": {},
   "outputs": [
    {
     "name": "stdout",
     "output_type": "stream",
     "text": [
      "phi 1=-1.00V\n",
      "phi 2=-2.21V\n",
      "phi 3=-0.21V\n",
      "phi 4=0.54V\n"
     ]
    }
   ],
   "source": [
    "solution = DCSolution(circuit)\n",
    "print(f'phi 1={solution.get_potential(\"1\"):2.2f}V')\n",
    "print(f'phi 2={solution.get_potential(\"2\"):2.2f}V')\n",
    "print(f'phi 3={solution.get_potential(\"3\"):2.2f}V')\n",
    "print(f'phi 4={solution.get_potential(\"4\"):2.2f}V')"
   ]
  },
  {
   "cell_type": "code",
   "execution_count": 4,
   "metadata": {},
   "outputs": [
    {
     "name": "stdout",
     "output_type": "stream",
     "text": [
      "42.06949542621331\n",
      "[-0.          1.          0.75862069 -1.24137931 -0.68965517]\n",
      "[0.02413793 0.08045977]\n"
     ]
    }
   ],
   "source": [
    "G1, G2, G3, G4, G5 = 1/R1, 1/R2, 1/R3, 1/R4, 1/R5\n",
    "A = np.array([\n",
    "    # [ G2+G5,    0,      -G2,     0,   -G5,  1,  0],\n",
    "    [     0,   G1,      -G1,     0,     0, -1,  0],\n",
    "    [    -G2, -G1, G1+G2+G3,   -G3,     0,  0, -1],\n",
    "    [      0,   0,      -G3, G3+G4,   -G4,  0,  1],\n",
    "    [    -G5,   0,        0,   -G4, G4+G5,  0,  0],\n",
    "    [     -1,   1,        0,     0,     0,  0,  0],\n",
    "    [      0,   0,        1,    -1,     0,  0,  0],\n",
    "    [      1,   0,        0,     0,     0,  0,  0]\n",
    "])\n",
    "print(np.linalg.cond(A))\n",
    "\n",
    "Is = np.array([0, 0, 0, 0, Vs1, Vs2, 0])\n",
    "\n",
    "x = np.linalg.solve(A, Is)\n",
    "phi = x[:5]\n",
    "i = x[5:]\n",
    "print(phi)\n",
    "print(i)"
   ]
  },
  {
   "cell_type": "code",
   "execution_count": 5,
   "metadata": {},
   "outputs": [
    {
     "name": "stdout",
     "output_type": "stream",
     "text": [
      "38.87388384698125\n",
      "[ 1.          0.75862069 -1.24137931 -0.68965517]\n",
      "[0.02413793 0.08045977]\n"
     ]
    }
   ],
   "source": [
    "G1, G2, G3, G4, G5 = 1/R1, 1/R2, 1/R3, 1/R4, 1/R5\n",
    "A = np.array([\n",
    "    [ G1,      -G1,     0,     0, -1,  0],\n",
    "    [-G1, G1+G2+G3,   -G3,     0,  0, -1],\n",
    "    [  0,      -G3, G3+G4,   -G4,  0,  1],\n",
    "    [  0,        0,   -G4, G4+G5,  0,  0],\n",
    "    [  1,        0,     0,     0,  0,  0],\n",
    "    [  0,        1,    -1,     0,  0,  0],\n",
    "])\n",
    "print(np.linalg.cond(A))\n",
    "\n",
    "Is = np.array([0, 0, 0, 0, Vs1, Vs2])\n",
    "\n",
    "x = np.linalg.solve(A, Is)\n",
    "phi = x[:4]\n",
    "i = x[4:]\n",
    "print(phi)\n",
    "print(i)"
   ]
  },
  {
   "cell_type": "code",
   "execution_count": 6,
   "metadata": {},
   "outputs": [],
   "source": [
    "from CircuitCalculator.Network.network import Network\n",
    "from CircuitCalculator.Network.elements import is_ideal_voltage_source\n",
    "import CircuitCalculator.Network.NodalAnalysis.label_mapping as map\n",
    "from CircuitCalculator.Network.NodalAnalysis.node_analysis import node_admittance_matrix\n",
    "import itertools\n",
    "def create_voltage_source_incidence_matrix(network: Network, node_mapper: map.NetworkMapper = map.default_node_mapper, source_mapper: map.SourceIndexMapper = map.default_source_mapper) -> np.ndarray:\n",
    "    def voltage_source_direction(voltage_source: str, node: str) -> int:\n",
    "        if network[voltage_source].node1 == node:\n",
    "            return 1\n",
    "        if network[voltage_source].node2 == node:\n",
    "            return -1\n",
    "        return 0\n",
    "    node_index = node_mapper(network)\n",
    "    vs_index = map.filter_mapping(source_mapper(network), lambda x: is_ideal_voltage_source(network[x].element))\n",
    "    B = np.zeros((node_index.N, vs_index.N))\n",
    "    for node, vs in itertools.product(node_index.keys, vs_index.keys):\n",
    "        B[node_index[node], vs_index[vs]] = voltage_source_direction(vs, node)\n",
    "    return B"
   ]
  },
  {
   "cell_type": "code",
   "execution_count": 7,
   "metadata": {},
   "outputs": [],
   "source": [
    "def create_voltage_source_potential_incidence_matrix(network, node_mapper: map.NetworkMapper = map.default_node_mapper, source_mapper: map.SourceIndexMapper = map.default_source_mapper) -> np.ndarray:\n",
    "    def current_direction(voltage_source: str, node: str) -> int:\n",
    "        if network[voltage_source].node1 == node:\n",
    "            return -1\n",
    "        if network[voltage_source].node2 == node:\n",
    "            return 1\n",
    "        return 0\n",
    "    node_index = node_mapper(network)\n",
    "    vs_index = map.filter_mapping(source_mapper(network), lambda x: is_ideal_voltage_source(network[x].element))\n",
    "    C = np.zeros((vs_index.N, node_index.N))\n",
    "    for vs, node in itertools.product(vs_index.keys, node_index.keys):\n",
    "        C[vs_index[vs], node_index[node]] = current_direction(vs, node)\n",
    "    return C\n"
   ]
  },
  {
   "cell_type": "code",
   "execution_count": 8,
   "metadata": {},
   "outputs": [],
   "source": [
    "def create_coefficient_matrix(network: Network, node_mapper: map.NetworkMapper = map.default_node_mapper, source_mapper: map.SourceIndexMapper = map.default_source_mapper) -> np.ndarray:\n",
    "    Y = node_admittance_matrix(network, node_mapper)\n",
    "    B = create_voltage_source_incidence_matrix(network, node_mapper, source_mapper)\n",
    "    C = create_voltage_source_potential_incidence_matrix(network, node_mapper, source_mapper)\n",
    "    Z = np.zeros((B.shape[1], C.shape[0]))\n",
    "    return np.vstack((np.hstack((Y, B)), np.hstack((C, Z))))"
   ]
  },
  {
   "cell_type": "code",
   "execution_count": 10,
   "metadata": {},
   "outputs": [
    {
     "name": "stdout",
     "output_type": "stream",
     "text": [
      "[ 1.          0.75862069 -1.24137931 -0.68965517]\n",
      "[0.02413793 0.08045977]\n"
     ]
    }
   ],
   "source": [
    "A = create_coefficient_matrix(network)\n",
    "\n",
    "Is = np.array([0, 0, 0, 0, Vs1, Vs2])\n",
    "\n",
    "x = np.linalg.solve(A, Is)\n",
    "phi = x[:4]\n",
    "i = x[4:]\n",
    "print(phi.real)\n",
    "print(i.real)\n"
   ]
  }
 ],
 "metadata": {
  "kernelspec": {
   "display_name": "venv",
   "language": "python",
   "name": "python3"
  },
  "language_info": {
   "codemirror_mode": {
    "name": "ipython",
    "version": 3
   },
   "file_extension": ".py",
   "mimetype": "text/x-python",
   "name": "python",
   "nbconvert_exporter": "python",
   "pygments_lexer": "ipython3",
   "version": "3.10.14"
  },
  "orig_nbformat": 4
 },
 "nbformat": 4,
 "nbformat_minor": 2
}
