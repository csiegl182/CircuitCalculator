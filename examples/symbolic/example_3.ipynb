{
 "cells": [
  {
   "cell_type": "markdown",
   "metadata": {},
   "source": [
    "# Example 3 - 50/50 Current Dividor"
   ]
  },
  {
   "cell_type": "code",
   "execution_count": 11,
   "metadata": {},
   "outputs": [],
   "source": [
    "from CircuitCalculator.Circuit.circuit import Circuit\n",
    "import CircuitCalculator.Circuit.symbolic_components as sc\n",
    "from CircuitCalculator.Circuit.solution import SymoblicSolution\n",
    "import sympy as sp"
   ]
  },
  {
   "cell_type": "code",
   "execution_count": 12,
   "metadata": {},
   "outputs": [],
   "source": [
    "circuit = Circuit(\n",
    "    components=[\n",
    "        sc.current_source(id='I_s', nodes=('0', '1')),\n",
    "        sc.resistor(id='R1', nodes=('1', '0'), R='R'),\n",
    "        sc.resistor(id='R2', nodes=('1', '0'), R='R'),\n",
    "    ]\n",
    ")"
   ]
  },
  {
   "cell_type": "code",
   "execution_count": 13,
   "metadata": {},
   "outputs": [
    {
     "name": "stdout",
     "output_type": "stream",
     "text": [
      "0.5⋅Iₛ\n"
     ]
    }
   ],
   "source": [
    "solution = SymoblicSolution(circuit)\n",
    "I2 = sp.simplify(solution.get_current('R2'))\n",
    "sp.pprint(I2)"
   ]
  }
 ],
 "metadata": {
  "kernelspec": {
   "display_name": "venv",
   "language": "python",
   "name": "python3"
  },
  "language_info": {
   "codemirror_mode": {
    "name": "ipython",
    "version": 3
   },
   "file_extension": ".py",
   "mimetype": "text/x-python",
   "name": "python",
   "nbconvert_exporter": "python",
   "pygments_lexer": "ipython3",
   "version": "3.10.16"
  }
 },
 "nbformat": 4,
 "nbformat_minor": 2
}
