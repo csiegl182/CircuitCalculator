{
 "cells": [
  {
   "cell_type": "markdown",
   "metadata": {},
   "source": [
    "# Example 2 - Two Voltage Dividors"
   ]
  },
  {
   "cell_type": "code",
   "execution_count": 1,
   "metadata": {},
   "outputs": [],
   "source": [
    "from CircuitCalculator.Circuit.circuit import Circuit\n",
    "import CircuitCalculator.Circuit.symbolic_components as sc\n",
    "from CircuitCalculator.Circuit.solution import SymoblicSolution\n",
    "import sympy as sp"
   ]
  },
  {
   "cell_type": "code",
   "execution_count": 2,
   "metadata": {},
   "outputs": [],
   "source": [
    "circuit = Circuit(\n",
    "    components=[\n",
    "        sc.voltage_source(id='V_s', nodes=('1', '0')),\n",
    "        sc.resistor(id='R_1', nodes=('1', '2')),\n",
    "        sc.resistor(id='R_2', nodes=('2', '0')),\n",
    "        sc.resistor(id='R_3', nodes=('2', '3')),\n",
    "        sc.resistor(id='R_4', nodes=('3', '0'))\n",
    "    ]\n",
    ")"
   ]
  },
  {
   "cell_type": "code",
   "execution_count": 3,
   "metadata": {},
   "outputs": [
    {
     "name": "stdout",
     "output_type": "stream",
     "text": [
      "R₁⋅R₂ + R₁⋅R₃ + R₂⋅R₃\n",
      "─────────────────────\n",
      "       R₁ + R₂       \n"
     ]
    }
   ],
   "source": [
    "solution = SymoblicSolution(circuit=circuit)\n",
    "\n",
    "P = solution.get_power('R_4')\n",
    "\n",
    "dPdR4 = sp.diff(P, 'R_4') \n",
    "\n",
    "R4_solution = sp.solve(dPdR4, 'R_4')\n",
    "sp.pprint(R4_solution[0])"
   ]
  },
  {
   "cell_type": "code",
   "execution_count": 4,
   "metadata": {},
   "outputs": [
    {
     "name": "stdout",
     "output_type": "stream",
     "text": [
      "             1.0⋅R₂⋅R₄⋅Vₛ            \n",
      "─────────────────────────────────────\n",
      "R₁⋅R₂ + R₁⋅R₃ + R₁⋅R₄ + R₂⋅R₃ + R₂⋅R₄\n"
     ]
    }
   ],
   "source": [
    "V4 = sp.simplify(solution.get_voltage('R_4'))\n",
    "sp.pprint(V4)"
   ]
  },
  {
   "cell_type": "code",
   "execution_count": 5,
   "metadata": {},
   "outputs": [
    {
     "data": {
      "text/latex": [
       "$\\displaystyle 3.31578947368421 V$"
      ],
      "text/plain": [
       "3.31578947368421*V"
      ]
     },
     "execution_count": 5,
     "metadata": {},
     "output_type": "execute_result"
    }
   ],
   "source": [
    "Ohm, V = sp.symbols('Ω V')\n",
    "V4.subs('R_1', 4*Ohm).subs('R_2', 8*Ohm).subs('R_3', 3*Ohm).subs('R_4', 7*Ohm).subs('V_s', 9*V)"
   ]
  }
 ],
 "metadata": {
  "kernelspec": {
   "display_name": "venv",
   "language": "python",
   "name": "python3"
  },
  "language_info": {
   "codemirror_mode": {
    "name": "ipython",
    "version": 3
   },
   "file_extension": ".py",
   "mimetype": "text/x-python",
   "name": "python",
   "nbconvert_exporter": "python",
   "pygments_lexer": "ipython3",
   "version": "3.10.16"
  }
 },
 "nbformat": 4,
 "nbformat_minor": 2
}
