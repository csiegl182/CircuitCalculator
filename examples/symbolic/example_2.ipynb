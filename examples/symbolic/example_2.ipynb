{
 "cells": [
  {
   "cell_type": "markdown",
   "metadata": {},
   "source": [
    "# Example 2 - Two Voltage Dividors"
   ]
  },
  {
   "cell_type": "code",
   "execution_count": 1,
   "metadata": {},
   "outputs": [],
   "source": [
    "from CircuitCalculator.Circuit.circuit import Circuit\n",
    "import CircuitCalculator.Circuit.Components.symbolic_components as sc\n",
    "from CircuitCalculator.Circuit.solution import symbolic_solution\n",
    "import sympy as sp"
   ]
  },
  {
   "cell_type": "code",
   "execution_count": 2,
   "metadata": {},
   "outputs": [],
   "source": [
    "circuit = Circuit(\n",
    "    components=[\n",
    "        sc.voltage_source(id='V_s', nodes=('1', '0')),\n",
    "        sc.resistor(id='R_1', nodes=('1', '2')),\n",
    "        sc.resistor(id='R_2', nodes=('2', '0')),\n",
    "        sc.resistor(id='R_3', nodes=('2', '3')),\n",
    "        sc.resistor(id='R_4', nodes=('3', '0'))\n",
    "    ]\n",
    ")"
   ]
  },
  {
   "cell_type": "code",
   "execution_count": 3,
   "metadata": {},
   "outputs": [
    {
     "name": "stdout",
     "output_type": "stream",
     "text": [
      "R₁⋅R₂ + R₁⋅R₃ + R₂⋅R₃\n",
      "─────────────────────\n",
      "       R₁ + R₂       \n"
     ]
    }
   ],
   "source": [
    "solution = symbolic_solution(circuit=circuit)\n",
    "\n",
    "P = solution.get_power('R_4')\n",
    "\n",
    "symbols = {str(x): x for x in list(P.free_symbols)}\n",
    "R4 = symbols['R_4']\n",
    "\n",
    "dPdR4 = sp.diff(P, R4) \n",
    "\n",
    "R4_solution = sp.solve(dPdR4, R4)\n",
    "sp.pprint(R4_solution[0])"
   ]
  },
  {
   "cell_type": "code",
   "execution_count": 4,
   "metadata": {},
   "outputs": [
    {
     "name": "stdout",
     "output_type": "stream",
     "text": [
      "               R₂⋅R₄⋅Vₛ              \n",
      "─────────────────────────────────────\n",
      "R₁⋅R₂ + R₁⋅R₃ + R₁⋅R₄ + R₂⋅R₃ + R₂⋅R₄\n"
     ]
    }
   ],
   "source": [
    "V4 = sp.simplify(solution.get_voltage('R_4'))\n",
    "sp.pprint(V4)"
   ]
  },
  {
   "cell_type": "code",
   "execution_count": 5,
   "metadata": {},
   "outputs": [
    {
     "data": {
      "text/latex": [
       "$\\displaystyle \\frac{63 V}{19}$"
      ],
      "text/plain": [
       "63*V/19"
      ]
     },
     "execution_count": 5,
     "metadata": {},
     "output_type": "execute_result"
    }
   ],
   "source": [
    "Ohm, V = sp.symbols('Ω V')\n",
    "symbols = {str(x): x for x in list(V4.free_symbols)}\n",
    "R1, R2, R3, R4, Vs = symbols['R_1'], symbols['R_2'], symbols['R_3'], symbols['R_4'], symbols['V_s']\n",
    "V4.subs(R1, 4*Ohm).subs(R2, 8*Ohm).subs(R3, 3*Ohm).subs(R4, 7*Ohm).subs(Vs, 9*V)"
   ]
  }
 ],
 "metadata": {
  "kernelspec": {
   "display_name": "venv (3.10.18)",
   "language": "python",
   "name": "python3"
  },
  "language_info": {
   "codemirror_mode": {
    "name": "ipython",
    "version": 3
   },
   "file_extension": ".py",
   "mimetype": "text/x-python",
   "name": "python",
   "nbconvert_exporter": "python",
   "pygments_lexer": "ipython3",
   "version": "3.10.18"
  }
 },
 "nbformat": 4,
 "nbformat_minor": 2
}
