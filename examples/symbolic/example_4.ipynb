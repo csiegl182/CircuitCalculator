{
 "cells": [
  {
   "cell_type": "markdown",
   "metadata": {},
   "source": [
    "# Example 4 - Mixed Symbolic and Numeric Components"
   ]
  },
  {
   "cell_type": "code",
   "execution_count": 1,
   "metadata": {},
   "outputs": [],
   "source": [
    "from CircuitCalculator.Circuit.circuit import Circuit\n",
    "import CircuitCalculator.Circuit.symbolic_components as sc\n",
    "import CircuitCalculator.Circuit.components as nc\n",
    "from CircuitCalculator.Circuit.solution import SymoblicSolution, DCSolution\n",
    "import sympy as sp"
   ]
  },
  {
   "cell_type": "code",
   "execution_count": 2,
   "metadata": {},
   "outputs": [],
   "source": [
    "circuit = Circuit(\n",
    "    components=[\n",
    "        sc.voltage_source(id='V_s', nodes=('1', '0')),\n",
    "        sc.resistor(id='R_1', nodes=('1', '2')),\n",
    "        nc.resistor(id='R_2', nodes=('2', '0'), R=10),\n",
    "    ]\n",
    ")"
   ]
  },
  {
   "cell_type": "code",
   "execution_count": 3,
   "metadata": {},
   "outputs": [
    {
     "name": "stdout",
     "output_type": "stream",
     "text": [
      "   10.0⋅Vₛ   \n",
      "─────────────\n",
      "1.0⋅R₁ + 10.0\n"
     ]
    }
   ],
   "source": [
    "solution = SymoblicSolution(circuit)\n",
    "V2 = sp.simplify(solution.get_voltage('R_2'))\n",
    "sp.pprint(V2)"
   ]
  },
  {
   "cell_type": "code",
   "execution_count": 4,
   "metadata": {},
   "outputs": [
    {
     "ename": "CircuitTransformationError",
     "evalue": "",
     "output_type": "error",
     "traceback": [
      "\u001b[0;31m---------------------------------------------------------------------------\u001b[0m",
      "\u001b[0;31mValueError\u001b[0m                                Traceback (most recent call last)",
      "File \u001b[0;32m~/Workspace/CircuitCalculator/src/CircuitCalculator/Circuit/circuit.py:41\u001b[0m, in \u001b[0;36mtransform_circuit\u001b[0;34m(circuit, w, w_resolution, rms)\u001b[0m\n\u001b[1;32m     39\u001b[0m \u001b[38;5;28;01mtry\u001b[39;00m:\n\u001b[1;32m     40\u001b[0m     \u001b[38;5;28;01mreturn\u001b[39;00m Network(\n\u001b[0;32m---> 41\u001b[0m         branches\u001b[38;5;241m=\u001b[39m[transformers[component\u001b[38;5;241m.\u001b[39mtype](component, w, w_resolution, rms) \u001b[38;5;28;01mfor\u001b[39;00m component \u001b[38;5;129;01min\u001b[39;00m circuit\u001b[38;5;241m.\u001b[39mcomponents \u001b[38;5;28;01mif\u001b[39;00m component\u001b[38;5;241m.\u001b[39mtype \u001b[38;5;129;01min\u001b[39;00m transformers\u001b[38;5;241m.\u001b[39mkeys()],\n\u001b[1;32m     42\u001b[0m         node_zero_label\u001b[38;5;241m=\u001b[39mcircuit\u001b[38;5;241m.\u001b[39mground_node\n\u001b[1;32m     43\u001b[0m     )\n\u001b[1;32m     44\u001b[0m \u001b[38;5;28;01mexcept\u001b[39;00m \u001b[38;5;167;01mValueError\u001b[39;00m \u001b[38;5;28;01mas\u001b[39;00m e:\n",
      "File \u001b[0;32m~/Workspace/CircuitCalculator/src/CircuitCalculator/Circuit/circuit.py:41\u001b[0m, in \u001b[0;36m<listcomp>\u001b[0;34m(.0)\u001b[0m\n\u001b[1;32m     39\u001b[0m \u001b[38;5;28;01mtry\u001b[39;00m:\n\u001b[1;32m     40\u001b[0m     \u001b[38;5;28;01mreturn\u001b[39;00m Network(\n\u001b[0;32m---> 41\u001b[0m         branches\u001b[38;5;241m=\u001b[39m[\u001b[43mtransformers\u001b[49m\u001b[43m[\u001b[49m\u001b[43mcomponent\u001b[49m\u001b[38;5;241;43m.\u001b[39;49m\u001b[43mtype\u001b[49m\u001b[43m]\u001b[49m\u001b[43m(\u001b[49m\u001b[43mcomponent\u001b[49m\u001b[43m,\u001b[49m\u001b[43m \u001b[49m\u001b[43mw\u001b[49m\u001b[43m,\u001b[49m\u001b[43m \u001b[49m\u001b[43mw_resolution\u001b[49m\u001b[43m,\u001b[49m\u001b[43m \u001b[49m\u001b[43mrms\u001b[49m\u001b[43m)\u001b[49m \u001b[38;5;28;01mfor\u001b[39;00m component \u001b[38;5;129;01min\u001b[39;00m circuit\u001b[38;5;241m.\u001b[39mcomponents \u001b[38;5;28;01mif\u001b[39;00m component\u001b[38;5;241m.\u001b[39mtype \u001b[38;5;129;01min\u001b[39;00m transformers\u001b[38;5;241m.\u001b[39mkeys()],\n\u001b[1;32m     42\u001b[0m         node_zero_label\u001b[38;5;241m=\u001b[39mcircuit\u001b[38;5;241m.\u001b[39mground_node\n\u001b[1;32m     43\u001b[0m     )\n\u001b[1;32m     44\u001b[0m \u001b[38;5;28;01mexcept\u001b[39;00m \u001b[38;5;167;01mValueError\u001b[39;00m \u001b[38;5;28;01mas\u001b[39;00m e:\n",
      "File \u001b[0;32m~/Workspace/CircuitCalculator/src/CircuitCalculator/Circuit/transformers.py:12\u001b[0m, in \u001b[0;36mresistor\u001b[0;34m(resistor, *_)\u001b[0m\n\u001b[1;32m     11\u001b[0m \u001b[38;5;28;01mdef\u001b[39;00m \u001b[38;5;21mresistor\u001b[39m(resistor: ccp\u001b[38;5;241m.\u001b[39mComponent, \u001b[38;5;241m*\u001b[39m_) \u001b[38;5;241m-\u001b[39m\u001b[38;5;241m>\u001b[39m ntw\u001b[38;5;241m.\u001b[39mBranch:\n\u001b[0;32m---> 12\u001b[0m     R \u001b[38;5;241m=\u001b[39m \u001b[38;5;28;43mfloat\u001b[39;49m\u001b[43m(\u001b[49m\u001b[43mresistor\u001b[49m\u001b[38;5;241;43m.\u001b[39;49m\u001b[43mvalue\u001b[49m\u001b[43m[\u001b[49m\u001b[38;5;124;43m'\u001b[39;49m\u001b[38;5;124;43mR\u001b[39;49m\u001b[38;5;124;43m'\u001b[39;49m\u001b[43m]\u001b[49m\u001b[43m)\u001b[49m\n\u001b[1;32m     13\u001b[0m     \u001b[38;5;28;01mreturn\u001b[39;00m ntw\u001b[38;5;241m.\u001b[39mBranch(resistor\u001b[38;5;241m.\u001b[39mnodes[\u001b[38;5;241m0\u001b[39m], resistor\u001b[38;5;241m.\u001b[39mnodes[\u001b[38;5;241m1\u001b[39m], elm\u001b[38;5;241m.\u001b[39mresistor(resistor\u001b[38;5;241m.\u001b[39mid, R))\n",
      "\u001b[0;31mValueError\u001b[0m: could not convert string to float: 'R_1'",
      "\nThe above exception was the direct cause of the following exception:\n",
      "\u001b[0;31mCircuitTransformationError\u001b[0m                Traceback (most recent call last)",
      "Cell \u001b[0;32mIn[4], line 1\u001b[0m\n\u001b[0;32m----> 1\u001b[0m solution \u001b[38;5;241m=\u001b[39m \u001b[43mDCSolution\u001b[49m\u001b[43m(\u001b[49m\u001b[43mcircuit\u001b[49m\u001b[43m)\u001b[49m\n",
      "File \u001b[0;32m<string>:5\u001b[0m, in \u001b[0;36m__init__\u001b[0;34m(self, circuit, solver)\u001b[0m\n",
      "File \u001b[0;32m~/Workspace/CircuitCalculator/src/CircuitCalculator/Circuit/solution.py:53\u001b[0m, in \u001b[0;36mDCSolution.__post_init__\u001b[0;34m(self)\u001b[0m\n\u001b[1;32m     52\u001b[0m \u001b[38;5;28;01mdef\u001b[39;00m \u001b[38;5;21m__post_init__\u001b[39m(\u001b[38;5;28mself\u001b[39m):\n\u001b[0;32m---> 53\u001b[0m     network \u001b[38;5;241m=\u001b[39m \u001b[43mtransform\u001b[49m\u001b[43m(\u001b[49m\u001b[38;5;28;43mself\u001b[39;49m\u001b[38;5;241;43m.\u001b[39;49m\u001b[43mcircuit\u001b[49m\u001b[43m,\u001b[49m\u001b[43m \u001b[49m\u001b[43mw\u001b[49m\u001b[38;5;241;43m=\u001b[39;49m\u001b[43m[\u001b[49m\u001b[38;5;241;43m0\u001b[39;49m\u001b[43m]\u001b[49m\u001b[43m)\u001b[49m[\u001b[38;5;241m0\u001b[39m]\n\u001b[1;32m     54\u001b[0m     \u001b[38;5;28mself\u001b[39m\u001b[38;5;241m.\u001b[39m_solution \u001b[38;5;241m=\u001b[39m \u001b[38;5;28mself\u001b[39m\u001b[38;5;241m.\u001b[39msolver(network)\n",
      "File \u001b[0;32m~/Workspace/CircuitCalculator/src/CircuitCalculator/Circuit/circuit.py:48\u001b[0m, in \u001b[0;36mtransform\u001b[0;34m(circuit, w, w_resolution, rms)\u001b[0m\n\u001b[1;32m     47\u001b[0m \u001b[38;5;28;01mdef\u001b[39;00m \u001b[38;5;21mtransform\u001b[39m(circuit: Circuit, w: \u001b[38;5;28mlist\u001b[39m[\u001b[38;5;28mfloat\u001b[39m] \u001b[38;5;241m=\u001b[39m [\u001b[38;5;241m0\u001b[39m], w_resolution: \u001b[38;5;28mfloat\u001b[39m \u001b[38;5;241m=\u001b[39m \u001b[38;5;241m1e-3\u001b[39m, rms: \u001b[38;5;28mbool\u001b[39m \u001b[38;5;241m=\u001b[39m \u001b[38;5;28;01mTrue\u001b[39;00m) \u001b[38;5;241m-\u001b[39m\u001b[38;5;241m>\u001b[39m \u001b[38;5;28mlist\u001b[39m[Network]:\n\u001b[0;32m---> 48\u001b[0m     \u001b[38;5;28;01mreturn\u001b[39;00m [transform_circuit(circuit, w_, w_resolution, rms) \u001b[38;5;28;01mfor\u001b[39;00m w_ \u001b[38;5;129;01min\u001b[39;00m w]\n",
      "File \u001b[0;32m~/Workspace/CircuitCalculator/src/CircuitCalculator/Circuit/circuit.py:48\u001b[0m, in \u001b[0;36m<listcomp>\u001b[0;34m(.0)\u001b[0m\n\u001b[1;32m     47\u001b[0m \u001b[38;5;28;01mdef\u001b[39;00m \u001b[38;5;21mtransform\u001b[39m(circuit: Circuit, w: \u001b[38;5;28mlist\u001b[39m[\u001b[38;5;28mfloat\u001b[39m] \u001b[38;5;241m=\u001b[39m [\u001b[38;5;241m0\u001b[39m], w_resolution: \u001b[38;5;28mfloat\u001b[39m \u001b[38;5;241m=\u001b[39m \u001b[38;5;241m1e-3\u001b[39m, rms: \u001b[38;5;28mbool\u001b[39m \u001b[38;5;241m=\u001b[39m \u001b[38;5;28;01mTrue\u001b[39;00m) \u001b[38;5;241m-\u001b[39m\u001b[38;5;241m>\u001b[39m \u001b[38;5;28mlist\u001b[39m[Network]:\n\u001b[0;32m---> 48\u001b[0m     \u001b[38;5;28;01mreturn\u001b[39;00m [\u001b[43mtransform_circuit\u001b[49m\u001b[43m(\u001b[49m\u001b[43mcircuit\u001b[49m\u001b[43m,\u001b[49m\u001b[43m \u001b[49m\u001b[43mw_\u001b[49m\u001b[43m,\u001b[49m\u001b[43m \u001b[49m\u001b[43mw_resolution\u001b[49m\u001b[43m,\u001b[49m\u001b[43m \u001b[49m\u001b[43mrms\u001b[49m\u001b[43m)\u001b[49m \u001b[38;5;28;01mfor\u001b[39;00m w_ \u001b[38;5;129;01min\u001b[39;00m w]\n",
      "File \u001b[0;32m~/Workspace/CircuitCalculator/src/CircuitCalculator/Circuit/circuit.py:45\u001b[0m, in \u001b[0;36mtransform_circuit\u001b[0;34m(circuit, w, w_resolution, rms)\u001b[0m\n\u001b[1;32m     40\u001b[0m     \u001b[38;5;28;01mreturn\u001b[39;00m Network(\n\u001b[1;32m     41\u001b[0m         branches\u001b[38;5;241m=\u001b[39m[transformers[component\u001b[38;5;241m.\u001b[39mtype](component, w, w_resolution, rms) \u001b[38;5;28;01mfor\u001b[39;00m component \u001b[38;5;129;01min\u001b[39;00m circuit\u001b[38;5;241m.\u001b[39mcomponents \u001b[38;5;28;01mif\u001b[39;00m component\u001b[38;5;241m.\u001b[39mtype \u001b[38;5;129;01min\u001b[39;00m transformers\u001b[38;5;241m.\u001b[39mkeys()],\n\u001b[1;32m     42\u001b[0m         node_zero_label\u001b[38;5;241m=\u001b[39mcircuit\u001b[38;5;241m.\u001b[39mground_node\n\u001b[1;32m     43\u001b[0m     )\n\u001b[1;32m     44\u001b[0m \u001b[38;5;28;01mexcept\u001b[39;00m \u001b[38;5;167;01mValueError\u001b[39;00m \u001b[38;5;28;01mas\u001b[39;00m e:\n\u001b[0;32m---> 45\u001b[0m     \u001b[38;5;28;01mraise\u001b[39;00m CircuitTransformationError \u001b[38;5;28;01mfrom\u001b[39;00m \u001b[38;5;21;01me\u001b[39;00m\n",
      "\u001b[0;31mCircuitTransformationError\u001b[0m: "
     ]
    }
   ],
   "source": [
    "solution = DCSolution(circuit)"
   ]
  }
 ],
 "metadata": {
  "kernelspec": {
   "display_name": "venv",
   "language": "python",
   "name": "python3"
  },
  "language_info": {
   "codemirror_mode": {
    "name": "ipython",
    "version": 3
   },
   "file_extension": ".py",
   "mimetype": "text/x-python",
   "name": "python",
   "nbconvert_exporter": "python",
   "pygments_lexer": "ipython3",
   "version": "3.10.16"
  }
 },
 "nbformat": 4,
 "nbformat_minor": 2
}
