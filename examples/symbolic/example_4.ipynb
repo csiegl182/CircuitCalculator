{
 "cells": [
  {
   "cell_type": "markdown",
   "metadata": {},
   "source": [
    "# Example 4 - Mixed Symbolic and Numeric Components"
   ]
  },
  {
   "cell_type": "code",
   "execution_count": 1,
   "metadata": {},
   "outputs": [],
   "source": [
    "from CircuitCalculator.Circuit.circuit import Circuit\n",
    "import CircuitCalculator.Circuit.Components.symbolic_components as sc\n",
    "import CircuitCalculator.Circuit.Components.components as nc\n",
    "from CircuitCalculator.Circuit.solution import symbolic_solution\n",
    "import sympy as sp"
   ]
  },
  {
   "cell_type": "code",
   "execution_count": 2,
   "metadata": {},
   "outputs": [],
   "source": [
    "circuit = Circuit(\n",
    "    components=[\n",
    "        sc.voltage_source(id='V_s', nodes=('1', '0')),\n",
    "        sc.resistor(id='R_1', nodes=('1', '2')),\n",
    "        nc.resistor(id='R_2', nodes=('2', '0'), R=10),\n",
    "    ]\n",
    ")"
   ]
  },
  {
   "cell_type": "code",
   "execution_count": 3,
   "metadata": {},
   "outputs": [
    {
     "name": "stdout",
     "output_type": "stream",
     "text": [
      " 10⋅Vₛ \n",
      "───────\n",
      "R₁ + 10\n"
     ]
    }
   ],
   "source": [
    "solution = symbolic_solution(circuit)\n",
    "V2 = sp.simplify(solution.get_voltage('R_2'))\n",
    "sp.pprint(V2)"
   ]
  }
 ],
 "metadata": {
  "kernelspec": {
   "display_name": "venv (3.10.18)",
   "language": "python",
   "name": "python3"
  },
  "language_info": {
   "codemirror_mode": {
    "name": "ipython",
    "version": 3
   },
   "file_extension": ".py",
   "mimetype": "text/x-python",
   "name": "python",
   "nbconvert_exporter": "python",
   "pygments_lexer": "ipython3",
   "version": "3.10.18"
  }
 },
 "nbformat": 4,
 "nbformat_minor": 2
}
