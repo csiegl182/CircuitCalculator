{
 "cells": [
  {
   "cell_type": "markdown",
   "metadata": {},
   "source": [
    "# Example 1 - Simple Voltage Dividor"
   ]
  },
  {
   "cell_type": "code",
   "execution_count": 1,
   "metadata": {},
   "outputs": [],
   "source": [
    "from CircuitCalculator.Circuit.circuit import Circuit\n",
    "import CircuitCalculator.Circuit.Components.symbolic_components as sc\n",
    "from CircuitCalculator.Circuit.solution import symbolic_solution\n",
    "import sympy as sp"
   ]
  },
  {
   "cell_type": "code",
   "execution_count": 2,
   "metadata": {},
   "outputs": [],
   "source": [
    "circuit = Circuit(\n",
    "    components=[\n",
    "        sc.voltage_source(id='V_s', nodes=('1', '0')),\n",
    "        sc.resistor(id='R_1', nodes=('1', '2')),\n",
    "        sc.resistor(id='R_2', nodes=('2', '0'))\n",
    "    ]\n",
    ")"
   ]
  },
  {
   "cell_type": "code",
   "execution_count": 3,
   "metadata": {},
   "outputs": [
    {
     "name": "stdout",
     "output_type": "stream",
     "text": [
      "R₁\n"
     ]
    }
   ],
   "source": [
    "solution = symbolic_solution(circuit=circuit)\n",
    "\n",
    "P = solution.get_power('R_2')\n",
    "P= sp.simplify(P)\n",
    "P_symbols = {s.name: s for s in list(P.free_symbols)}\n",
    "R2 = P_symbols['R_2']\n",
    "\n",
    "dPdR2 = sp.diff(P, R2) \n",
    "\n",
    "R2_solution = sp.solve(dPdR2, R2)\n",
    "sp.pprint(R2_solution[0])"
   ]
  },
  {
   "cell_type": "code",
   "execution_count": 4,
   "metadata": {},
   "outputs": [
    {
     "name": "stdout",
     "output_type": "stream",
     "text": [
      " R₁⋅Vₛ \n",
      "───────\n",
      "R₁ + R₂\n"
     ]
    }
   ],
   "source": [
    "V1 = sp.simplify(solution.get_voltage('R_1'))\n",
    "sp.pprint(V1)"
   ]
  },
  {
   "cell_type": "code",
   "execution_count": 5,
   "metadata": {},
   "outputs": [
    {
     "data": {
      "text/latex": [
       "$\\displaystyle \\frac{9 R_{1} V}{R_{1} + R_{2}}$"
      ],
      "text/plain": [
       "9*R_1*V/(R_1 + R_2)"
      ]
     },
     "execution_count": 5,
     "metadata": {},
     "output_type": "execute_result"
    }
   ],
   "source": [
    "Ohm, V = sp.symbols('Ω V')\n",
    "V1.subs('R_1', 4*Ohm).subs('V_s', 9*V).subs('R_2', 8*Ohm)"
   ]
  }
 ],
 "metadata": {
  "kernelspec": {
   "display_name": "venv2",
   "language": "python",
   "name": "python3"
  },
  "language_info": {
   "codemirror_mode": {
    "name": "ipython",
    "version": 3
   },
   "file_extension": ".py",
   "mimetype": "text/x-python",
   "name": "python",
   "nbconvert_exporter": "python",
   "pygments_lexer": "ipython3",
   "version": "3.10.18"
  }
 },
 "nbformat": 4,
 "nbformat_minor": 2
}
