{
 "cells": [
  {
   "attachments": {},
   "cell_type": "markdown",
   "metadata": {},
   "source": [
    "# Example 1"
   ]
  },
  {
   "cell_type": "code",
   "execution_count": null,
   "metadata": {},
   "outputs": [],
   "source": [
    "from CircuitCalculator.Circuit.serializers import load_circuit_from_json\n",
    "from CircuitCalculator.Circuit.solution import DCSolution"
   ]
  },
  {
   "cell_type": "code",
   "execution_count": 1,
   "metadata": {},
   "outputs": [
    {
     "ename": "NameError",
     "evalue": "name 'load_circuit_from_json' is not defined",
     "output_type": "error",
     "traceback": [
      "\u001b[0;31m---------------------------------------------------------------------------\u001b[0m",
      "\u001b[0;31mNameError\u001b[0m                                 Traceback (most recent call last)",
      "Cell \u001b[0;32mIn[1], line 1\u001b[0m\n\u001b[0;32m----> 1\u001b[0m circuit \u001b[38;5;241m=\u001b[39m \u001b[43mload_circuit_from_json\u001b[49m(\u001b[38;5;124m'\u001b[39m\u001b[38;5;124mexample_circuit_1.json\u001b[39m\u001b[38;5;124m'\u001b[39m)\n\u001b[1;32m      2\u001b[0m solution \u001b[38;5;241m=\u001b[39m DCSolution(circuit)\n\u001b[1;32m      3\u001b[0m \u001b[38;5;28mprint\u001b[39m(\u001b[38;5;124mf\u001b[39m\u001b[38;5;124m'\u001b[39m\u001b[38;5;124mI(R)=\u001b[39m\u001b[38;5;132;01m{\u001b[39;00msolution\u001b[38;5;241m.\u001b[39mget_current(\u001b[38;5;124m\"\u001b[39m\u001b[38;5;124mR\u001b[39m\u001b[38;5;124m\"\u001b[39m)\u001b[38;5;132;01m:\u001b[39;00m\u001b[38;5;124m2.2f\u001b[39m\u001b[38;5;132;01m}\u001b[39;00m\u001b[38;5;124mA\u001b[39m\u001b[38;5;124m'\u001b[39m)\n",
      "\u001b[0;31mNameError\u001b[0m: name 'load_circuit_from_json' is not defined"
     ]
    }
   ],
   "source": [
    "circuit = load_circuit_from_json('example_circuit_1.json')\n",
    "solution = DCSolution(circuit)\n",
    "print(f'I(R)={solution.get_current(\"R\"):2.2f}A')\n",
    "print(f'V(R)={solution.get_voltage(\"R\"):2.2f}V')\n"
   ]
  }
 ],
 "metadata": {
  "kernelspec": {
   "display_name": "venv",
   "language": "python",
   "name": "python3"
  },
  "language_info": {
   "codemirror_mode": {
    "name": "ipython",
    "version": 3
   },
   "file_extension": ".py",
   "mimetype": "text/x-python",
   "name": "python",
   "nbconvert_exporter": "python",
   "pygments_lexer": "ipython3",
   "version": "3.10.16"
  },
  "orig_nbformat": 4
 },
 "nbformat": 4,
 "nbformat_minor": 2
}
