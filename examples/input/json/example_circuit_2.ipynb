{
 "cells": [
  {
   "attachments": {},
   "cell_type": "markdown",
   "metadata": {},
   "source": [
    "# Example 2"
   ]
  },
  {
   "cell_type": "code",
   "execution_count": 1,
   "metadata": {},
   "outputs": [],
   "source": [
    "from CircuitCalculator.Circuit.dump_load import load\n",
    "from CircuitCalculator.Circuit.solution import dc_solution"
   ]
  },
  {
   "cell_type": "code",
   "execution_count": 2,
   "metadata": {},
   "outputs": [
    {
     "name": "stdout",
     "output_type": "stream",
     "text": [
      "I(R1)=0.01A\n",
      "V(R1)=1.00V\n",
      "I(R2)=0.01A\n",
      "V(R2)=0.50V\n",
      "I(R3)=0.01A\n",
      "V(R3)=0.50V\n",
      "I(V1)=0.00A\n",
      "V(V1)=0.50V\n"
     ]
    }
   ],
   "source": [
    "circuit = load('example_circuit_2.yaml')\n",
    "solution = dc_solution(circuit)\n",
    "print(f'I(R1)={solution.get_current(\"R1\"):2.2f}A')\n",
    "print(f'V(R1)={solution.get_voltage(\"R1\"):2.2f}V')\n",
    "print(f'I(R2)={solution.get_current(\"R2\"):2.2f}A')\n",
    "print(f'V(R2)={solution.get_voltage(\"R2\"):2.2f}V')\n",
    "print(f'I(R3)={solution.get_current(\"R3\"):2.2f}A')\n",
    "print(f'V(R3)={solution.get_voltage(\"R3\"):2.2f}V')\n",
    "print(f'I(V1)={solution.get_current(\"V1\"):2.2f}A')\n",
    "print(f'V(V1)={solution.get_voltage(\"V1\"):2.2f}V')"
   ]
  }
 ],
 "metadata": {
  "kernelspec": {
   "display_name": "venv (3.10.18)",
   "language": "python",
   "name": "python3"
  },
  "language_info": {
   "codemirror_mode": {
    "name": "ipython",
    "version": 3
   },
   "file_extension": ".py",
   "mimetype": "text/x-python",
   "name": "python",
   "nbconvert_exporter": "python",
   "pygments_lexer": "ipython3",
   "version": "3.10.18"
  },
  "orig_nbformat": 4
 },
 "nbformat": 4,
 "nbformat_minor": 2
}
