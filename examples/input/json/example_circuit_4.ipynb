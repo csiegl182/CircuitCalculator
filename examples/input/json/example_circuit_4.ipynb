{
 "cells": [
  {
   "attachments": {},
   "cell_type": "markdown",
   "metadata": {},
   "source": [
    "# Example 4 - Complex Values"
   ]
  },
  {
   "cell_type": "code",
   "execution_count": 1,
   "metadata": {},
   "outputs": [],
   "source": [
    "from CircuitCalculator.Circuit.dump_load import load\n",
    "from CircuitCalculator.Circuit.solution import complex_solution"
   ]
  },
  {
   "cell_type": "code",
   "execution_count": 2,
   "metadata": {},
   "outputs": [
    {
     "name": "stdout",
     "output_type": "stream",
     "text": [
      "V(R)=0.40-0.20jV\n",
      "V(Z)=0.60+0.20jV\n"
     ]
    }
   ],
   "source": [
    "circuit = load('example_circuit_4.json')\n",
    "solution = complex_solution(circuit)\n",
    "print(f'V(R)={solution.get_voltage(\"R\"):2.2f}V')\n",
    "print(f'V(Z)={solution.get_voltage(\"Z\"):2.2f}V')"
   ]
  }
 ],
 "metadata": {
  "kernelspec": {
   "display_name": "venv (3.10.18)",
   "language": "python",
   "name": "python3"
  },
  "language_info": {
   "codemirror_mode": {
    "name": "ipython",
    "version": 3
   },
   "file_extension": ".py",
   "mimetype": "text/x-python",
   "name": "python",
   "nbconvert_exporter": "python",
   "pygments_lexer": "ipython3",
   "version": "3.10.18"
  },
  "orig_nbformat": 4
 },
 "nbformat": 4,
 "nbformat_minor": 2
}
