{
 "cells": [
  {
   "cell_type": "code",
   "execution_count": 2,
   "metadata": {},
   "outputs": [],
   "source": [
    "from CircuitCalculator.Circuit.circuit import Circuit\n",
    "from CircuitCalculator.Circuit import components as cmp\n",
    "from CircuitCalculator.Circuit.impedance import open_circuit_impedance"
   ]
  },
  {
   "cell_type": "code",
   "execution_count": 3,
   "metadata": {},
   "outputs": [
    {
     "name": "stdout",
     "output_type": "stream",
     "text": [
      "R=4.66Ohm\n"
     ]
    }
   ],
   "source": [
    "circuit = Circuit([\n",
    "    cmp.Resistor(R=1, id='R1', nodes=('1', '3')),\n",
    "    cmp.Resistor(R=2, id='R2', nodes=('1', '4')),\n",
    "    cmp.Resistor(R=3, id='R3', nodes=('3', '4')),\n",
    "    cmp.Resistor(R=4, id='R4', nodes=('3', '5')),\n",
    "    cmp.Resistor(R=5, id='R5', nodes=('5', '4')),\n",
    "    cmp.Resistor(R=6, id='R6', nodes=('5', '2')),\n",
    "    cmp.Resistor(R=7, id='R7', nodes=('4', '2'))\n",
    "])\n",
    "\n",
    "R = open_circuit_impedance(circuit, '1', '2')[0].real\n",
    "print(f'{R=:4.2f}Ohm')"
   ]
  }
 ],
 "metadata": {
  "kernelspec": {
   "display_name": "venv-0.10",
   "language": "python",
   "name": "python3"
  },
  "language_info": {
   "codemirror_mode": {
    "name": "ipython",
    "version": 3
   },
   "file_extension": ".py",
   "mimetype": "text/x-python",
   "name": "python",
   "nbconvert_exporter": "python",
   "pygments_lexer": "ipython3",
   "version": "3.11.3"
  },
  "orig_nbformat": 4
 },
 "nbformat": 4,
 "nbformat_minor": 2
}
