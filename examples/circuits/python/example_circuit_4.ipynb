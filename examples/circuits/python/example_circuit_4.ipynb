{
 "cells": [
  {
   "attachments": {},
   "cell_type": "markdown",
   "metadata": {},
   "source": [
    "# Example 4 - Switches"
   ]
  },
  {
   "cell_type": "code",
   "execution_count": 1,
   "metadata": {},
   "outputs": [],
   "source": [
    "from CircuitCalculator.Circuit.circuit import Circuit\n",
    "from CircuitCalculator.Circuit import components as cmp\n",
    "from CircuitCalculator.Circuit.solution import DCSolution"
   ]
  },
  {
   "cell_type": "code",
   "execution_count": 2,
   "metadata": {},
   "outputs": [],
   "source": [
    "R = 5\n",
    "U0 = 1\n",
    "\n",
    "circuit = Circuit([\n",
    "    cmp.VoltageSource(id='Uq', V=U0, nodes=('a', '0')),\n",
    "    cmp.Resistor(id='R1', R=R, nodes=('2', '0')),\n",
    "    cmp.Resistor(id='R2', R=R, nodes=('3', '0')),\n",
    "    cmp.Resistor(id='R3', R=R, nodes=('a', '2')),\n",
    "    cmp.Resistor(id='R4', R=R, nodes=('3', '4')),\n",
    "    cmp.Resistor(id='R5', R=3*R, nodes=('2', '5')),\n",
    "    cmp.Resistor(id='R6', R=3*R, nodes=('4', '0')),\n",
    "    cmp.Resistor(id='Rx', R=R, nodes=('2', '3')),\n",
    "    cmp.Resistor(id='S1', R=1e16, nodes=('5', '4')),\n",
    "    cmp.Resistor(id='S2', R=1e-16, nodes=('4', '0')),\n",
    "    cmp.Ground(nodes=('0',))\n",
    "])\n",
    "solution = DCSolution(circuit)"
   ]
  },
  {
   "cell_type": "code",
   "execution_count": 3,
   "metadata": {},
   "outputs": [
    {
     "name": "stdout",
     "output_type": "stream",
     "text": [
      "R=8.00Ω\n"
     ]
    }
   ],
   "source": [
    "from CircuitCalculator.Circuit.impedance import element_dc_resistance\n",
    "from CircuitCalculator.SimpleCircuit.Display import print_resistance\n",
    "Rdc = element_dc_resistance(circuit, 'Uq')\n",
    "print(f'R={print_resistance(Rdc)}')"
   ]
  },
  {
   "cell_type": "code",
   "execution_count": 4,
   "metadata": {},
   "outputs": [
    {
     "name": "stdout",
     "output_type": "stream",
     "text": [
      "U1/U2=3.00\n"
     ]
    }
   ],
   "source": [
    "from CircuitCalculator.Utils import ScientificFloat\n",
    "U1 = solution.get_voltage('R1')\n",
    "U2 = solution.get_voltage('R2')\n",
    "print(f'U1/U2={ScientificFloat(U1/U2)}')"
   ]
  },
  {
   "cell_type": "code",
   "execution_count": 5,
   "metadata": {},
   "outputs": [
    {
     "name": "stdout",
     "output_type": "stream",
     "text": [
      "Px=P: ↓12.5mW\n"
     ]
    }
   ],
   "source": [
    "from CircuitCalculator.SimpleCircuit.Display import print_active_reactive_power\n",
    "Px = solution.get_power('Rx')\n",
    "print(f'Px={print_active_reactive_power(Px)}')"
   ]
  },
  {
   "cell_type": "code",
   "execution_count": 11,
   "metadata": {},
   "outputs": [],
   "source": [
    "circuit = Circuit([\n",
    "    cmp.VoltageSource(id='Uq', V=U0, nodes=('a', '0')),\n",
    "    cmp.Resistor(id='R1', R=R, nodes=('2', '0')),\n",
    "    cmp.Resistor(id='R2', R=R, nodes=('3', '0')),\n",
    "    cmp.Resistor(id='R3', R=R, nodes=('a', '2')),\n",
    "    cmp.Resistor(id='R4', R=R, nodes=('3', '4')),\n",
    "    cmp.Resistor(id='R5', R=3*R, nodes=('2', '5')),\n",
    "    cmp.Resistor(id='R6', R=3*R, nodes=('4', '0')),\n",
    "    cmp.Resistor(id='Rx', R=R, nodes=('2', '3')),\n",
    "    cmp.Resistor(id='S1', R=1e-6, nodes=('5', '4')),\n",
    "    cmp.Resistor(id='S2', R=1e6, nodes=('4', '0')),\n",
    "    cmp.Ground(nodes=('0',))\n",
    "])\n",
    "solution = DCSolution(circuit)"
   ]
  },
  {
   "cell_type": "code",
   "execution_count": 12,
   "metadata": {},
   "outputs": [
    {
     "name": "stdout",
     "output_type": "stream",
     "text": [
      "R=8.00Ω\n"
     ]
    }
   ],
   "source": [
    "Rdc = element_dc_resistance(circuit, 'Uq')\n",
    "print(f'R={print_resistance(Rdc)}')\n"
   ]
  }
 ],
 "metadata": {
  "kernelspec": {
   "display_name": "venv",
   "language": "python",
   "name": "python3"
  },
  "language_info": {
   "codemirror_mode": {
    "name": "ipython",
    "version": 3
   },
   "file_extension": ".py",
   "mimetype": "text/x-python",
   "name": "python",
   "nbconvert_exporter": "python",
   "pygments_lexer": "ipython3",
   "version": "3.10.11"
  },
  "orig_nbformat": 4
 },
 "nbformat": 4,
 "nbformat_minor": 2
}
