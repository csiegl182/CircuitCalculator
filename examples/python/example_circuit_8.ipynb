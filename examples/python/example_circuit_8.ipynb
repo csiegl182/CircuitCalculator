{
 "cells": [
  {
   "cell_type": "code",
   "execution_count": 1,
   "metadata": {},
   "outputs": [],
   "source": [
    "from CircuitCalculator.Circuit.circuit import Circuit\n",
    "from CircuitCalculator.Circuit import components as ccp\n",
    "from CircuitCalculator.Circuit.solution import DCSolution, ComplexSolution\n",
    "from CircuitCalculator.Utils import ScientificComplex\n",
    "import numpy as np"
   ]
  },
  {
   "cell_type": "code",
   "execution_count": 4,
   "metadata": {},
   "outputs": [
    {
     "name": "stdout",
     "output_type": "stream",
     "text": [
      "P(Vs)=- 5.00W\n",
      "P(R1)=5.00W\n",
      "V(R1)=7.07V\n",
      "I(R1)=707mA\n"
     ]
    }
   ],
   "source": [
    "circuit = Circuit([\n",
    "    ccp.ac_voltage_source(id='Vs', nodes=('1', '0'), V=10, w = 2 * np.pi * 50, phi=0),\n",
    "    ccp.resistor(id='R1', nodes=('1', '0'), R=100)\n",
    "])\n",
    "solution = ComplexSolution(circuit, w = 2 * np.pi * 50, peak_values=False)\n",
    "print(f\"P(Vs)={ScientificComplex(solution.get_power('Vs'), unit='W', use_exp_prefix=True)}\")\n",
    "print(f\"P(R1)={ScientificComplex(solution.get_power('R1'), unit='W', use_exp_prefix=True)}\")\n",
    "print(f\"V(R1)={ScientificComplex(solution.get_voltage('R1'), unit='V', use_exp_prefix=True)}\")\n",
    "print(f\"I(R1)={ScientificComplex(solution.get_current('R1'), unit='A', use_exp_prefix=True)}\")"
   ]
  }
 ],
 "metadata": {
  "kernelspec": {
   "display_name": "venv",
   "language": "python",
   "name": "python3"
  },
  "language_info": {
   "codemirror_mode": {
    "name": "ipython",
    "version": 3
   },
   "file_extension": ".py",
   "mimetype": "text/x-python",
   "name": "python",
   "nbconvert_exporter": "python",
   "pygments_lexer": "ipython3",
   "version": "3.10.14"
  }
 },
 "nbformat": 4,
 "nbformat_minor": 2
}
