{
 "cells": [
  {
   "cell_type": "markdown",
   "metadata": {},
   "source": [
    "# Example 10 - Switches"
   ]
  },
  {
   "cell_type": "code",
   "execution_count": 1,
   "metadata": {},
   "outputs": [],
   "source": [
    "from CircuitCalculator.Circuit.circuit import Circuit\n",
    "from CircuitCalculator.Circuit.Components import components as ccp\n",
    "from CircuitCalculator.Circuit.solution import dc_solution\n",
    "from CircuitCalculator.Display.ScientificFloat import ScientificComplex"
   ]
  },
  {
   "cell_type": "code",
   "execution_count": 2,
   "metadata": {},
   "outputs": [
    {
     "name": "stdout",
     "output_type": "stream",
     "text": [
      "V(R1)=500mV\n",
      "V(R2)=500mV\n"
     ]
    }
   ],
   "source": [
    "circuit = Circuit([\n",
    "    ccp.dc_voltage_source(id='Vs', nodes=('1', '0'), V=1),\n",
    "    ccp.resistor(id='R1', nodes=('1', '2'), R=1),\n",
    "    ccp.resistor(id='R2', nodes=('2', '0'), R=1),\n",
    "    ccp.switch(id='S1', nodes=('2', '0'), state='open'),\n",
    "])\n",
    "solution = dc_solution(circuit)\n",
    "print(f\"V(R1)={ScientificComplex(solution.get_voltage('R1'), unit='V', use_exp_prefix=True)}\")\n",
    "print(f\"V(R2)={ScientificComplex(solution.get_voltage('R2'), unit='V', use_exp_prefix=True)}\")"
   ]
  },
  {
   "cell_type": "code",
   "execution_count": 3,
   "metadata": {},
   "outputs": [
    {
     "name": "stdout",
     "output_type": "stream",
     "text": [
      "V(R1)=1.00V\n",
      "V(R2)=0.000V\n"
     ]
    }
   ],
   "source": [
    "circuit['S1'].value['state'] = 'closed'\n",
    "solution = dc_solution(circuit)\n",
    "print(f\"V(R1)={ScientificComplex(solution.get_voltage('R1'), unit='V', use_exp_prefix=True)}\")\n",
    "print(f\"V(R2)={ScientificComplex(solution.get_voltage('R2'), unit='V', use_exp_prefix=True)}\")"
   ]
  }
 ],
 "metadata": {
  "kernelspec": {
   "display_name": "venv (3.10.18)",
   "language": "python",
   "name": "python3"
  },
  "language_info": {
   "codemirror_mode": {
    "name": "ipython",
    "version": 3
   },
   "file_extension": ".py",
   "mimetype": "text/x-python",
   "name": "python",
   "nbconvert_exporter": "python",
   "pygments_lexer": "ipython3",
   "version": "3.10.18"
  }
 },
 "nbformat": 4,
 "nbformat_minor": 2
}
