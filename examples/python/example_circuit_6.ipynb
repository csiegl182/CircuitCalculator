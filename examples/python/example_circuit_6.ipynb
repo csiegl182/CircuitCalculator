{
 "cells": [
  {
   "cell_type": "markdown",
   "metadata": {},
   "source": [
    "# Example 6 - Calculate Open Circuit Resistor and Element Impedance"
   ]
  },
  {
   "cell_type": "code",
   "execution_count": 1,
   "metadata": {},
   "outputs": [],
   "source": [
    "from CircuitCalculator.Circuit.circuit import Circuit\n",
    "from CircuitCalculator.Circuit.Components import components as cp\n",
    "from CircuitCalculator.Circuit.impedance import open_circuit_impedance, element_dc_resistance"
   ]
  },
  {
   "cell_type": "code",
   "execution_count": 2,
   "metadata": {},
   "outputs": [
    {
     "name": "stdout",
     "output_type": "stream",
     "text": [
      "R=4.66Ohm\n"
     ]
    }
   ],
   "source": [
    "circuit = Circuit([\n",
    "    cp.resistor(R=1, id='R1', nodes=('1', '3')),\n",
    "    cp.resistor(R=2, id='R2', nodes=('1', '4')),\n",
    "    cp.resistor(R=3, id='R3', nodes=('3', '4')),\n",
    "    cp.resistor(R=4, id='R4', nodes=('3', '5')),\n",
    "    cp.resistor(R=5, id='R5', nodes=('5', '4')),\n",
    "    cp.resistor(R=6, id='R6', nodes=('5', '2')),\n",
    "    cp.resistor(R=7, id='R7', nodes=('4', '2'))\n",
    "])\n",
    "\n",
    "R = open_circuit_impedance(circuit, '1', '2')[0].real\n",
    "print(f'{R=:4.2f}Ohm')"
   ]
  },
  {
   "cell_type": "code",
   "execution_count": 3,
   "metadata": {},
   "outputs": [
    {
     "name": "stdout",
     "output_type": "stream",
     "text": [
      "R=2.00Ohm\n"
     ]
    }
   ],
   "source": [
    "circuit = Circuit([\n",
    "    cp.ac_voltage_source(V=1, id='V', nodes=('1', '0')),\n",
    "    cp.resistor(R=1, id='R1', nodes=('1', '2')),\n",
    "    cp.resistor(R=2, id='R2', nodes=('2', '0')),\n",
    "])\n",
    "\n",
    "R = open_circuit_impedance(circuit, '2', '0')[0].real\n",
    "print(f'{R=:4.2f}Ohm')"
   ]
  },
  {
   "cell_type": "code",
   "execution_count": 6,
   "metadata": {},
   "outputs": [
    {
     "name": "stdout",
     "output_type": "stream",
     "text": [
      "R=2.00Ohm\n"
     ]
    }
   ],
   "source": [
    "circuit = Circuit([\n",
    "    cp.ac_voltage_source(V=1, id='V', nodes=('1', '0')),\n",
    "    cp.resistor(R=1, id='R1', nodes=('1', '2')),\n",
    "    cp.resistor(R=2, id='R2', nodes=('2', '0')),\n",
    "    cp.capacitor(C=2, id='C', nodes=('2', '0')),\n",
    "])\n",
    "\n",
    "R = element_dc_resistance(circuit, 'C')\n",
    "print(f'{R=:4.2f}Ohm')"
   ]
  }
 ],
 "metadata": {
  "kernelspec": {
   "display_name": "venv",
   "language": "python",
   "name": "python3"
  },
  "language_info": {
   "codemirror_mode": {
    "name": "ipython",
    "version": 3
   },
   "file_extension": ".py",
   "mimetype": "text/x-python",
   "name": "python",
   "nbconvert_exporter": "python",
   "pygments_lexer": "ipython3",
   "version": "3.10.16"
  },
  "orig_nbformat": 4
 },
 "nbformat": 4,
 "nbformat_minor": 2
}
