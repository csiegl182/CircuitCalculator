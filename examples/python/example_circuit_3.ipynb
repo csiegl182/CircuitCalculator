{
 "cells": [
  {
   "attachments": {},
   "cell_type": "markdown",
   "metadata": {},
   "source": [
    "# Example 3 - Power Flow"
   ]
  },
  {
   "cell_type": "code",
   "execution_count": 1,
   "metadata": {},
   "outputs": [],
   "source": [
    "from CircuitCalculator.Circuit.circuit import Circuit\n",
    "from CircuitCalculator.Circuit.Components import components as ccp\n",
    "from CircuitCalculator.Circuit.solution import dc_solution\n",
    "from CircuitCalculator.Display.ScientificFloat import ScientificFloat"
   ]
  },
  {
   "cell_type": "code",
   "execution_count": 2,
   "metadata": {},
   "outputs": [
    {
     "name": "stdout",
     "output_type": "stream",
     "text": [
      "V(R1)=2.00V\n",
      "V(Uq)=6.00V\n",
      "I(R1)=200mA\n",
      "I(Uq)=-200mA\n",
      "V(R2)=4.00V\n",
      "I(R2)=200mA\n",
      "P(Uq)=-1.20W\n",
      "P(R1)=400mW\n",
      "P(R2)=800mW\n"
     ]
    }
   ],
   "source": [
    "circuit = Circuit([\n",
    "    ccp.dc_voltage_source(id='Uq', V=6, nodes=('1', '0')),\n",
    "    ccp.resistor(id='R1', R=10, nodes=('1', '2')),\n",
    "    ccp.resistor(id='R2', R=20, nodes=('2', '0')),\n",
    "    ccp.ground(nodes=('0',))\n",
    "])\n",
    "solution = dc_solution(circuit)\n",
    "print(f\"V(R1)={ScientificFloat(solution.get_voltage('R1'), unit='V', use_exp_prefix=True)}\")\n",
    "print(f\"V(Uq)={ScientificFloat(solution.get_voltage('Uq'), unit='V', use_exp_prefix=True)}\")\n",
    "print(f\"I(R1)={ScientificFloat(solution.get_current('R1'), unit='A', use_exp_prefix=True)}\")\n",
    "print(f\"I(Uq)={ScientificFloat(solution.get_current('Uq'), unit='A', use_exp_prefix=True)}\")\n",
    "print(f\"V(R2)={ScientificFloat(solution.get_voltage('R2'), unit='V', use_exp_prefix=True)}\")\n",
    "print(f\"I(R2)={ScientificFloat(solution.get_current('R2'), unit='A', use_exp_prefix=True)}\")\n",
    "print(f\"P(Uq)={ScientificFloat(solution.get_power('Uq'), unit='W', use_exp_prefix=True)}\")\n",
    "print(f\"P(R1)={ScientificFloat(solution.get_power('R1'), unit='W', use_exp_prefix=True)}\")\n",
    "print(f\"P(R2)={ScientificFloat(solution.get_power('R2'), unit='W', use_exp_prefix=True)}\")"
   ]
  }
 ],
 "metadata": {
  "kernelspec": {
   "display_name": "venv",
   "language": "python",
   "name": "python3"
  },
  "language_info": {
   "codemirror_mode": {
    "name": "ipython",
    "version": 3
   },
   "file_extension": ".py",
   "mimetype": "text/x-python",
   "name": "python",
   "nbconvert_exporter": "python",
   "pygments_lexer": "ipython3",
   "version": "3.10.18"
  },
  "orig_nbformat": 4
 },
 "nbformat": 4,
 "nbformat_minor": 2
}
