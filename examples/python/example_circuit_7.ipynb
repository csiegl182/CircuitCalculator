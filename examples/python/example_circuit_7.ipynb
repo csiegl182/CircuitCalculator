{
 "cells": [
  {
   "cell_type": "markdown",
   "metadata": {},
   "source": [
    "# Example 7"
   ]
  },
  {
   "cell_type": "code",
   "execution_count": 2,
   "metadata": {},
   "outputs": [],
   "source": [
    "from CircuitCalculator.Circuit.circuit import Circuit\n",
    "from CircuitCalculator.Circuit.Components import components as ccp\n",
    "from CircuitCalculator.Circuit.solution import DCSolution\n",
    "from CircuitCalculator.Display.ScientificFloat import ScientificComplex"
   ]
  },
  {
   "cell_type": "code",
   "execution_count": 3,
   "metadata": {},
   "outputs": [
    {
     "name": "stdout",
     "output_type": "stream",
     "text": [
      "P(Vs)=- 10.0W\n",
      "P(L1)=10.0W\n"
     ]
    }
   ],
   "source": [
    "circuit = Circuit([\n",
    "    ccp.dc_voltage_source(id='Vs', nodes=('1', '0'), V=10),\n",
    "    ccp.resistive_load(id='L1', nodes=('1', '0'), P=10, V_ref=10)\n",
    "])\n",
    "solution = DCSolution(circuit)\n",
    "print(f\"P(Vs)={ScientificComplex(solution.get_power('Vs'), unit='W', use_exp_prefix=True)}\")\n",
    "print(f\"P(L1)={ScientificComplex(solution.get_power('L1'), unit='W', use_exp_prefix=True)}\")"
   ]
  }
 ],
 "metadata": {
  "kernelspec": {
   "display_name": "venv",
   "language": "python",
   "name": "python3"
  },
  "language_info": {
   "codemirror_mode": {
    "name": "ipython",
    "version": 3
   },
   "file_extension": ".py",
   "mimetype": "text/x-python",
   "name": "python",
   "nbconvert_exporter": "python",
   "pygments_lexer": "ipython3",
   "version": "3.10.18"
  }
 },
 "nbformat": 4,
 "nbformat_minor": 2
}
