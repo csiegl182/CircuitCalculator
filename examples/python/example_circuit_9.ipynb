{
 "cells": [
  {
   "cell_type": "markdown",
   "metadata": {},
   "source": [
    "# Example 9 - Hanging Elements"
   ]
  },
  {
   "cell_type": "code",
   "execution_count": 1,
   "metadata": {},
   "outputs": [],
   "source": [
    "from CircuitCalculator.Circuit.circuit import Circuit\n",
    "from CircuitCalculator.Circuit.Components import components as ccp\n",
    "from CircuitCalculator.Circuit.solution import dc_solution\n",
    "from CircuitCalculator.Display.ScientificFloat import ScientificComplex\n",
    "import numpy as np"
   ]
  },
  {
   "cell_type": "code",
   "execution_count": 2,
   "metadata": {},
   "outputs": [
    {
     "name": "stdout",
     "output_type": "stream",
     "text": [
      "P(Vs)=- 500mW\n",
      "P(R1)=250mW\n",
      "V(R1)=500mV\n",
      "I(R1)=500mA\n",
      "P(R2)=250mW\n",
      "V(R2)=500mV\n",
      "I(R2)=500mA\n",
      "V(R3)=NaN\n",
      "I(R3)=NaN\n",
      "P(R3)=NaN\n"
     ]
    }
   ],
   "source": [
    "circuit = Circuit([\n",
    "    ccp.dc_voltage_source(id='Vs', nodes=('1', '0'), V=1),\n",
    "    ccp.resistor(id='R1', nodes=('1', '2'), R=1),\n",
    "    ccp.resistor(id='R2', nodes=('2', '0'), R=1),\n",
    "    ccp.resistor(id='R3', nodes=('a', 'b'), R=1)\n",
    "])\n",
    "solution = dc_solution(circuit)\n",
    "print(f\"P(Vs)={ScientificComplex(solution.get_power('Vs'), unit='W', use_exp_prefix=True)}\")\n",
    "print(f\"P(R1)={ScientificComplex(solution.get_power('R1'), unit='W', use_exp_prefix=True)}\")\n",
    "print(f\"V(R1)={ScientificComplex(solution.get_voltage('R1'), unit='V', use_exp_prefix=True)}\")\n",
    "print(f\"I(R1)={ScientificComplex(solution.get_current('R1'), unit='A', use_exp_prefix=True)}\")\n",
    "print(f\"P(R2)={ScientificComplex(solution.get_power('R2'), unit='W', use_exp_prefix=True)}\")\n",
    "print(f\"V(R2)={ScientificComplex(solution.get_voltage('R2'), unit='V', use_exp_prefix=True)}\")\n",
    "print(f\"I(R2)={ScientificComplex(solution.get_current('R2'), unit='A', use_exp_prefix=True)}\")\n",
    "print(f\"V(R3)={ScientificComplex(solution.get_voltage('R3'), unit='V', use_exp_prefix=True)}\")\n",
    "print(f\"I(R3)={ScientificComplex(solution.get_current('R3'), unit='A', use_exp_prefix=True)}\")\n",
    "print(f\"P(R3)={ScientificComplex(solution.get_power('R3'), unit='W', use_exp_prefix=True)}\")"
   ]
  }
 ],
 "metadata": {
  "kernelspec": {
   "display_name": "venv (3.10.18)",
   "language": "python",
   "name": "python3"
  },
  "language_info": {
   "codemirror_mode": {
    "name": "ipython",
    "version": 3
   },
   "file_extension": ".py",
   "mimetype": "text/x-python",
   "name": "python",
   "nbconvert_exporter": "python",
   "pygments_lexer": "ipython3",
   "version": "3.10.18"
  }
 },
 "nbformat": 4,
 "nbformat_minor": 2
}
