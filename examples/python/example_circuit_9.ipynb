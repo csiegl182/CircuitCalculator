{
 "cells": [
  {
   "cell_type": "markdown",
   "metadata": {},
   "source": [
    "# Example 9 - Hanging Elements"
   ]
  },
  {
   "cell_type": "code",
   "execution_count": 1,
   "metadata": {},
   "outputs": [],
   "source": [
    "from CircuitCalculator.Circuit.circuit import Circuit\n",
    "from CircuitCalculator.Circuit.Components import components as ccp\n",
    "from CircuitCalculator.Circuit.solution import DCSolution, ComplexSolution\n",
    "from CircuitCalculator.Display.ScientificFloat import ScientificComplex\n",
    "import numpy as np"
   ]
  },
  {
   "cell_type": "code",
   "execution_count": 2,
   "metadata": {},
   "outputs": [
    {
     "name": "stdout",
     "output_type": "stream",
     "text": [
      "P(Vs)=- 500mW\n",
      "P(R1)=250mW\n",
      "V(R1)=500mV\n",
      "I(R1)=500mA\n",
      "P(R2)=250mW\n",
      "V(R2)=500mV\n",
      "I(R2)=500mA\n",
      "V(R3)=- NaN\n"
     ]
    },
    {
     "ename": "KeyError",
     "evalue": "'a'",
     "output_type": "error",
     "traceback": [
      "\u001b[0;31m---------------------------------------------------------------------------\u001b[0m",
      "\u001b[0;31mKeyError\u001b[0m                                  Traceback (most recent call last)",
      "Cell \u001b[0;32mIn[2], line 16\u001b[0m\n\u001b[1;32m     14\u001b[0m \u001b[38;5;28mprint\u001b[39m(\u001b[38;5;124mf\u001b[39m\u001b[38;5;124m\"\u001b[39m\u001b[38;5;124mI(R2)=\u001b[39m\u001b[38;5;132;01m{\u001b[39;00mScientificComplex(solution\u001b[38;5;241m.\u001b[39mget_current(\u001b[38;5;124m'\u001b[39m\u001b[38;5;124mR2\u001b[39m\u001b[38;5;124m'\u001b[39m),\u001b[38;5;250m \u001b[39munit\u001b[38;5;241m=\u001b[39m\u001b[38;5;124m'\u001b[39m\u001b[38;5;124mA\u001b[39m\u001b[38;5;124m'\u001b[39m,\u001b[38;5;250m \u001b[39muse_exp_prefix\u001b[38;5;241m=\u001b[39m\u001b[38;5;28;01mTrue\u001b[39;00m)\u001b[38;5;132;01m}\u001b[39;00m\u001b[38;5;124m\"\u001b[39m)\n\u001b[1;32m     15\u001b[0m \u001b[38;5;28mprint\u001b[39m(\u001b[38;5;124mf\u001b[39m\u001b[38;5;124m\"\u001b[39m\u001b[38;5;124mV(R3)=\u001b[39m\u001b[38;5;132;01m{\u001b[39;00mScientificComplex(solution\u001b[38;5;241m.\u001b[39mget_voltage(\u001b[38;5;124m'\u001b[39m\u001b[38;5;124mR3\u001b[39m\u001b[38;5;124m'\u001b[39m),\u001b[38;5;250m \u001b[39munit\u001b[38;5;241m=\u001b[39m\u001b[38;5;124m'\u001b[39m\u001b[38;5;124mV\u001b[39m\u001b[38;5;124m'\u001b[39m,\u001b[38;5;250m \u001b[39muse_exp_prefix\u001b[38;5;241m=\u001b[39m\u001b[38;5;28;01mTrue\u001b[39;00m)\u001b[38;5;132;01m}\u001b[39;00m\u001b[38;5;124m\"\u001b[39m)\n\u001b[0;32m---> 16\u001b[0m \u001b[38;5;28mprint\u001b[39m(\u001b[38;5;124mf\u001b[39m\u001b[38;5;124m\"\u001b[39m\u001b[38;5;124mI(R3)=\u001b[39m\u001b[38;5;132;01m{\u001b[39;00mScientificComplex(\u001b[43msolution\u001b[49m\u001b[38;5;241;43m.\u001b[39;49m\u001b[43mget_current\u001b[49m\u001b[43m(\u001b[49m\u001b[38;5;124;43m'\u001b[39;49m\u001b[38;5;124;43mR3\u001b[39;49m\u001b[38;5;124;43m'\u001b[39;49m\u001b[43m)\u001b[49m,\u001b[38;5;250m \u001b[39munit\u001b[38;5;241m=\u001b[39m\u001b[38;5;124m'\u001b[39m\u001b[38;5;124mA\u001b[39m\u001b[38;5;124m'\u001b[39m,\u001b[38;5;250m \u001b[39muse_exp_prefix\u001b[38;5;241m=\u001b[39m\u001b[38;5;28;01mTrue\u001b[39;00m)\u001b[38;5;132;01m}\u001b[39;00m\u001b[38;5;124m\"\u001b[39m)\n\u001b[1;32m     17\u001b[0m \u001b[38;5;28mprint\u001b[39m(\u001b[38;5;124mf\u001b[39m\u001b[38;5;124m\"\u001b[39m\u001b[38;5;124mP(R3)=\u001b[39m\u001b[38;5;132;01m{\u001b[39;00mScientificComplex(solution\u001b[38;5;241m.\u001b[39mget_power(\u001b[38;5;124m'\u001b[39m\u001b[38;5;124mR3\u001b[39m\u001b[38;5;124m'\u001b[39m),\u001b[38;5;250m \u001b[39munit\u001b[38;5;241m=\u001b[39m\u001b[38;5;124m'\u001b[39m\u001b[38;5;124mW\u001b[39m\u001b[38;5;124m'\u001b[39m,\u001b[38;5;250m \u001b[39muse_exp_prefix\u001b[38;5;241m=\u001b[39m\u001b[38;5;28;01mTrue\u001b[39;00m)\u001b[38;5;132;01m}\u001b[39;00m\u001b[38;5;124m\"\u001b[39m)\n",
      "File \u001b[0;32m~/Workspace/CircuitCalculator/src/CircuitCalculator/Circuit/solution.py:71\u001b[0m, in \u001b[0;36mDCSolution.get_current\u001b[0;34m(self, component_id)\u001b[0m\n\u001b[1;32m     70\u001b[0m \u001b[38;5;28;01mdef\u001b[39;00m \u001b[38;5;21mget_current\u001b[39m(\u001b[38;5;28mself\u001b[39m, component_id: \u001b[38;5;28mstr\u001b[39m) \u001b[38;5;241m-\u001b[39m\u001b[38;5;241m>\u001b[39m \u001b[38;5;28mfloat\u001b[39m:\n\u001b[0;32m---> 71\u001b[0m     \u001b[38;5;28;01mreturn\u001b[39;00m \u001b[38;5;28;43mself\u001b[39;49m\u001b[38;5;241;43m.\u001b[39;49m\u001b[43m_solution\u001b[49m\u001b[38;5;241;43m.\u001b[39;49m\u001b[43mget_current\u001b[49m\u001b[43m(\u001b[49m\u001b[43mcomponent_id\u001b[49m\u001b[43m)\u001b[49m\u001b[38;5;241m.\u001b[39mreal\n",
      "File \u001b[0;32m~/Workspace/CircuitCalculator/src/CircuitCalculator/Network/NodalAnalysis/bias_point_analysis.py:45\u001b[0m, in \u001b[0;36mNodalAnalysisBiasPointSolution.get_current\u001b[0;34m(self, branch_id)\u001b[0m\n\u001b[1;32m     43\u001b[0m     \u001b[38;5;28;01mreturn\u001b[39;00m \u001b[38;5;241m-\u001b[39m (\u001b[38;5;28mself\u001b[39m\u001b[38;5;241m.\u001b[39mnetwork[branch_id]\u001b[38;5;241m.\u001b[39melement\u001b[38;5;241m.\u001b[39mI \u001b[38;5;241m+\u001b[39m \u001b[38;5;28mself\u001b[39m\u001b[38;5;241m.\u001b[39mget_voltage(branch_id)\u001b[38;5;241m/\u001b[39m\u001b[38;5;28mself\u001b[39m\u001b[38;5;241m.\u001b[39mnetwork[branch_id]\u001b[38;5;241m.\u001b[39melement\u001b[38;5;241m.\u001b[39mZ)\n\u001b[1;32m     44\u001b[0m branch \u001b[38;5;241m=\u001b[39m \u001b[38;5;28mself\u001b[39m\u001b[38;5;241m.\u001b[39mnetwork[branch_id]\n\u001b[0;32m---> 45\u001b[0m \u001b[38;5;28;01mreturn\u001b[39;00m \u001b[38;5;28;43mself\u001b[39;49m\u001b[38;5;241;43m.\u001b[39;49m\u001b[43mget_voltage\u001b[49m\u001b[43m(\u001b[49m\u001b[43mbranch_id\u001b[49m\u001b[43m)\u001b[49m\u001b[38;5;241m/\u001b[39mbranch\u001b[38;5;241m.\u001b[39melement\u001b[38;5;241m.\u001b[39mZ\n",
      "File \u001b[0;32m~/Workspace/CircuitCalculator/src/CircuitCalculator/Network/NodalAnalysis/solution.py:47\u001b[0m, in \u001b[0;36mNodalAnalysisSolution.get_voltage\u001b[0;34m(self, branch_id)\u001b[0m\n\u001b[1;32m     46\u001b[0m \u001b[38;5;28;01mdef\u001b[39;00m \u001b[38;5;21mget_voltage\u001b[39m(\u001b[38;5;28mself\u001b[39m, branch_id: \u001b[38;5;28mstr\u001b[39m) \u001b[38;5;241m-\u001b[39m\u001b[38;5;241m>\u001b[39m Any:\n\u001b[0;32m---> 47\u001b[0m     phi1 \u001b[38;5;241m=\u001b[39m \u001b[38;5;28;43mself\u001b[39;49m\u001b[38;5;241;43m.\u001b[39;49m\u001b[43mget_potential\u001b[49m\u001b[43m(\u001b[49m\u001b[38;5;28;43mself\u001b[39;49m\u001b[38;5;241;43m.\u001b[39;49m\u001b[43mnetwork\u001b[49m\u001b[43m[\u001b[49m\u001b[43mbranch_id\u001b[49m\u001b[43m]\u001b[49m\u001b[38;5;241;43m.\u001b[39;49m\u001b[43mnode1\u001b[49m\u001b[43m)\u001b[49m\n\u001b[1;32m     48\u001b[0m     phi2 \u001b[38;5;241m=\u001b[39m \u001b[38;5;28mself\u001b[39m\u001b[38;5;241m.\u001b[39mget_potential(\u001b[38;5;28mself\u001b[39m\u001b[38;5;241m.\u001b[39mnetwork[branch_id]\u001b[38;5;241m.\u001b[39mnode2)\n\u001b[1;32m     49\u001b[0m     \u001b[38;5;28;01mreturn\u001b[39;00m phi1\u001b[38;5;241m-\u001b[39mphi2\n",
      "File \u001b[0;32m~/Workspace/CircuitCalculator/src/CircuitCalculator/Network/NodalAnalysis/bias_point_analysis.py:35\u001b[0m, in \u001b[0;36mNodalAnalysisBiasPointSolution.get_potential\u001b[0;34m(self, node_id)\u001b[0m\n\u001b[1;32m     33\u001b[0m \u001b[38;5;28;01mif\u001b[39;00m node_id \u001b[38;5;241m==\u001b[39m \u001b[38;5;28mself\u001b[39m\u001b[38;5;241m.\u001b[39mnetwork\u001b[38;5;241m.\u001b[39mreference_node_label:\n\u001b[1;32m     34\u001b[0m     \u001b[38;5;28;01mreturn\u001b[39;00m \u001b[38;5;241m0\u001b[39m\n\u001b[0;32m---> 35\u001b[0m \u001b[38;5;28;01mreturn\u001b[39;00m \u001b[38;5;28mself\u001b[39m\u001b[38;5;241m.\u001b[39m_potentials[\u001b[38;5;28;43mself\u001b[39;49m\u001b[38;5;241;43m.\u001b[39;49m\u001b[43m_node_mapping\u001b[49m\u001b[43m[\u001b[49m\u001b[43mnode_id\u001b[49m\u001b[43m]\u001b[49m]\n",
      "File \u001b[0;32m~/Workspace/CircuitCalculator/src/CircuitCalculator/Network/NodalAnalysis/label_mapping.py:17\u001b[0m, in \u001b[0;36mLabelMapping.__getitem__\u001b[0;34m(self, label)\u001b[0m\n\u001b[1;32m     16\u001b[0m \u001b[38;5;28;01mdef\u001b[39;00m \u001b[38;5;21m__getitem__\u001b[39m(\u001b[38;5;28mself\u001b[39m, label: \u001b[38;5;28mstr\u001b[39m) \u001b[38;5;241m-\u001b[39m\u001b[38;5;241m>\u001b[39m \u001b[38;5;28mint\u001b[39m:\n\u001b[0;32m---> 17\u001b[0m     \u001b[38;5;28;01mreturn\u001b[39;00m \u001b[38;5;28;43mself\u001b[39;49m\u001b[38;5;241;43m.\u001b[39;49m\u001b[43mmapping\u001b[49m\u001b[43m[\u001b[49m\u001b[43mlabel\u001b[49m\u001b[43m]\u001b[49m\n",
      "\u001b[0;31mKeyError\u001b[0m: 'a'"
     ]
    }
   ],
   "source": [
    "circuit = Circuit([\n",
    "    ccp.dc_voltage_source(id='Vs', nodes=('1', '0'), V=1),\n",
    "    ccp.resistor(id='R1', nodes=('1', '2'), R=1),\n",
    "    ccp.resistor(id='R2', nodes=('2', '0'), R=1),\n",
    "    ccp.resistor(id='R3', nodes=('a', 'b'), R=1)\n",
    "])\n",
    "solution = DCSolution(circuit)\n",
    "print(f\"P(Vs)={ScientificComplex(solution.get_power('Vs'), unit='W', use_exp_prefix=True)}\")\n",
    "print(f\"P(R1)={ScientificComplex(solution.get_power('R1'), unit='W', use_exp_prefix=True)}\")\n",
    "print(f\"V(R1)={ScientificComplex(solution.get_voltage('R1'), unit='V', use_exp_prefix=True)}\")\n",
    "print(f\"I(R1)={ScientificComplex(solution.get_current('R1'), unit='A', use_exp_prefix=True)}\")\n",
    "print(f\"P(R2)={ScientificComplex(solution.get_power('R2'), unit='W', use_exp_prefix=True)}\")\n",
    "print(f\"V(R2)={ScientificComplex(solution.get_voltage('R2'), unit='V', use_exp_prefix=True)}\")\n",
    "print(f\"I(R2)={ScientificComplex(solution.get_current('R2'), unit='A', use_exp_prefix=True)}\")\n",
    "print(f\"V(R3)={ScientificComplex(solution.get_voltage('R3'), unit='V', use_exp_prefix=True)}\")\n",
    "print(f\"I(R3)={ScientificComplex(solution.get_current('R3'), unit='A', use_exp_prefix=True)}\")\n",
    "print(f\"P(R3)={ScientificComplex(solution.get_power('R3'), unit='W', use_exp_prefix=True)}\")"
   ]
  }
 ],
 "metadata": {
  "kernelspec": {
   "display_name": "venv",
   "language": "python",
   "name": "python3"
  },
  "language_info": {
   "codemirror_mode": {
    "name": "ipython",
    "version": 3
   },
   "file_extension": ".py",
   "mimetype": "text/x-python",
   "name": "python",
   "nbconvert_exporter": "python",
   "pygments_lexer": "ipython3",
   "version": "3.10.18"
  }
 },
 "nbformat": 4,
 "nbformat_minor": 2
}
