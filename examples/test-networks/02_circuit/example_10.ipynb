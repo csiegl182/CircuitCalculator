{
 "cells": [
  {
   "cell_type": "markdown",
   "metadata": {},
   "source": [
    "# Example 10"
   ]
  },
  {
   "cell_type": "code",
   "execution_count": 1,
   "metadata": {},
   "outputs": [],
   "source": [
    "from CircuitCalculator.Circuit.circuit import Circuit\n",
    "import CircuitCalculator.Circuit.Components.components as ccp\n",
    "from CircuitCalculator.Circuit.solution import dc_solution"
   ]
  },
  {
   "cell_type": "code",
   "execution_count": 2,
   "metadata": {},
   "outputs": [],
   "source": [
    "circuit = Circuit([\n",
    "    ccp.dc_voltage_source(V=1, id='Vs1', nodes=('1', '0')),\n",
    "    ccp.dc_voltage_source(V=2, id='Vs2', nodes=('2', '1')),\n",
    "    ccp.dc_current_source(I=0.1, id='Is', nodes=('3', '4')),\n",
    "    ccp.resistor(R=10, id='R1', nodes=('1', '0')),\n",
    "    ccp.resistor(R=20, id='R2', nodes=('2', '1')),\n",
    "    ccp.resistor(R=30, id='R3', nodes=('3', '0')),\n",
    "    ccp.resistor(R=40, id='R4', nodes=('2', '4')),\n",
    "    ccp.resistor(R=50, id='R5', nodes=('2', '3'))\n",
    "])"
   ]
  },
  {
   "cell_type": "code",
   "execution_count": 3,
   "metadata": {},
   "outputs": [
    {
     "name": "stdout",
     "output_type": "stream",
     "text": [
      "I(Vs1)=-0.08A\n",
      "I(Vs2)=-0.07A\n",
      "I(Is)=0.10A\n",
      "I(R1)=0.10A\n",
      "I(R2)=0.10A\n",
      "I(R3)=-0.02A\n",
      "I(R4)=-0.10A\n",
      "I(R5)=0.07A\n",
      "V(Vs1)=1.00V\n",
      "V(Vs2)=2.00V\n",
      "V(Is)=-7.75V\n",
      "V(R1)=1.00V\n",
      "V(R2)=2.00V\n",
      "V(R3)=-0.75V\n",
      "V(R4)=-4.00V\n",
      "V(R5)=3.75V\n"
     ]
    }
   ],
   "source": [
    "solution = dc_solution(circuit)\n",
    "print(f'I(Vs1)={solution.get_current(\"Vs1\"):2.2f}A')\n",
    "print(f'I(Vs2)={solution.get_current(\"Vs2\"):2.2f}A')\n",
    "print(f'I(Is)={solution.get_current(\"Is\"):2.2f}A')\n",
    "print(f'I(R1)={solution.get_current(\"R1\"):2.2f}A')\n",
    "print(f'I(R2)={solution.get_current(\"R2\"):2.2f}A')\n",
    "print(f'I(R3)={solution.get_current(\"R3\"):2.2f}A')\n",
    "print(f'I(R4)={solution.get_current(\"R4\"):2.2f}A')\n",
    "print(f'I(R5)={solution.get_current(\"R5\"):2.2f}A')\n",
    "print(f'V(Vs1)={solution.get_voltage(\"Vs1\"):2.2f}V')\n",
    "print(f'V(Vs2)={solution.get_voltage(\"Vs2\"):2.2f}V')\n",
    "print(f'V(Is)={solution.get_voltage(\"Is\"):2.2f}V')\n",
    "print(f'V(R1)={solution.get_voltage(\"R1\"):2.2f}V')\n",
    "print(f'V(R2)={solution.get_voltage(\"R2\"):2.2f}V')\n",
    "print(f'V(R3)={solution.get_voltage(\"R3\"):2.2f}V')\n",
    "print(f'V(R4)={solution.get_voltage(\"R4\"):2.2f}V')\n",
    "print(f'V(R5)={solution.get_voltage(\"R5\"):2.2f}V')"
   ]
  }
 ],
 "metadata": {
  "kernelspec": {
   "display_name": "venv",
   "language": "python",
   "name": "python3"
  },
  "language_info": {
   "codemirror_mode": {
    "name": "ipython",
    "version": 3
   },
   "file_extension": ".py",
   "mimetype": "text/x-python",
   "name": "python",
   "nbconvert_exporter": "python",
   "pygments_lexer": "ipython3",
   "version": "3.10.18"
  },
  "orig_nbformat": 4
 },
 "nbformat": 4,
 "nbformat_minor": 2
}
