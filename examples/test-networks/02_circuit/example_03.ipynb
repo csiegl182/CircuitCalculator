{
 "cells": [
  {
   "cell_type": "markdown",
   "metadata": {},
   "source": [
    "# Example 3"
   ]
  },
  {
   "cell_type": "code",
   "execution_count": 1,
   "metadata": {},
   "outputs": [],
   "source": [
    "from CircuitCalculator.Circuit.circuit import Circuit\n",
    "import CircuitCalculator.Circuit.Components.components as ccp\n",
    "from CircuitCalculator.Circuit.solution import dc_solution"
   ]
  },
  {
   "cell_type": "code",
   "execution_count": 2,
   "metadata": {},
   "outputs": [],
   "source": [
    "circuit = Circuit([\n",
    "    ccp.dc_current_source(I=1, G=0.01, id='Is', nodes=('0', '1')),\n",
    "    ccp.resistor(R=10, id='R1', nodes=('1', '2')),\n",
    "    ccp.resistor(R=20, id='R2', nodes=('2', '0'))\n",
    "])"
   ]
  },
  {
   "cell_type": "code",
   "execution_count": 3,
   "metadata": {},
   "outputs": [
    {
     "name": "stdout",
     "output_type": "stream",
     "text": [
      "I(R1)=0.77A\n",
      "I(R2)=0.77A\n",
      "I(Is)=-0.77A\n",
      "V(R1)=7.69V\n",
      "V(R2)=15.38V\n",
      "V(Is)=-23.08V\n"
     ]
    }
   ],
   "source": [
    "solution = dc_solution(circuit)\n",
    "print(f'I(R1)={solution.get_current(\"R1\"):2.2f}A')\n",
    "print(f'I(R2)={solution.get_current(\"R2\"):2.2f}A')\n",
    "print(f'I(Is)={solution.get_current(\"Is\"):2.2f}A')\n",
    "print(f'V(R1)={solution.get_voltage(\"R1\"):2.2f}V')\n",
    "print(f'V(R2)={solution.get_voltage(\"R2\"):2.2f}V')\n",
    "print(f'V(Is)={solution.get_voltage(\"Is\"):2.2f}V')"
   ]
  }
 ],
 "metadata": {
  "kernelspec": {
   "display_name": "venv (3.10.18)",
   "language": "python",
   "name": "python3"
  },
  "language_info": {
   "codemirror_mode": {
    "name": "ipython",
    "version": 3
   },
   "file_extension": ".py",
   "mimetype": "text/x-python",
   "name": "python",
   "nbconvert_exporter": "python",
   "pygments_lexer": "ipython3",
   "version": "3.10.18"
  },
  "orig_nbformat": 4
 },
 "nbformat": 4,
 "nbformat_minor": 2
}
