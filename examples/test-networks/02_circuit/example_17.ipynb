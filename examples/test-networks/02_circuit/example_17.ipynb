{
 "cells": [
  {
   "cell_type": "markdown",
   "metadata": {},
   "source": [
    "# Example 17"
   ]
  },
  {
   "cell_type": "code",
   "execution_count": 1,
   "metadata": {},
   "outputs": [],
   "source": [
    "from CircuitCalculator.Circuit.circuit import Circuit\n",
    "import CircuitCalculator.Circuit.Components.components as ccp\n",
    "from CircuitCalculator.Circuit.solution import dc_solution"
   ]
  },
  {
   "cell_type": "code",
   "execution_count": 2,
   "metadata": {},
   "outputs": [],
   "source": [
    "circuit = Circuit([\n",
    "    ccp.dc_current_source(I=1, id='Is', nodes=('1', '0')),\n",
    "])"
   ]
  },
  {
   "cell_type": "code",
   "execution_count": 3,
   "metadata": {},
   "outputs": [
    {
     "name": "stdout",
     "output_type": "stream",
     "text": [
      "I(Vs)=1.00A\n",
      "V(Vs)=nanV\n",
      "P(Vs)=nanW\n"
     ]
    }
   ],
   "source": [
    "solution = dc_solution(circuit)\n",
    "print(f'I(Vs)={solution.get_current(\"Is\"):2.2f}A')\n",
    "print(f'V(Vs)={solution.get_voltage(\"Is\"):2.2f}V')\n",
    "print(f'P(Vs)={solution.get_power(\"Is\"):2.2f}W')"
   ]
  }
 ],
 "metadata": {
  "kernelspec": {
   "display_name": "venv",
   "language": "python",
   "name": "python3"
  },
  "language_info": {
   "codemirror_mode": {
    "name": "ipython",
    "version": 3
   },
   "file_extension": ".py",
   "mimetype": "text/x-python",
   "name": "python",
   "nbconvert_exporter": "python",
   "pygments_lexer": "ipython3",
   "version": "3.10.18"
  },
  "orig_nbformat": 4
 },
 "nbformat": 4,
 "nbformat_minor": 2
}
