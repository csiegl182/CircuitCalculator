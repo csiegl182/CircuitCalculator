{
 "cells": [
  {
   "cell_type": "markdown",
   "metadata": {},
   "source": [
    "# Example 8"
   ]
  },
  {
   "cell_type": "code",
   "execution_count": 1,
   "metadata": {},
   "outputs": [],
   "source": [
    "from CircuitCalculator.Circuit.circuit import Circuit\n",
    "import CircuitCalculator.Circuit.Components.components as ccp\n",
    "from CircuitCalculator.Circuit.impedance import open_circuit_dc_resistance"
   ]
  },
  {
   "cell_type": "code",
   "execution_count": 2,
   "metadata": {},
   "outputs": [],
   "source": [
    "circuit = Circuit([\n",
    "    ccp.resistor(R=1, id='R1', nodes=('1', '3')),\n",
    "    ccp.resistor(R=2, id='R2', nodes=('1', '4')),\n",
    "    ccp.resistor(R=3, id='R3', nodes=('3', '4')),\n",
    "    ccp.resistor(R=4, id='R4', nodes=('3', '0')),\n",
    "    ccp.resistor(R=5, id='R5', nodes=('0', '4')),\n",
    "    ccp.resistor(R=6, id='R6', nodes=('0', '2')),\n",
    "    ccp.resistor(R=7, id='R7', nodes=('4', '2'))\n",
    "])"
   ]
  },
  {
   "cell_type": "code",
   "execution_count": 3,
   "metadata": {},
   "outputs": [
    {
     "name": "stdout",
     "output_type": "stream",
     "text": [
      "Rges=4.66 Ohm\n"
     ]
    }
   ],
   "source": [
    "Rges = open_circuit_dc_resistance(circuit, '1', '2')\n",
    "print(f'{Rges=:.2f} Ohm')"
   ]
  }
 ],
 "metadata": {
  "kernelspec": {
   "display_name": "venv2 (3.10.18)",
   "language": "python",
   "name": "python3"
  },
  "language_info": {
   "codemirror_mode": {
    "name": "ipython",
    "version": 3
   },
   "file_extension": ".py",
   "mimetype": "text/x-python",
   "name": "python",
   "nbconvert_exporter": "python",
   "pygments_lexer": "ipython3",
   "version": "3.10.18"
  },
  "orig_nbformat": 4
 },
 "nbformat": 4,
 "nbformat_minor": 2
}
