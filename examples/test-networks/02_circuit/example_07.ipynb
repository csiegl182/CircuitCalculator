{
 "cells": [
  {
   "cell_type": "markdown",
   "metadata": {},
   "source": [
    "# Example 7"
   ]
  },
  {
   "cell_type": "code",
   "execution_count": 1,
   "metadata": {},
   "outputs": [],
   "source": [
    "from CircuitCalculator.Circuit.circuit import Circuit\n",
    "import CircuitCalculator.Circuit.components as ccp\n",
    "from CircuitCalculator.Circuit.solution import DCSolution"
   ]
  },
  {
   "cell_type": "code",
   "execution_count": 2,
   "metadata": {},
   "outputs": [],
   "source": [
    "circuit = Circuit([\n",
    "    ccp.dc_voltage_source(V=1, id='Vs1', nodes=('0', '5')),\n",
    "    ccp.dc_voltage_source(V=2, id='Vs2', nodes=('2', '1')),\n",
    "    ccp.dc_voltage_source(V=3, id='Vs3', nodes=('4', '3')),\n",
    "    ccp.dc_current_source(I=0.1, id='Is', nodes=('3', '5')),\n",
    "    ccp.resistor(R=10, id='R1', nodes=('1', '0')),\n",
    "    ccp.resistor(R=20, id='R2', nodes=('1', '3')),\n",
    "    ccp.resistor(R=30, id='R3', nodes=('2', '5')),\n",
    "    ccp.resistor(R=40, id='R4', nodes=('4', '5'))\n",
    "])"
   ]
  },
  {
   "cell_type": "code",
   "execution_count": 3,
   "metadata": {},
   "outputs": [
    {
     "name": "stdout",
     "output_type": "stream",
     "text": [
      "I(R1)=-0.16A\n",
      "I(R2)=0.11A\n",
      "I(R3)=0.05A\n",
      "I(R4)=0.01A\n",
      "I(Vs1)=-0.16A\n",
      "I(Vs2)=-0.05A\n",
      "I(Vs3)=-0.01A\n",
      "I(Is)=0.10A\n",
      "V(R1)=-1.56V\n",
      "V(R2)=2.15V\n",
      "V(R3)=1.44V\n",
      "V(R4)=0.30V\n",
      "V(Vs1)=1.00V\n",
      "V(Vs2)=2.00V\n",
      "V(Vs3)=3.00V\n",
      "V(Is)=-2.70V\n"
     ]
    }
   ],
   "source": [
    "solution = DCSolution(circuit)\n",
    "print(f'I(R1)={solution.get_current(\"R1\"):2.2f}A')\n",
    "print(f'I(R2)={solution.get_current(\"R2\"):2.2f}A')\n",
    "print(f'I(R3)={solution.get_current(\"R3\"):2.2f}A')\n",
    "print(f'I(R4)={solution.get_current(\"R4\"):2.2f}A')\n",
    "print(f'I(Vs1)={solution.get_current(\"Vs1\"):2.2f}A')\n",
    "print(f'I(Vs2)={solution.get_current(\"Vs2\"):2.2f}A')\n",
    "print(f'I(Vs3)={solution.get_current(\"Vs3\"):2.2f}A')\n",
    "print(f'I(Is)={solution.get_current(\"Is\"):2.2f}A')\n",
    "print(f'V(R1)={solution.get_voltage(\"R1\"):2.2f}V')\n",
    "print(f'V(R2)={solution.get_voltage(\"R2\"):2.2f}V')\n",
    "print(f'V(R3)={solution.get_voltage(\"R3\"):2.2f}V')\n",
    "print(f'V(R4)={solution.get_voltage(\"R4\"):2.2f}V')\n",
    "print(f'V(Vs1)={solution.get_voltage(\"Vs1\"):2.2f}V')\n",
    "print(f'V(Vs2)={solution.get_voltage(\"Vs2\"):2.2f}V')\n",
    "print(f'V(Vs3)={solution.get_voltage(\"Vs3\"):2.2f}V')\n",
    "print(f'V(Is)={solution.get_voltage(\"Is\"):2.2f}V')"
   ]
  }
 ],
 "metadata": {
  "kernelspec": {
   "display_name": "venv",
   "language": "python",
   "name": "python3"
  },
  "language_info": {
   "codemirror_mode": {
    "name": "ipython",
    "version": 3
   },
   "file_extension": ".py",
   "mimetype": "text/x-python",
   "name": "python",
   "nbconvert_exporter": "python",
   "pygments_lexer": "ipython3",
   "version": "3.10.11"
  },
  "orig_nbformat": 4
 },
 "nbformat": 4,
 "nbformat_minor": 2
}
