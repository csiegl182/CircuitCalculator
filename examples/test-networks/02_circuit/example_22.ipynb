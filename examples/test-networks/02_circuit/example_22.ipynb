{
 "cells": [
  {
   "cell_type": "markdown",
   "metadata": {},
   "source": [
    "# Example 22"
   ]
  },
  {
   "cell_type": "code",
   "execution_count": 1,
   "metadata": {},
   "outputs": [],
   "source": [
    "from CircuitCalculator.Circuit.circuit import Circuit\n",
    "import CircuitCalculator.Circuit.Components.components as ccp\n",
    "from CircuitCalculator.Circuit.solution import dc_solution"
   ]
  },
  {
   "cell_type": "code",
   "execution_count": 2,
   "metadata": {},
   "outputs": [],
   "source": [
    "circuit = Circuit(\n",
    "    [\n",
    "        ccp.dc_voltage_source(V=12, id='Vs', nodes=('1', '0')),\n",
    "        ccp.resistor(R=3, id='R1', nodes=('1', '2')),\n",
    "        ccp.open_circuit(id='X1', nodes=('2', '3')),\n",
    "        ccp.open_circuit(id='X2', nodes=('3', '0'))\n",
    "    ],\n",
    "    ground_node='',\n",
    ")"
   ]
  },
  {
   "cell_type": "code",
   "execution_count": 3,
   "metadata": {},
   "outputs": [
    {
     "name": "stdout",
     "output_type": "stream",
     "text": [
      "I(Vs)=-0.00A\n",
      "V(Vs)=12.00V\n",
      "P(Vs)=-0.00W\n",
      "I(R1)=0.00A\n",
      "V(R1)=0.00V\n",
      "P(R1)=0.00W\n",
      "I(X1)=0.00A\n",
      "V(X1)=nanV\n",
      "P(X1)=nanW\n",
      "I(X2)=0.00A\n",
      "V(X2)=nanV\n",
      "P(X2)=nanW\n"
     ]
    }
   ],
   "source": [
    "solution = dc_solution(circuit)\n",
    "print(f'I(Vs)={solution.get_current(\"Vs\"):2.2f}A')\n",
    "print(f'V(Vs)={solution.get_voltage(\"Vs\"):2.2f}V')\n",
    "print(f'P(Vs)={solution.get_power(\"Vs\"):2.2f}W')\n",
    "print(f'I(R1)={solution.get_current(\"R1\"):2.2f}A')\n",
    "print(f'V(R1)={solution.get_voltage(\"R1\"):2.2f}V')\n",
    "print(f'P(R1)={solution.get_power(\"R1\"):2.2f}W')\n",
    "print(f'I(X1)={solution.get_current(\"X1\"):2.2f}A')\n",
    "print(f'V(X1)={solution.get_voltage(\"X1\"):2.2f}V')\n",
    "print(f'P(X1)={solution.get_power(\"X1\"):2.2f}W')\n",
    "print(f'I(X2)={solution.get_current(\"X2\"):2.2f}A')\n",
    "print(f'V(X2)={solution.get_voltage(\"X2\"):2.2f}V')\n",
    "print(f'P(X2)={solution.get_power(\"X2\"):2.2f}W')"
   ]
  },
  {
   "cell_type": "code",
   "execution_count": 4,
   "metadata": {},
   "outputs": [],
   "source": [
    "circuit = Circuit(\n",
    "    [\n",
    "        ccp.dc_current_source(I=1, id='Is', nodes=('1', '0')),\n",
    "        ccp.resistor(R=1, id='R1', nodes=('1', '0')),\n",
    "        ccp.short_circuit(id='X1', nodes=('1', '1')),\n",
    "        ccp.short_circuit(id='X2', nodes=('1', '0'))\n",
    "    ],\n",
    "    ground_node='',\n",
    ")"
   ]
  },
  {
   "cell_type": "code",
   "execution_count": 5,
   "metadata": {},
   "outputs": [
    {
     "name": "stdout",
     "output_type": "stream",
     "text": [
      "I(Is)=1.00A\n",
      "V(Is)=0.00V\n",
      "P(Is)=0.00W\n",
      "I(R1)=0.00A\n",
      "V(R1)=0.00V\n",
      "P(R1)=0.00W\n",
      "I(X1)=-0.50A\n",
      "V(X1)=0.00V\n",
      "P(X1)=-0.00W\n",
      "I(X2)=-0.50A\n",
      "V(X2)=0.00V\n",
      "P(X2)=-0.00W\n"
     ]
    }
   ],
   "source": [
    "solution = dc_solution(circuit)\n",
    "print(f'I(Is)={solution.get_current(\"Is\"):2.2f}A')\n",
    "print(f'V(Is)={solution.get_voltage(\"Is\"):2.2f}V')\n",
    "print(f'P(Is)={solution.get_power(\"Is\"):2.2f}W')\n",
    "print(f'I(R1)={solution.get_current(\"R1\"):2.2f}A')\n",
    "print(f'V(R1)={solution.get_voltage(\"R1\"):2.2f}V')\n",
    "print(f'P(R1)={solution.get_power(\"R1\"):2.2f}W')\n",
    "print(f'I(X1)={solution.get_current(\"X1\"):2.2f}A')\n",
    "print(f'V(X1)={solution.get_voltage(\"X1\"):2.2f}V')\n",
    "print(f'P(X1)={solution.get_power(\"X1\"):2.2f}W')\n",
    "print(f'I(X2)={solution.get_current(\"X2\"):2.2f}A')\n",
    "print(f'V(X2)={solution.get_voltage(\"X2\"):2.2f}V')\n",
    "print(f'P(X2)={solution.get_power(\"X2\"):2.2f}W')"
   ]
  }
 ],
 "metadata": {
  "kernelspec": {
   "display_name": "venv (3.10.18)",
   "language": "python",
   "name": "python3"
  },
  "language_info": {
   "codemirror_mode": {
    "name": "ipython",
    "version": 3
   },
   "file_extension": ".py",
   "mimetype": "text/x-python",
   "name": "python",
   "nbconvert_exporter": "python",
   "pygments_lexer": "ipython3",
   "version": "3.10.18"
  },
  "orig_nbformat": 4
 },
 "nbformat": 4,
 "nbformat_minor": 2
}
