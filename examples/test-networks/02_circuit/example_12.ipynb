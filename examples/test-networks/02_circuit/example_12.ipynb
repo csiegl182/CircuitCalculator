{
 "cells": [
  {
   "cell_type": "markdown",
   "metadata": {},
   "source": [
    "# Example 12"
   ]
  },
  {
   "cell_type": "code",
   "execution_count": 7,
   "metadata": {},
   "outputs": [],
   "source": [
    "from CircuitCalculator.Circuit.circuit import Circuit\n",
    "import CircuitCalculator.Circuit.components as ccp\n",
    "from CircuitCalculator.Circuit.solution import ComplexSolution"
   ]
  },
  {
   "cell_type": "code",
   "execution_count": 8,
   "metadata": {},
   "outputs": [],
   "source": [
    "circuit = Circuit([\n",
    "    ccp.complex_voltage_source(V=1-2j, id='Vs', nodes=('1', '0')),\n",
    "    ccp.impedance(Z=10+10j, id='Z1', nodes=('1', '0')),\n",
    "    ccp.resistor(R=20, id='Z2', nodes=('1', '2')),\n",
    "    ccp.resistor(R=30, id='Z3', nodes=('2', '0'))\n",
    "])"
   ]
  },
  {
   "cell_type": "code",
   "execution_count": 9,
   "metadata": {},
   "outputs": [
    {
     "name": "stdout",
     "output_type": "stream",
     "text": [
      "I(Vs)=0.03+0.19jA\n",
      "I(Z1)=-0.05-0.15jA\n",
      "I(Z2)=0.02-0.04jA\n",
      "I(Z3)=0.02-0.04jA\n",
      "V(Vs)=1.00-2.00jV\n",
      "V(Z1)=1.00-2.00jV\n",
      "V(Z2)=0.40-0.80jV\n",
      "V(Z3)=0.60-1.20jV\n"
     ]
    }
   ],
   "source": [
    "solution = ComplexSolution(circuit)\n",
    "print(f'I(Vs)={solution.get_current(\"Vs\"):2.2f}A')\n",
    "print(f'I(Z1)={solution.get_current(\"Z1\"):2.2f}A')\n",
    "print(f'I(Z2)={solution.get_current(\"Z2\"):2.2f}A')\n",
    "print(f'I(Z3)={solution.get_current(\"Z3\"):2.2f}A')\n",
    "print(f'V(Vs)={solution.get_voltage(\"Vs\"):2.2f}V')\n",
    "print(f'V(Z1)={solution.get_voltage(\"Z1\"):2.2f}V')\n",
    "print(f'V(Z2)={solution.get_voltage(\"Z2\"):2.2f}V')\n",
    "print(f'V(Z3)={solution.get_voltage(\"Z3\"):2.2f}V')"
   ]
  }
 ],
 "metadata": {
  "kernelspec": {
   "display_name": "venv",
   "language": "python",
   "name": "python3"
  },
  "language_info": {
   "codemirror_mode": {
    "name": "ipython",
    "version": 3
   },
   "file_extension": ".py",
   "mimetype": "text/x-python",
   "name": "python",
   "nbconvert_exporter": "python",
   "pygments_lexer": "ipython3",
   "version": "3.10.11"
  },
  "orig_nbformat": 4
 },
 "nbformat": 4,
 "nbformat_minor": 2
}
