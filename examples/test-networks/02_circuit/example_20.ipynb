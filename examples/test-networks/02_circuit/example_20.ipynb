{
 "cells": [
  {
   "cell_type": "markdown",
   "metadata": {},
   "source": [
    "# Example 20"
   ]
  },
  {
   "cell_type": "code",
   "execution_count": 1,
   "metadata": {},
   "outputs": [],
   "source": [
    "from CircuitCalculator.Circuit.circuit import Circuit\n",
    "import CircuitCalculator.Circuit.Components.components as ccp\n",
    "from CircuitCalculator.Circuit.solution import dc_solution"
   ]
  },
  {
   "cell_type": "code",
   "execution_count": 2,
   "metadata": {},
   "outputs": [],
   "source": [
    "circuit = Circuit(\n",
    "    [\n",
    "        ccp.dc_voltage_source(V=1, id='Vs1', nodes=('1', '0')),\n",
    "        ccp.resistor(R=1, id='R1', nodes=('1', '2')),\n",
    "        ccp.resistor(R=1, id='R2', nodes=('2', '0')),\n",
    "        ccp.dc_voltage_source(V=1, id='Vs2', nodes=('a', 'b')),\n",
    "        ccp.resistor(R=1, id='R3', nodes=('a', 'b'))\n",
    "    ],\n",
    "    ground_node='0',\n",
    ")"
   ]
  },
  {
   "cell_type": "code",
   "execution_count": 3,
   "metadata": {},
   "outputs": [
    {
     "name": "stdout",
     "output_type": "stream",
     "text": [
      "I(Vs1)=-0.50A\n",
      "V(Vs1)=1.00V\n",
      "P(Vs1)=-0.50W\n"
     ]
    },
    {
     "ename": "KeyError",
     "evalue": "\"Branch with id 'Vs2' is floating.\"",
     "output_type": "error",
     "traceback": [
      "\u001b[0;31m---------------------------------------------------------------------------\u001b[0m",
      "\u001b[0;31mKeyError\u001b[0m                                  Traceback (most recent call last)",
      "Cell \u001b[0;32mIn[3], line 5\u001b[0m\n\u001b[1;32m      3\u001b[0m \u001b[38;5;28mprint\u001b[39m(\u001b[38;5;124mf\u001b[39m\u001b[38;5;124m'\u001b[39m\u001b[38;5;124mV(Vs1)=\u001b[39m\u001b[38;5;132;01m{\u001b[39;00msolution\u001b[38;5;241m.\u001b[39mget_voltage(\u001b[38;5;124m\"\u001b[39m\u001b[38;5;124mVs1\u001b[39m\u001b[38;5;124m\"\u001b[39m)\u001b[38;5;132;01m:\u001b[39;00m\u001b[38;5;124m2.2f\u001b[39m\u001b[38;5;132;01m}\u001b[39;00m\u001b[38;5;124mV\u001b[39m\u001b[38;5;124m'\u001b[39m)\n\u001b[1;32m      4\u001b[0m \u001b[38;5;28mprint\u001b[39m(\u001b[38;5;124mf\u001b[39m\u001b[38;5;124m'\u001b[39m\u001b[38;5;124mP(Vs1)=\u001b[39m\u001b[38;5;132;01m{\u001b[39;00msolution\u001b[38;5;241m.\u001b[39mget_power(\u001b[38;5;124m\"\u001b[39m\u001b[38;5;124mVs1\u001b[39m\u001b[38;5;124m\"\u001b[39m)\u001b[38;5;132;01m:\u001b[39;00m\u001b[38;5;124m2.2f\u001b[39m\u001b[38;5;132;01m}\u001b[39;00m\u001b[38;5;124mW\u001b[39m\u001b[38;5;124m'\u001b[39m)\n\u001b[0;32m----> 5\u001b[0m \u001b[38;5;28mprint\u001b[39m(\u001b[38;5;124mf\u001b[39m\u001b[38;5;124m'\u001b[39m\u001b[38;5;124mI(Vs2)=\u001b[39m\u001b[38;5;132;01m{\u001b[39;00m\u001b[43msolution\u001b[49m\u001b[38;5;241;43m.\u001b[39;49m\u001b[43mget_current\u001b[49m\u001b[43m(\u001b[49m\u001b[38;5;124;43m\"\u001b[39;49m\u001b[38;5;124;43mVs2\u001b[39;49m\u001b[38;5;124;43m\"\u001b[39;49m\u001b[43m)\u001b[49m\u001b[38;5;132;01m:\u001b[39;00m\u001b[38;5;124m2.2f\u001b[39m\u001b[38;5;132;01m}\u001b[39;00m\u001b[38;5;124mA\u001b[39m\u001b[38;5;124m'\u001b[39m)\n\u001b[1;32m      6\u001b[0m \u001b[38;5;28mprint\u001b[39m(\u001b[38;5;124mf\u001b[39m\u001b[38;5;124m'\u001b[39m\u001b[38;5;124mV(Vs2)=\u001b[39m\u001b[38;5;132;01m{\u001b[39;00msolution\u001b[38;5;241m.\u001b[39mget_voltage(\u001b[38;5;124m\"\u001b[39m\u001b[38;5;124mVs2\u001b[39m\u001b[38;5;124m\"\u001b[39m)\u001b[38;5;132;01m:\u001b[39;00m\u001b[38;5;124m2.2f\u001b[39m\u001b[38;5;132;01m}\u001b[39;00m\u001b[38;5;124mV\u001b[39m\u001b[38;5;124m'\u001b[39m)\n\u001b[1;32m      7\u001b[0m \u001b[38;5;28mprint\u001b[39m(\u001b[38;5;124mf\u001b[39m\u001b[38;5;124m'\u001b[39m\u001b[38;5;124mP(Vs2)=\u001b[39m\u001b[38;5;132;01m{\u001b[39;00msolution\u001b[38;5;241m.\u001b[39mget_power(\u001b[38;5;124m\"\u001b[39m\u001b[38;5;124mVs2\u001b[39m\u001b[38;5;124m\"\u001b[39m)\u001b[38;5;132;01m:\u001b[39;00m\u001b[38;5;124m2.2f\u001b[39m\u001b[38;5;132;01m}\u001b[39;00m\u001b[38;5;124mW\u001b[39m\u001b[38;5;124m'\u001b[39m)\n",
      "File \u001b[0;32m~/Workspace/CircuitCalculator/src/CircuitCalculator/Circuit/solution.py:50\u001b[0m, in \u001b[0;36mDCSolution.get_current\u001b[0;34m(self, component_id)\u001b[0m\n\u001b[1;32m     49\u001b[0m \u001b[38;5;28;01mdef\u001b[39;00m \u001b[38;5;21mget_current\u001b[39m(\u001b[38;5;28mself\u001b[39m, component_id: \u001b[38;5;28mstr\u001b[39m) \u001b[38;5;241m-\u001b[39m\u001b[38;5;241m>\u001b[39m \u001b[38;5;28mfloat\u001b[39m:\n\u001b[0;32m---> 50\u001b[0m     \u001b[38;5;28;01mreturn\u001b[39;00m \u001b[38;5;28;43mself\u001b[39;49m\u001b[38;5;241;43m.\u001b[39;49m\u001b[43msolution\u001b[49m\u001b[38;5;241;43m.\u001b[39;49m\u001b[43mget_current\u001b[49m\u001b[43m(\u001b[49m\u001b[43mcomponent_id\u001b[49m\u001b[43m)\u001b[49m\u001b[38;5;241m.\u001b[39mreal\n",
      "File \u001b[0;32m~/Workspace/CircuitCalculator/src/CircuitCalculator/Network/NodalAnalysis/solution.py:38\u001b[0m, in \u001b[0;36mNodalAnalysisSolution.get_current\u001b[0;34m(self, branch_id)\u001b[0m\n\u001b[1;32m     36\u001b[0m \u001b[38;5;28;01mif\u001b[39;00m branch_id \u001b[38;5;129;01min\u001b[39;00m \u001b[38;5;28mself\u001b[39m\u001b[38;5;241m.\u001b[39mlabel_mappings\u001b[38;5;241m.\u001b[39mvoltage_source_mapping\u001b[38;5;241m.\u001b[39mkeys:\n\u001b[1;32m     37\u001b[0m     \u001b[38;5;28;01mreturn\u001b[39;00m \u001b[38;5;28mself\u001b[39m\u001b[38;5;241m.\u001b[39m_voltage_source_currents[\u001b[38;5;28mself\u001b[39m\u001b[38;5;241m.\u001b[39mlabel_mappings\u001b[38;5;241m.\u001b[39mvoltage_source_mapping[branch_id]]\n\u001b[0;32m---> 38\u001b[0m \u001b[38;5;28;01mif\u001b[39;00m \u001b[38;5;28;43mself\u001b[39;49m\u001b[38;5;241;43m.\u001b[39;49m\u001b[43mnetwork\u001b[49m\u001b[43m[\u001b[49m\u001b[43mbranch_id\u001b[49m\u001b[43m]\u001b[49m\u001b[38;5;241m.\u001b[39melement\u001b[38;5;241m.\u001b[39mis_ideal_current_source:\n\u001b[1;32m     39\u001b[0m     \u001b[38;5;28;01mreturn\u001b[39;00m \u001b[38;5;28mcomplex\u001b[39m(\u001b[38;5;28mself\u001b[39m\u001b[38;5;241m.\u001b[39mnetwork[branch_id]\u001b[38;5;241m.\u001b[39melement\u001b[38;5;241m.\u001b[39mI)\n\u001b[1;32m     40\u001b[0m \u001b[38;5;28;01mif\u001b[39;00m \u001b[38;5;28mself\u001b[39m\u001b[38;5;241m.\u001b[39mnetwork[branch_id]\u001b[38;5;241m.\u001b[39melement\u001b[38;5;241m.\u001b[39mis_current_source:\n",
      "File \u001b[0;32m~/Workspace/CircuitCalculator/src/CircuitCalculator/Network/network.py:77\u001b[0m, in \u001b[0;36mNetwork.__getitem__\u001b[0;34m(self, id)\u001b[0m\n\u001b[1;32m     75\u001b[0m     \u001b[38;5;28;01mraise\u001b[39;00m \u001b[38;5;167;01mKeyError\u001b[39;00m(\u001b[38;5;124mf\u001b[39m\u001b[38;5;124m\"\u001b[39m\u001b[38;5;124mBranch with id \u001b[39m\u001b[38;5;124m'\u001b[39m\u001b[38;5;132;01m{\u001b[39;00m\u001b[38;5;28mid\u001b[39m\u001b[38;5;132;01m}\u001b[39;00m\u001b[38;5;124m'\u001b[39m\u001b[38;5;124m not found in the network.\u001b[39m\u001b[38;5;124m\"\u001b[39m)\n\u001b[1;32m     76\u001b[0m \u001b[38;5;28;01mif\u001b[39;00m \u001b[38;5;129;01mnot\u001b[39;00m \u001b[38;5;28mself\u001b[39m\u001b[38;5;241m.\u001b[39m_is_connected_branch(\u001b[38;5;28mid\u001b[39m):\n\u001b[0;32m---> 77\u001b[0m     \u001b[38;5;28;01mraise\u001b[39;00m \u001b[38;5;167;01mKeyError\u001b[39;00m(\u001b[38;5;124mf\u001b[39m\u001b[38;5;124m\"\u001b[39m\u001b[38;5;124mBranch with id \u001b[39m\u001b[38;5;124m'\u001b[39m\u001b[38;5;132;01m{\u001b[39;00m\u001b[38;5;28mid\u001b[39m\u001b[38;5;132;01m}\u001b[39;00m\u001b[38;5;124m'\u001b[39m\u001b[38;5;124m is floating.\u001b[39m\u001b[38;5;124m\"\u001b[39m)\n\u001b[1;32m     78\u001b[0m \u001b[38;5;28;01mreturn\u001b[39;00m \u001b[38;5;28mself\u001b[39m\u001b[38;5;241m.\u001b[39mbranches[\u001b[38;5;28mself\u001b[39m\u001b[38;5;241m.\u001b[39m_all_branch_ids\u001b[38;5;241m.\u001b[39mindex(\u001b[38;5;28mid\u001b[39m)]\n",
      "\u001b[0;31mKeyError\u001b[0m: \"Branch with id 'Vs2' is floating.\""
     ]
    }
   ],
   "source": [
    "solution = dc_solution(circuit)\n",
    "print(f'I(Vs1)={solution.get_current(\"Vs1\"):2.2f}A')\n",
    "print(f'V(Vs1)={solution.get_voltage(\"Vs1\"):2.2f}V')\n",
    "print(f'P(Vs1)={solution.get_power(\"Vs1\"):2.2f}W')\n",
    "print(f'I(Vs2)={solution.get_current(\"Vs2\"):2.2f}A')\n",
    "print(f'V(Vs2)={solution.get_voltage(\"Vs2\"):2.2f}V')\n",
    "print(f'P(Vs2)={solution.get_power(\"Vs2\"):2.2f}W')\n",
    "print(f'I(R3)={solution.get_current(\"R3\"):2.2f}A')\n",
    "print(f'V(R3)={solution.get_voltage(\"R3\"):2.2f}V')\n",
    "print(f'P(R3)={solution.get_power(\"R3\"):2.2f}W')"
   ]
  }
 ],
 "metadata": {
  "kernelspec": {
   "display_name": "venv (3.10.18)",
   "language": "python",
   "name": "python3"
  },
  "language_info": {
   "codemirror_mode": {
    "name": "ipython",
    "version": 3
   },
   "file_extension": ".py",
   "mimetype": "text/x-python",
   "name": "python",
   "nbconvert_exporter": "python",
   "pygments_lexer": "ipython3",
   "version": "3.10.18"
  },
  "orig_nbformat": 4
 },
 "nbformat": 4,
 "nbformat_minor": 2
}
