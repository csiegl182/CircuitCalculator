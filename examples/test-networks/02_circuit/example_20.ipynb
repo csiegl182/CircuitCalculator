{
 "cells": [
  {
   "cell_type": "markdown",
   "metadata": {},
   "source": [
    "# Example 20"
   ]
  },
  {
   "cell_type": "code",
   "execution_count": 1,
   "metadata": {},
   "outputs": [],
   "source": [
    "from CircuitCalculator.Circuit.circuit import Circuit\n",
    "import CircuitCalculator.Circuit.Components.components as ccp\n",
    "from CircuitCalculator.Circuit.solution import dc_solution"
   ]
  },
  {
   "cell_type": "code",
   "execution_count": 2,
   "metadata": {},
   "outputs": [],
   "source": [
    "circuit = Circuit(\n",
    "    [\n",
    "        ccp.dc_voltage_source(V=1, id='Vs1', nodes=('1', '0')),\n",
    "        ccp.resistor(R=1, id='R1', nodes=('1', '2')),\n",
    "        ccp.resistor(R=1, id='R2', nodes=('2', '0')),\n",
    "        ccp.dc_voltage_source(V=1, id='Vs2', nodes=('a', 'b')),\n",
    "        ccp.resistor(R=1, id='R3', nodes=('a', 'b'))\n",
    "    ],\n",
    "    ground_node='0',\n",
    ")"
   ]
  },
  {
   "cell_type": "code",
   "execution_count": 3,
   "metadata": {},
   "outputs": [
    {
     "ename": "KeyError",
     "evalue": "\"Branch with id 'Vs2' is floating.\"",
     "output_type": "error",
     "traceback": [
      "\u001b[0;31m---------------------------------------------------------------------------\u001b[0m",
      "\u001b[0;31mKeyError\u001b[0m                                  Traceback (most recent call last)",
      "Cell \u001b[0;32mIn[3], line 1\u001b[0m\n\u001b[0;32m----> 1\u001b[0m solution \u001b[38;5;241m=\u001b[39m \u001b[43mdc_solution\u001b[49m\u001b[43m(\u001b[49m\u001b[43mcircuit\u001b[49m\u001b[43m)\u001b[49m\n\u001b[1;32m      2\u001b[0m \u001b[38;5;28mprint\u001b[39m(\u001b[38;5;124mf\u001b[39m\u001b[38;5;124m'\u001b[39m\u001b[38;5;124mI(Vs1)=\u001b[39m\u001b[38;5;132;01m{\u001b[39;00msolution\u001b[38;5;241m.\u001b[39mget_current(\u001b[38;5;124m\"\u001b[39m\u001b[38;5;124mVs1\u001b[39m\u001b[38;5;124m\"\u001b[39m)\u001b[38;5;132;01m:\u001b[39;00m\u001b[38;5;124m2.2f\u001b[39m\u001b[38;5;132;01m}\u001b[39;00m\u001b[38;5;124mA\u001b[39m\u001b[38;5;124m'\u001b[39m)\n\u001b[1;32m      3\u001b[0m \u001b[38;5;28mprint\u001b[39m(\u001b[38;5;124mf\u001b[39m\u001b[38;5;124m'\u001b[39m\u001b[38;5;124mV(Vs1)=\u001b[39m\u001b[38;5;132;01m{\u001b[39;00msolution\u001b[38;5;241m.\u001b[39mget_voltage(\u001b[38;5;124m\"\u001b[39m\u001b[38;5;124mVs1\u001b[39m\u001b[38;5;124m\"\u001b[39m)\u001b[38;5;132;01m:\u001b[39;00m\u001b[38;5;124m2.2f\u001b[39m\u001b[38;5;132;01m}\u001b[39;00m\u001b[38;5;124mV\u001b[39m\u001b[38;5;124m'\u001b[39m)\n",
      "File \u001b[0;32m~/Workspace/CircuitCalculator/src/CircuitCalculator/Circuit/solution.py:157\u001b[0m, in \u001b[0;36mdc_solution\u001b[0;34m(circuit, solver)\u001b[0m\n\u001b[1;32m    155\u001b[0m \u001b[38;5;28;01mdef\u001b[39;00m \u001b[38;5;21mdc_solution\u001b[39m(circuit: Circuit, solver: NetworkSolver \u001b[38;5;241m=\u001b[39m numeric_nodal_analysis_bias_point_solution) \u001b[38;5;241m-\u001b[39m\u001b[38;5;241m>\u001b[39m DCSolution:\n\u001b[1;32m    156\u001b[0m     network \u001b[38;5;241m=\u001b[39m transform(circuit, w\u001b[38;5;241m=\u001b[39m[\u001b[38;5;241m0\u001b[39m])[\u001b[38;5;241m0\u001b[39m]\n\u001b[0;32m--> 157\u001b[0m     solution \u001b[38;5;241m=\u001b[39m \u001b[43msolver\u001b[49m\u001b[43m(\u001b[49m\u001b[43mnetwork\u001b[49m\u001b[43m)\u001b[49m\n\u001b[1;32m    158\u001b[0m     \u001b[38;5;28;01mreturn\u001b[39;00m DCSolution(solution\u001b[38;5;241m=\u001b[39msolution)\n",
      "File \u001b[0;32m~/Workspace/CircuitCalculator/src/CircuitCalculator/Network/NodalAnalysis/solution.py:73\u001b[0m, in \u001b[0;36mnumeric_nodal_analysis_bias_point_solution\u001b[0;34m(network, label_mappings_factory)\u001b[0m\n\u001b[1;32m     70\u001b[0m \u001b[38;5;28;01mdef\u001b[39;00m \u001b[38;5;21mnumeric_nodal_analysis_bias_point_solution\u001b[39m(network: Network, label_mappings_factory: \u001b[38;5;28mmap\u001b[39m\u001b[38;5;241m.\u001b[39mLabelMappingsFactory \u001b[38;5;241m=\u001b[39m \u001b[38;5;28mmap\u001b[39m\u001b[38;5;241m.\u001b[39mdefault_label_mappings_factory) \u001b[38;5;241m-\u001b[39m\u001b[38;5;241m>\u001b[39m NetworkSolution:\n\u001b[1;32m     71\u001b[0m         \u001b[38;5;28;01mreturn\u001b[39;00m NodalAnalysisSolution(\n\u001b[1;32m     72\u001b[0m             network\u001b[38;5;241m=\u001b[39mnetwork,\n\u001b[0;32m---> 73\u001b[0m             solution_vector\u001b[38;5;241m=\u001b[39m\u001b[43mna\u001b[49m\u001b[38;5;241;43m.\u001b[39;49m\u001b[43mnodal_analysis_solution\u001b[49m\u001b[43m(\u001b[49m\u001b[43mnetwork\u001b[49m\u001b[43m,\u001b[49m\u001b[43m \u001b[49m\u001b[43mmatrix_ops\u001b[49m\u001b[38;5;241;43m=\u001b[39;49m\u001b[43mmo\u001b[49m\u001b[38;5;241;43m.\u001b[39;49m\u001b[43mNumPyMatrixOperations\u001b[49m\u001b[43m(\u001b[49m\u001b[43m)\u001b[49m\u001b[43m,\u001b[49m\u001b[43m \u001b[49m\u001b[43mlabel_mappings_factory\u001b[49m\u001b[38;5;241;43m=\u001b[39;49m\u001b[43mlabel_mappings_factory\u001b[49m\u001b[43m)\u001b[49m,\n\u001b[1;32m     74\u001b[0m             label_mappings_factory\u001b[38;5;241m=\u001b[39mlabel_mappings_factory\n\u001b[1;32m     75\u001b[0m         )\n",
      "File \u001b[0;32m~/Workspace/CircuitCalculator/src/CircuitCalculator/Network/NodalAnalysis/node_analysis.py:13\u001b[0m, in \u001b[0;36mnodal_analysis_solution\u001b[0;34m(network, matrix_ops, label_mappings_factory)\u001b[0m\n\u001b[1;32m     11\u001b[0m \u001b[38;5;28;01mdef\u001b[39;00m \u001b[38;5;21mnodal_analysis_solution\u001b[39m(network: Network, matrix_ops: mo\u001b[38;5;241m.\u001b[39mMatrixOperations \u001b[38;5;241m=\u001b[39m mo\u001b[38;5;241m.\u001b[39mNumPyMatrixOperations(), label_mappings_factory: LabelMappingsFactory \u001b[38;5;241m=\u001b[39m default_label_mappings_factory) \u001b[38;5;241m-\u001b[39m\u001b[38;5;241m>\u001b[39m \u001b[38;5;28mtuple\u001b[39m[\u001b[38;5;28mcomplex\u001b[39m \u001b[38;5;241m|\u001b[39m symbolic, \u001b[38;5;241m.\u001b[39m\u001b[38;5;241m.\u001b[39m\u001b[38;5;241m.\u001b[39m]:\n\u001b[1;32m     12\u001b[0m     label_mappings \u001b[38;5;241m=\u001b[39m label_mappings_factory(network)\n\u001b[0;32m---> 13\u001b[0m     A \u001b[38;5;241m=\u001b[39m \u001b[43mnodal_analysis_coefficient_matrix\u001b[49m\u001b[43m(\u001b[49m\u001b[43mnetwork\u001b[49m\u001b[43m,\u001b[49m\u001b[43m \u001b[49m\u001b[43mmatrix_ops\u001b[49m\u001b[38;5;241;43m=\u001b[39;49m\u001b[43mmatrix_ops\u001b[49m\u001b[43m,\u001b[49m\u001b[43m \u001b[49m\u001b[43mlabel_mappings\u001b[49m\u001b[38;5;241;43m=\u001b[39;49m\u001b[43mlabel_mappings\u001b[49m\u001b[43m)\u001b[49m\n\u001b[1;32m     14\u001b[0m     b \u001b[38;5;241m=\u001b[39m nodal_analysis_constants_vector(network, matrix_ops\u001b[38;5;241m=\u001b[39mmatrix_ops, label_mappings\u001b[38;5;241m=\u001b[39mlabel_mappings)\n\u001b[1;32m     15\u001b[0m     \u001b[38;5;28;01mtry\u001b[39;00m:\n",
      "File \u001b[0;32m~/Workspace/CircuitCalculator/src/CircuitCalculator/Network/NodalAnalysis/node_analysis_calculations.py:45\u001b[0m, in \u001b[0;36mnodal_analysis_coefficient_matrix\u001b[0;34m(network, matrix_ops, label_mappings)\u001b[0m\n\u001b[1;32m     43\u001b[0m \u001b[38;5;28;01mdef\u001b[39;00m \u001b[38;5;21mnodal_analysis_coefficient_matrix\u001b[39m(network: Network, matrix_ops: mo\u001b[38;5;241m.\u001b[39mMatrixOperations, label_mappings: NetworkLabelMappings) \u001b[38;5;241m-\u001b[39m\u001b[38;5;241m>\u001b[39m mo\u001b[38;5;241m.\u001b[39mMatrix:\n\u001b[1;32m     44\u001b[0m     Y \u001b[38;5;241m=\u001b[39m node_admittance_matrix(network, matrix_ops, label_mappings)\n\u001b[0;32m---> 45\u001b[0m     B \u001b[38;5;241m=\u001b[39m \u001b[43mvoltage_source_incidence_matrix\u001b[49m\u001b[43m(\u001b[49m\u001b[43mnetwork\u001b[49m\u001b[43m,\u001b[49m\u001b[43m \u001b[49m\u001b[43mmatrix_ops\u001b[49m\u001b[43m,\u001b[49m\u001b[43m \u001b[49m\u001b[43mlabel_mappings\u001b[49m\u001b[43m)\u001b[49m\n\u001b[1;32m     46\u001b[0m     Z \u001b[38;5;241m=\u001b[39m matrix_ops\u001b[38;5;241m.\u001b[39mzeros((B\u001b[38;5;241m.\u001b[39mshape[\u001b[38;5;241m1\u001b[39m], B\u001b[38;5;241m.\u001b[39mshape[\u001b[38;5;241m1\u001b[39m]))\n\u001b[1;32m     47\u001b[0m     \u001b[38;5;28;01mreturn\u001b[39;00m matrix_ops\u001b[38;5;241m.\u001b[39mvstack((matrix_ops\u001b[38;5;241m.\u001b[39mhstack((Y, B)), matrix_ops\u001b[38;5;241m.\u001b[39mhstack((B\u001b[38;5;241m.\u001b[39mT, Z))))\n",
      "File \u001b[0;32m~/Workspace/CircuitCalculator/src/CircuitCalculator/Network/NodalAnalysis/node_analysis_calculations.py:40\u001b[0m, in \u001b[0;36mvoltage_source_incidence_matrix\u001b[0;34m(network, matrix_ops, label_mappings)\u001b[0m\n\u001b[1;32m     38\u001b[0m A \u001b[38;5;241m=\u001b[39m matrix_ops\u001b[38;5;241m.\u001b[39mzeros((node_index\u001b[38;5;241m.\u001b[39mN, label_mappings\u001b[38;5;241m.\u001b[39mvoltage_source_mapping\u001b[38;5;241m.\u001b[39mN))\n\u001b[1;32m     39\u001b[0m \u001b[38;5;28;01mfor\u001b[39;00m node, vs \u001b[38;5;129;01min\u001b[39;00m itertools\u001b[38;5;241m.\u001b[39mproduct(node_index\u001b[38;5;241m.\u001b[39mkeys, label_mappings\u001b[38;5;241m.\u001b[39mvoltage_source_mapping\u001b[38;5;241m.\u001b[39mkeys):\n\u001b[0;32m---> 40\u001b[0m     A[node_index[node], label_mappings\u001b[38;5;241m.\u001b[39mvoltage_source_mapping[vs]] \u001b[38;5;241m=\u001b[39m \u001b[43mvoltage_source_direction\u001b[49m\u001b[43m(\u001b[49m\u001b[43mvs\u001b[49m\u001b[43m,\u001b[49m\u001b[43m \u001b[49m\u001b[43mnode\u001b[49m\u001b[43m)\u001b[49m\n\u001b[1;32m     41\u001b[0m \u001b[38;5;28;01mreturn\u001b[39;00m A\n",
      "File \u001b[0;32m~/Workspace/CircuitCalculator/src/CircuitCalculator/Network/NodalAnalysis/node_analysis_calculations.py:32\u001b[0m, in \u001b[0;36mvoltage_source_incidence_matrix.<locals>.voltage_source_direction\u001b[0;34m(voltage_source, node)\u001b[0m\n\u001b[1;32m     31\u001b[0m \u001b[38;5;28;01mdef\u001b[39;00m \u001b[38;5;21mvoltage_source_direction\u001b[39m(voltage_source: \u001b[38;5;28mstr\u001b[39m, node: \u001b[38;5;28mstr\u001b[39m) \u001b[38;5;241m-\u001b[39m\u001b[38;5;241m>\u001b[39m \u001b[38;5;28mint\u001b[39m:\n\u001b[0;32m---> 32\u001b[0m     \u001b[38;5;28;01mif\u001b[39;00m \u001b[43mnetwork\u001b[49m\u001b[43m[\u001b[49m\u001b[43mvoltage_source\u001b[49m\u001b[43m]\u001b[49m\u001b[38;5;241m.\u001b[39mnode1 \u001b[38;5;241m==\u001b[39m node:\n\u001b[1;32m     33\u001b[0m         \u001b[38;5;28;01mreturn\u001b[39;00m \u001b[38;5;241m1\u001b[39m\n\u001b[1;32m     34\u001b[0m     \u001b[38;5;28;01mif\u001b[39;00m network[voltage_source]\u001b[38;5;241m.\u001b[39mnode2 \u001b[38;5;241m==\u001b[39m node:\n",
      "File \u001b[0;32m~/Workspace/CircuitCalculator/src/CircuitCalculator/Network/network.py:66\u001b[0m, in \u001b[0;36mNetwork.__getitem__\u001b[0;34m(self, id)\u001b[0m\n\u001b[1;32m     64\u001b[0m     \u001b[38;5;28;01mraise\u001b[39;00m \u001b[38;5;167;01mKeyError\u001b[39;00m(\u001b[38;5;124mf\u001b[39m\u001b[38;5;124m\"\u001b[39m\u001b[38;5;124mBranch with id \u001b[39m\u001b[38;5;124m'\u001b[39m\u001b[38;5;132;01m{\u001b[39;00m\u001b[38;5;28mid\u001b[39m\u001b[38;5;132;01m}\u001b[39;00m\u001b[38;5;124m'\u001b[39m\u001b[38;5;124m not found in the network.\u001b[39m\u001b[38;5;124m\"\u001b[39m)\n\u001b[1;32m     65\u001b[0m \u001b[38;5;28;01mif\u001b[39;00m \u001b[38;5;28mid\u001b[39m \u001b[38;5;129;01mnot\u001b[39;00m \u001b[38;5;129;01min\u001b[39;00m \u001b[38;5;28mself\u001b[39m\u001b[38;5;241m.\u001b[39mbranch_ids:\n\u001b[0;32m---> 66\u001b[0m     \u001b[38;5;28;01mraise\u001b[39;00m \u001b[38;5;167;01mKeyError\u001b[39;00m(\u001b[38;5;124mf\u001b[39m\u001b[38;5;124m\"\u001b[39m\u001b[38;5;124mBranch with id \u001b[39m\u001b[38;5;124m'\u001b[39m\u001b[38;5;132;01m{\u001b[39;00m\u001b[38;5;28mid\u001b[39m\u001b[38;5;132;01m}\u001b[39;00m\u001b[38;5;124m'\u001b[39m\u001b[38;5;124m is floating.\u001b[39m\u001b[38;5;124m\"\u001b[39m)\n\u001b[1;32m     67\u001b[0m \u001b[38;5;28;01mreturn\u001b[39;00m {b\u001b[38;5;241m.\u001b[39mid: b \u001b[38;5;28;01mfor\u001b[39;00m b \u001b[38;5;129;01min\u001b[39;00m \u001b[38;5;28mself\u001b[39m\u001b[38;5;241m.\u001b[39mbranches \u001b[38;5;28;01mif\u001b[39;00m b\u001b[38;5;241m.\u001b[39mid \u001b[38;5;129;01min\u001b[39;00m \u001b[38;5;28mself\u001b[39m\u001b[38;5;241m.\u001b[39mbranch_ids}[\u001b[38;5;28mid\u001b[39m]\n",
      "\u001b[0;31mKeyError\u001b[0m: \"Branch with id 'Vs2' is floating.\""
     ]
    }
   ],
   "source": [
    "solution = dc_solution(circuit)\n",
    "print(f'I(Vs1)={solution.get_current(\"Vs1\"):2.2f}A')\n",
    "print(f'V(Vs1)={solution.get_voltage(\"Vs1\"):2.2f}V')\n",
    "print(f'P(Vs1)={solution.get_power(\"Vs1\"):2.2f}W')\n",
    "print(f'I(Vs2)={solution.get_current(\"Vs2\"):2.2f}A')\n",
    "print(f'V(Vs2)={solution.get_voltage(\"Vs2\"):2.2f}V')\n",
    "print(f'P(Vs2)={solution.get_power(\"Vs2\"):2.2f}W')\n",
    "print(f'I(R3)={solution.get_current(\"R3\"):2.2f}A')\n",
    "print(f'V(R3)={solution.get_voltage(\"R3\"):2.2f}V')\n",
    "print(f'P(R3)={solution.get_power(\"R3\"):2.2f}W')"
   ]
  }
 ],
 "metadata": {
  "kernelspec": {
   "display_name": "venv (3.10.18)",
   "language": "python",
   "name": "python3"
  },
  "language_info": {
   "codemirror_mode": {
    "name": "ipython",
    "version": 3
   },
   "file_extension": ".py",
   "mimetype": "text/x-python",
   "name": "python",
   "nbconvert_exporter": "python",
   "pygments_lexer": "ipython3",
   "version": "3.10.18"
  },
  "orig_nbformat": 4
 },
 "nbformat": 4,
 "nbformat_minor": 2
}
