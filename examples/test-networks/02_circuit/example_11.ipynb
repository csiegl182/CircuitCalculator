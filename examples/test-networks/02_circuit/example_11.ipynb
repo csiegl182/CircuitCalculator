{
 "cells": [
  {
   "cell_type": "markdown",
   "metadata": {},
   "source": [
    "# Example 11"
   ]
  },
  {
   "cell_type": "code",
   "execution_count": 1,
   "metadata": {},
   "outputs": [],
   "source": [
    "from CircuitCalculator.Circuit.circuit import Circuit\n",
    "import CircuitCalculator.Circuit.Components.components as ccp\n",
    "from CircuitCalculator.Circuit.solution import dc_solution"
   ]
  },
  {
   "cell_type": "code",
   "execution_count": 2,
   "metadata": {},
   "outputs": [],
   "source": [
    "circuit = Circuit([\n",
    "    ccp.dc_current_source(I=4, id='Is', nodes=('0', '1')),\n",
    "    ccp.dc_voltage_source(V=120, id='Vs', nodes=('3', '2')),\n",
    "    ccp.resistor(R=15, id='R1', nodes=('1', '0')),\n",
    "    ccp.resistor(R=5, id='R2', nodes=('1', '2')),\n",
    "    ccp.resistor(R=20, id='R3', nodes=('2', '0')),\n",
    "    ccp.resistor(R=20, id='R4', nodes=('3', '0'))\n",
    "])"
   ]
  },
  {
   "cell_type": "code",
   "execution_count": 3,
   "metadata": {},
   "outputs": [
    {
     "name": "stdout",
     "output_type": "stream",
     "text": [
      "I(Is)=4.00A\n",
      "I(Vs)=-5.00A\n",
      "I(R1)=-0.00A\n",
      "I(R2)=4.00A\n",
      "I(R3)=-1.00A\n",
      "I(R4)=5.00A\n",
      "V(Is)=0.00V\n",
      "V(Vs)=120.00V\n",
      "V(R1)=-0.00V\n",
      "V(R2)=20.00V\n",
      "V(R3)=-20.00V\n",
      "V(R4)=100.00V\n"
     ]
    }
   ],
   "source": [
    "solution = dc_solution(circuit)\n",
    "print(f'I(Is)={solution.get_current(\"Is\"):2.2f}A')\n",
    "print(f'I(Vs)={solution.get_current(\"Vs\"):2.2f}A')\n",
    "print(f'I(R1)={solution.get_current(\"R1\"):2.2f}A')\n",
    "print(f'I(R2)={solution.get_current(\"R2\"):2.2f}A')\n",
    "print(f'I(R3)={solution.get_current(\"R3\"):2.2f}A')\n",
    "print(f'I(R4)={solution.get_current(\"R4\"):2.2f}A')\n",
    "print(f'V(Is)={solution.get_voltage(\"Is\"):2.2f}V')\n",
    "print(f'V(Vs)={solution.get_voltage(\"Vs\"):2.2f}V')\n",
    "print(f'V(R1)={solution.get_voltage(\"R1\"):2.2f}V')\n",
    "print(f'V(R2)={solution.get_voltage(\"R2\"):2.2f}V')\n",
    "print(f'V(R3)={solution.get_voltage(\"R3\"):2.2f}V')\n",
    "print(f'V(R4)={solution.get_voltage(\"R4\"):2.2f}V')"
   ]
  }
 ],
 "metadata": {
  "kernelspec": {
   "display_name": "venv (3.10.18)",
   "language": "python",
   "name": "python3"
  },
  "language_info": {
   "codemirror_mode": {
    "name": "ipython",
    "version": 3
   },
   "file_extension": ".py",
   "mimetype": "text/x-python",
   "name": "python",
   "nbconvert_exporter": "python",
   "pygments_lexer": "ipython3",
   "version": "3.10.18"
  },
  "orig_nbformat": 4
 },
 "nbformat": 4,
 "nbformat_minor": 2
}
