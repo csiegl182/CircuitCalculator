{
 "cells": [
  {
   "cell_type": "markdown",
   "metadata": {},
   "source": [
    "# Example 21"
   ]
  },
  {
   "cell_type": "code",
   "execution_count": 5,
   "metadata": {},
   "outputs": [],
   "source": [
    "from CircuitCalculator.Circuit.circuit import Circuit\n",
    "import CircuitCalculator.Circuit.Components.components as ccp\n",
    "from CircuitCalculator.Circuit.solution import dc_solution"
   ]
  },
  {
   "cell_type": "code",
   "execution_count": 6,
   "metadata": {},
   "outputs": [],
   "source": [
    "circuit = Circuit(\n",
    "    [\n",
    "        ccp.resistor(R=1, id='Rx', nodes=('a', 'b')),\n",
    "        ccp.dc_voltage_source(V=12, id='Vs', nodes=('1', '0')),\n",
    "        ccp.resistor(R=3, id='R1', nodes=('1', '2')),\n",
    "        ccp.resistor(R=6, id='R2', nodes=('2', '0')),\n",
    "        ccp.resistor(R=1, id='R3', nodes=('1', '3')),\n",
    "        ccp.resistor(R=2, id='R4', nodes=('3', '0')),\n",
    "        ccp.switch(state='open', id='SW', nodes=('3', '0'))\n",
    "    ],\n",
    "    ground_node='',\n",
    ")"
   ]
  },
  {
   "cell_type": "code",
   "execution_count": 7,
   "metadata": {},
   "outputs": [
    {
     "name": "stdout",
     "output_type": "stream",
     "text": [
      "I(Vs)=-5.33A\n",
      "V(Vs)=12.00V\n",
      "P(Vs)=-64.00W\n",
      "I(R3)=4.00A\n",
      "V(R3)=4.00V\n",
      "P(R3)=16.00W\n",
      "I(Rx)=nanA\n",
      "V(Rx)=nanV\n",
      "P(Rx)=nanW\n"
     ]
    }
   ],
   "source": [
    "solution = dc_solution(circuit)\n",
    "print(f'I(Vs)={solution.get_current(\"Vs\"):2.2f}A')\n",
    "print(f'V(Vs)={solution.get_voltage(\"Vs\"):2.2f}V')\n",
    "print(f'P(Vs)={solution.get_power(\"Vs\"):2.2f}W')\n",
    "print(f'I(R3)={solution.get_current(\"R3\"):2.2f}A')\n",
    "print(f'V(R3)={solution.get_voltage(\"R3\"):2.2f}V')\n",
    "print(f'P(R3)={solution.get_power(\"R3\"):2.2f}W')\n",
    "print(f'I(Rx)={solution.get_current(\"Rx\"):2.2f}A')\n",
    "print(f'V(Rx)={solution.get_voltage(\"Rx\"):2.2f}V')\n",
    "print(f'P(Rx)={solution.get_power(\"Rx\"):2.2f}W')"
   ]
  }
 ],
 "metadata": {
  "kernelspec": {
   "display_name": "venv (3.10.18)",
   "language": "python",
   "name": "python3"
  },
  "language_info": {
   "codemirror_mode": {
    "name": "ipython",
    "version": 3
   },
   "file_extension": ".py",
   "mimetype": "text/x-python",
   "name": "python",
   "nbconvert_exporter": "python",
   "pygments_lexer": "ipython3",
   "version": "3.10.18"
  },
  "orig_nbformat": 4
 },
 "nbformat": 4,
 "nbformat_minor": 2
}
