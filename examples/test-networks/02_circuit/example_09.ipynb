{
 "cells": [
  {
   "cell_type": "markdown",
   "metadata": {},
   "source": [
    "# Example 9"
   ]
  },
  {
   "cell_type": "code",
   "execution_count": 1,
   "metadata": {},
   "outputs": [],
   "source": [
    "from CircuitCalculator.Circuit.circuit import Circuit\n",
    "import CircuitCalculator.Circuit.Components.components as ccp\n",
    "from CircuitCalculator.Circuit.solution import dc_solution"
   ]
  },
  {
   "cell_type": "code",
   "execution_count": 2,
   "metadata": {},
   "outputs": [],
   "source": [
    "circuit = Circuit([\n",
    "    ccp.dc_voltage_source(V=1, id='Vs1', nodes=('1', '0')),\n",
    "    ccp.dc_voltage_source(V=2, id='Vs2', nodes=('2', '1')),\n",
    "    ccp.resistor(R=10, id='R', nodes=('2', '0'))\n",
    "])"
   ]
  },
  {
   "cell_type": "code",
   "execution_count": 3,
   "metadata": {},
   "outputs": [
    {
     "name": "stdout",
     "output_type": "stream",
     "text": [
      "I(R)=0.30A\n",
      "I(Vs1)=-0.30A\n",
      "I(Vs2)=-0.30A\n",
      "V(R)=3.00V\n",
      "V(Vs1)=1.00V\n",
      "V(Vs2)=2.00V\n"
     ]
    }
   ],
   "source": [
    "solution = dc_solution(circuit)\n",
    "print(f'I(R)={solution.get_current(\"R\"):2.2f}A')\n",
    "print(f'I(Vs1)={solution.get_current(\"Vs1\"):2.2f}A')\n",
    "print(f'I(Vs2)={solution.get_current(\"Vs2\"):2.2f}A')\n",
    "print(f'V(R)={solution.get_voltage(\"R\"):2.2f}V')\n",
    "print(f'V(Vs1)={solution.get_voltage(\"Vs1\"):2.2f}V')\n",
    "print(f'V(Vs2)={solution.get_voltage(\"Vs2\"):2.2f}V')"
   ]
  }
 ],
 "metadata": {
  "kernelspec": {
   "display_name": "venv",
   "language": "python",
   "name": "python3"
  },
  "language_info": {
   "codemirror_mode": {
    "name": "ipython",
    "version": 3
   },
   "file_extension": ".py",
   "mimetype": "text/x-python",
   "name": "python",
   "nbconvert_exporter": "python",
   "pygments_lexer": "ipython3",
   "version": "3.10.18"
  },
  "orig_nbformat": 4
 },
 "nbformat": 4,
 "nbformat_minor": 2
}
