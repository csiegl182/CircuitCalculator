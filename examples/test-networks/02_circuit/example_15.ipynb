{
 "cells": [
  {
   "cell_type": "markdown",
   "metadata": {},
   "source": [
    "# Example 15"
   ]
  },
  {
   "cell_type": "code",
   "execution_count": 1,
   "metadata": {},
   "outputs": [],
   "source": [
    "from CircuitCalculator.Circuit.circuit import Circuit\n",
    "import CircuitCalculator.Circuit.components as ccp\n",
    "from CircuitCalculator.Circuit.solution import DCSolution"
   ]
  },
  {
   "cell_type": "code",
   "execution_count": 2,
   "metadata": {},
   "outputs": [],
   "source": [
    "circuit = Circuit([\n",
    "    ccp.dc_voltage_source(V=1, id='Vs', nodes=('1', '0')),\n",
    "    ccp.resistor(R=10, id='R1', nodes=('1', '2')),\n",
    "    ccp.resistor(R=20, id='R2', nodes=('2', '0')),\n",
    "    ccp.resistor(R=30, id='R3', nodes=('1', '3')),\n",
    "    ccp.resistor(R=40, id='R4', nodes=('3', '0')),\n",
    "    ccp.short_circuit(id='SC', nodes=('2', '3'))\n",
    "])"
   ]
  },
  {
   "cell_type": "code",
   "execution_count": 5,
   "metadata": {},
   "outputs": [
    {
     "name": "stdout",
     "output_type": "stream",
     "text": [
      "I(Vs)=-48.00mA\n",
      "I(R1)=36.00mA\n",
      "I(R2)=32.00mA\n",
      "I(R3)=12.00mA\n",
      "I(R4)=16.00mA\n",
      "I(SC)=4.00mA\n",
      "V(Vs)=1.00V\n",
      "V(R1)=0.36V\n",
      "V(R2)=0.64V\n",
      "V(R3)=0.36V\n",
      "V(R4)=0.64V\n"
     ]
    }
   ],
   "source": [
    "solution = DCSolution(circuit)\n",
    "print(f'I(Vs)={solution.get_current(\"Vs\")*1000:2.2f}mA')\n",
    "print(f'I(R1)={solution.get_current(\"R1\")*1000:2.2f}mA')\n",
    "print(f'I(R2)={solution.get_current(\"R2\")*1000:2.2f}mA')\n",
    "print(f'I(R3)={solution.get_current(\"R3\")*1000:2.2f}mA')\n",
    "print(f'I(R4)={solution.get_current(\"R4\")*1000:2.2f}mA')\n",
    "print(f'I(SC)={solution.get_current(\"SC\")*1000:2.2f}mA')\n",
    "print(f'V(Vs)={solution.get_voltage(\"Vs\"):2.2f}V')\n",
    "print(f'V(R1)={solution.get_voltage(\"R1\"):2.2f}V')\n",
    "print(f'V(R2)={solution.get_voltage(\"R2\"):2.2f}V')\n",
    "print(f'V(R3)={solution.get_voltage(\"R3\"):2.2f}V')\n",
    "print(f'V(R4)={solution.get_voltage(\"R4\"):2.2f}V')"
   ]
  }
 ],
 "metadata": {
  "kernelspec": {
   "display_name": "venv",
   "language": "python",
   "name": "python3"
  },
  "language_info": {
   "codemirror_mode": {
    "name": "ipython",
    "version": 3
   },
   "file_extension": ".py",
   "mimetype": "text/x-python",
   "name": "python",
   "nbconvert_exporter": "python",
   "pygments_lexer": "ipython3",
   "version": "3.10.13"
  },
  "orig_nbformat": 4
 },
 "nbformat": 4,
 "nbformat_minor": 2
}
