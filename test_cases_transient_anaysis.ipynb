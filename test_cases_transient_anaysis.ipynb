{
 "cells": [
  {
   "attachments": {},
   "cell_type": "markdown",
   "metadata": {},
   "source": [
    "# Test Cases for Transient Analysis"
   ]
  },
  {
   "cell_type": "code",
   "execution_count": 1,
   "metadata": {},
   "outputs": [],
   "source": [
    "from CircuitCalculator.Circuit.state_space_model import StateSpaceModel\n",
    "from CircuitCalculator.Circuit.circuit import Circuit\n",
    "from CircuitCalculator.Circuit import components as cmp\n",
    "from CircuitCalculator.Network import elements as elm\n",
    "from CircuitCalculator.Network.network import Network, Branch\n",
    "from CircuitCalculator.Network.NodalAnalysis.state_space_model import NodalStateSpaceModel, BranchValues\n",
    "from scipy import signal\n",
    "import numpy as np\n",
    "import matplotlib.pyplot as plt"
   ]
  },
  {
   "cell_type": "markdown",
   "metadata": {},
   "source": [
    "## Test Case 1 - Single Capacitor"
   ]
  },
  {
   "cell_type": "code",
   "execution_count": 2,
   "metadata": {},
   "outputs": [],
   "source": [
    "G1, G2, G3 = 10, 20, 30\n",
    "R1, R2, R3 = 1/G1, 1/G2, 1/G3\n",
    "R1, R2, R3 = 10, 20, 30\n",
    "G1, G2, G3 = 1/R1, 1/R2, 1/R3\n",
    "RC = 40e6\n",
    "C = 1e-3\n",
    "V0 = 5\n",
    "circuit = Circuit([\n",
    "    cmp.dc_voltage_source(id='Uq', V=V0, nodes=('1', '0')),\n",
    "    cmp.resistor(id='R1', R=R1, nodes=('1', '2')),\n",
    "    cmp.resistor(id='R2', R=R2, nodes=('2', '0')),\n",
    "    cmp.resistor(id='R3', R=R3, nodes=('2', '3')),\n",
    "    cmp.capacitor(id='C', C=C, nodes=('3', '0')),\n",
    "    cmp.ground(nodes=('0',))\n",
    "])"
   ]
  },
  {
   "cell_type": "markdown",
   "metadata": {},
   "source": [
    "### Setup Solution"
   ]
  },
  {
   "cell_type": "code",
   "execution_count": 3,
   "metadata": {},
   "outputs": [],
   "source": [
    "def step(t: np.ndarray) -> np.ndarray:\n",
    "    return np.heaviside(t, 1)"
   ]
  },
  {
   "cell_type": "code",
   "execution_count": 4,
   "metadata": {},
   "outputs": [],
   "source": [
    "t_max = 0.3\n",
    "t0 = 0.1\n",
    "Ts = 0.0003\n",
    "t = np.arange(0, t_max, Ts)\n",
    "V = V0*step(t-t0)"
   ]
  },
  {
   "cell_type": "markdown",
   "metadata": {},
   "source": [
    "### Calculate Solution"
   ]
  },
  {
   "cell_type": "code",
   "execution_count": 5,
   "metadata": {},
   "outputs": [
    {
     "name": "stdout",
     "output_type": "stream",
     "text": [
      "[[0.        ]\n",
      " [0.18181818]\n",
      " [1.        ]]\n",
      "[[1.00000000e+00]\n",
      " [5.45454545e-01]\n",
      " [2.02699810e-17]]\n"
     ]
    }
   ],
   "source": [
    "from CircuitCalculator.Circuit.state_space_model import Output, OutputType\n",
    "ss = StateSpaceModel(circuit=circuit)\n",
    "sys = signal.StateSpace(ss.A, ss.B, ss.C, ss.D)\n",
    "tout, yout, out = signal.lsim(sys, V, t)\n",
    "print(ss.C)\n",
    "print(ss.D)"
   ]
  },
  {
   "cell_type": "markdown",
   "metadata": {},
   "source": [
    "### Calculate Reference Solution"
   ]
  },
  {
   "cell_type": "code",
   "execution_count": 6,
   "metadata": {},
   "outputs": [],
   "source": [
    "def pll(R1, R2):\n",
    "    return R1*R2/(R1+R2)\n",
    "\n",
    "Ri = pll(pll(R1, R2)+R3, RC)\n",
    "tau = Ri*C\n",
    "u2_ref = V*R2/(R1+R2)*(1+(R3*C/tau-1)*(np.exp(-(tout-t0)/tau)))\n",
    "uc_ref = V*R2/(R1+R2)*(1-np.exp(-(tout-t0)/tau))"
   ]
  },
  {
   "cell_type": "markdown",
   "metadata": {},
   "source": [
    "### Plot Solution"
   ]
  },
  {
   "cell_type": "code",
   "execution_count": 7,
   "metadata": {},
   "outputs": [
    {
     "data": {
      "text/plain": [
       "(0.0, 0.3)"
      ]
     },
     "execution_count": 7,
     "metadata": {},
     "output_type": "execute_result"
    },
    {
     "data": {
      "image/png": "[encoded data removed]",
      "text/plain": [
       "<Figure size 640x480 with 3 Axes>"
      ]
     },
     "metadata": {},
     "output_type": "display_data"
    }
   ],
   "source": [
    "_, ax = plt.subplots(nrows=3, sharex=True)\n",
    "ax[0].plot(tout, yout[:,0], 'b-')\n",
    "ax[0].plot(t, V, 'k--')\n",
    "ax[0].grid(True)\n",
    "\n",
    "ax[1].plot(tout, yout[:,1], 'b-')\n",
    "ax[1].plot(tout, u2_ref, 'k--')\n",
    "ax[1].grid(True)\n",
    "\n",
    "ax[2].plot(tout, yout[:,2], 'b-')\n",
    "ax[2].plot(tout, uc_ref, 'k--')\n",
    "ax[2].grid(True)\n",
    "ax[2].set_xlim((0, t_max))"
   ]
  },
  {
   "cell_type": "markdown",
   "metadata": {},
   "source": [
    "## Test Case 2 - Voltage and Current Source"
   ]
  },
  {
   "cell_type": "code",
   "execution_count": 8,
   "metadata": {},
   "outputs": [],
   "source": [
    "R1, R2 = 10, 20\n",
    "G1, G2 = 1/R1, 1/R2\n",
    "RC = 40e6\n",
    "C = 1e-3\n",
    "V0 = 5\n",
    "I0 = -0.1\n",
    "circuit = Circuit([\n",
    "    cmp.dc_voltage_source(id='Uq', V=V0, nodes=('1', '0')),\n",
    "    cmp.resistor(id='R1', R=R1, nodes=('1', '2')),\n",
    "    cmp.capacitor(id='C', C=C, nodes=('2', '3')),\n",
    "    cmp.resistor(id='R2', R=R2, nodes=('3', '0')),\n",
    "    cmp.dc_current_source(id='Iq', I=I0, nodes=('0', '3')),\n",
    "    cmp.ground(nodes=('0',))\n",
    "])"
   ]
  },
  {
   "cell_type": "code",
   "execution_count": 9,
   "metadata": {},
   "outputs": [],
   "source": [
    "network = Network([\n",
    "    Branch(node1='1', node2='0', element=elm.NortenElement(name='Uq', type='voltage_source', Z=0, V=V0)),\n",
    "    Branch(node1='1', node2='2', element=elm.NortenElement(name='R1', type='resistor', Z=R1, V=0)),\n",
    "    Branch(node1='2', node2='3', element=elm.TheveninElement(name='C', type='capacitor', Y=1/RC, I=0)),\n",
    "    Branch(node1='3', node2='0', element=elm.NortenElement(name='R2', type='resistor', Z=R2, V=0)),\n",
    "    Branch(node1='0', node2='3', element=elm.TheveninElement(name='Iq', type='current_source', Y=0, I=I0))\n",
    "])"
   ]
  },
  {
   "cell_type": "markdown",
   "metadata": {},
   "source": [
    "### Setup Solution"
   ]
  },
  {
   "cell_type": "code",
   "execution_count": 10,
   "metadata": {},
   "outputs": [],
   "source": [
    "t_max = 0.5\n",
    "t0 = 0.1\n",
    "t1 = 0.2\n",
    "Ts = 0.0003\n",
    "t = np.arange(0, t_max, Ts)\n",
    "V = V0*step(t-t0)\n",
    "I = I0*step(t-t1)"
   ]
  },
  {
   "cell_type": "markdown",
   "metadata": {},
   "source": [
    "### Calculate Solution"
   ]
  },
  {
   "cell_type": "code",
   "execution_count": 11,
   "metadata": {},
   "outputs": [
    {
     "ename": "TypeError",
     "evalue": "NodalStateSpaceModel.__init__() missing 1 required positional argument: 'output_values'",
     "output_type": "error",
     "traceback": [
      "\u001b[0;31m---------------------------------------------------------------------------\u001b[0m",
      "\u001b[0;31mTypeError\u001b[0m                                 Traceback (most recent call last)",
      "Cell \u001b[0;32mIn[11], line 1\u001b[0m\n\u001b[0;32m----> 1\u001b[0m ss \u001b[38;5;241m=\u001b[39m \u001b[43mNodalStateSpaceModel\u001b[49m\u001b[43m(\u001b[49m\u001b[43mnetwork\u001b[49m\u001b[38;5;241;43m=\u001b[39;49m\u001b[43mnetwork\u001b[49m\u001b[43m,\u001b[49m\u001b[43m \u001b[49m\u001b[43mc_values\u001b[49m\u001b[38;5;241;43m=\u001b[39;49m\u001b[43m[\u001b[49m\u001b[43mBranchValues\u001b[49m\u001b[43m(\u001b[49m\u001b[43mvalue\u001b[49m\u001b[38;5;241;43m=\u001b[39;49m\u001b[43mC\u001b[49m\u001b[43m,\u001b[49m\u001b[43m \u001b[49m\u001b[38;5;28;43mid\u001b[39;49m\u001b[38;5;241;43m=\u001b[39;49m\u001b[38;5;124;43m'\u001b[39;49m\u001b[38;5;124;43mC\u001b[39;49m\u001b[38;5;124;43m'\u001b[39;49m\u001b[43m,\u001b[49m\u001b[43m \u001b[49m\u001b[43mnode1\u001b[49m\u001b[38;5;241;43m=\u001b[39;49m\u001b[38;5;124;43m'\u001b[39;49m\u001b[38;5;124;43m2\u001b[39;49m\u001b[38;5;124;43m'\u001b[39;49m\u001b[43m,\u001b[49m\u001b[43m \u001b[49m\u001b[43mnode2\u001b[49m\u001b[38;5;241;43m=\u001b[39;49m\u001b[38;5;124;43m'\u001b[39;49m\u001b[38;5;124;43m3\u001b[39;49m\u001b[38;5;124;43m'\u001b[39;49m\u001b[43m)\u001b[49m\u001b[43m]\u001b[49m\u001b[43m)\u001b[49m\n\u001b[1;32m      2\u001b[0m sys \u001b[38;5;241m=\u001b[39m signal\u001b[38;5;241m.\u001b[39mStateSpace(ss\u001b[38;5;241m.\u001b[39mA, ss\u001b[38;5;241m.\u001b[39mB, ss\u001b[38;5;241m.\u001b[39mC, ss\u001b[38;5;241m.\u001b[39mD)\n\u001b[1;32m      3\u001b[0m tout, yout, xout \u001b[38;5;241m=\u001b[39m signal\u001b[38;5;241m.\u001b[39mlsim(sys, np\u001b[38;5;241m.\u001b[39mcolumn_stack([I, V]), t)\n",
      "\u001b[0;31mTypeError\u001b[0m: NodalStateSpaceModel.__init__() missing 1 required positional argument: 'output_values'"
     ]
    }
   ],
   "source": [
    "ss = NodalStateSpaceModel(network=network, c_values=[BranchValues(value=C, id='C', node1='2', node2='3')])\n",
    "sys = signal.StateSpace(ss.A, ss.B, ss.C, ss.D)\n",
    "tout, yout, xout = signal.lsim(sys, np.column_stack([I, V]), t)"
   ]
  },
  {
   "cell_type": "markdown",
   "metadata": {},
   "source": [
    "### Calculate Reference"
   ]
  },
  {
   "cell_type": "code",
   "execution_count": null,
   "metadata": {},
   "outputs": [],
   "source": [
    "Ri = R1+R2\n",
    "tau = Ri*C\n",
    "\n",
    "uc_ref = np.zeros(t.size)\n",
    "uc_ref[t>t0] = V0*(1-np.exp(-(tout[t>t0]-t0)/tau))\n",
    "uc_ref[t>t1] = uc_ref[t>t1] - I0*R2*(1-np.exp(-(tout[t>t1]-t1)/tau))\n",
    "\n",
    "ic_ref = np.zeros(t.size)\n",
    "ic_ref[t>t0] = C*V0*(-np.exp(-(tout[t>0.1]-0.1)/tau))*(-1/tau)\n",
    "ic_ref[t>t1] = ic_ref[t>t1] - C*I0*R2*(-np.exp(-(tout[t>t1]-t1)/tau))*(-1/tau)\n",
    "\n",
    "phi1_ref = -ic_ref*R1 + V\n",
    "phi2_ref = (ic_ref + I)*R2"
   ]
  },
  {
   "cell_type": "markdown",
   "metadata": {},
   "source": [
    "### Plot Solution"
   ]
  },
  {
   "cell_type": "code",
   "execution_count": null,
   "metadata": {},
   "outputs": [],
   "source": [
    "_, ax = plt.subplots(nrows=3, sharex=True, figsize=(6, 8))\n",
    "ax[0].plot(tout, yout[:,0]-yout[:,1], 'b-')\n",
    "ax[0].plot(tout, uc_ref, 'k--')\n",
    "ax[0].grid(True)\n",
    "\n",
    "ax[1].plot(tout, yout[:,0], 'b-')\n",
    "ax[1].plot(tout, phi1_ref, 'k--')\n",
    "ax[1].grid(True)\n",
    "\n",
    "ax[2].plot(tout, yout[:,1], 'b-')\n",
    "ax[2].plot(tout, phi2_ref, 'g--')\n",
    "ax[2].grid(True)\n",
    "ax[2].set_xlim((0, t_max))"
   ]
  },
  {
   "cell_type": "markdown",
   "metadata": {},
   "source": [
    "## Test Case 3 - Two Capacitors"
   ]
  },
  {
   "cell_type": "code",
   "execution_count": null,
   "metadata": {},
   "outputs": [],
   "source": [
    "V0 = 1\n",
    "R1, R2 = 10, 20\n",
    "RC = 40e6\n",
    "C1 = 5e-3\n",
    "C2 = 1e-3\n",
    "circuit = Circuit([\n",
    "    cmp.dc_voltage_source(id='Uq', V=V0, nodes=('1', '0')),\n",
    "    cmp.resistor(id='R1', R=R1, nodes=('1', '2')),\n",
    "    cmp.capacitor(id='C1', C=C1, nodes=('2', '3')),\n",
    "    cmp.resistor(id='R2', R=R2, nodes=('3', '0')),\n",
    "    cmp.capacitor(id='C2', C=C2, nodes=('3', '0')),\n",
    "    cmp.ground(nodes=('0',))\n",
    "])"
   ]
  },
  {
   "cell_type": "code",
   "execution_count": null,
   "metadata": {},
   "outputs": [],
   "source": [
    "network = Network([\n",
    "    Branch(node1='1', node2='0', element=elm.NortenElement(name='Uq', type='voltage_source', Z=0, V=1)),\n",
    "    Branch(node1='1', node2='2', element=elm.NortenElement(name='R1', type='resistor', Z=R1, V=0)),\n",
    "    Branch(node1='2', node2='3', element=elm.TheveninElement(name='C1', type='capacitor', Y=1/RC, I=0)),\n",
    "    Branch(node1='3', node2='0', element=elm.NortenElement(name='R2', type='resistor', Z=R2, V=0)),\n",
    "    Branch(node1='3', node2='0', element=elm.TheveninElement(name='C2', type='capacitor', Y=1/RC, I=0))\n",
    "])"
   ]
  },
  {
   "cell_type": "markdown",
   "metadata": {},
   "source": [
    "### Setup Solution"
   ]
  },
  {
   "cell_type": "code",
   "execution_count": null,
   "metadata": {},
   "outputs": [],
   "source": [
    "t_max = 0.5\n",
    "t0 = 0.1\n",
    "Ts = 0.0003\n",
    "t = np.arange(0, t_max, Ts)\n",
    "V = V0*step(t-t0)"
   ]
  },
  {
   "cell_type": "markdown",
   "metadata": {},
   "source": [
    "### Calculate Solution"
   ]
  },
  {
   "cell_type": "code",
   "execution_count": null,
   "metadata": {},
   "outputs": [],
   "source": [
    "ss = NodalStateSpaceModel(network=network, c_values=[BranchValues(value=C1, id='C1', node1='2', node2='3'), BranchValues(value=C2, id='C2', node1='3', node2='0')])\n",
    "sys = signal.StateSpace(ss.A, ss.B, ss.C, ss.D)\n",
    "tout, yout, xout = signal.lsim(sys, V, t)"
   ]
  },
  {
   "cell_type": "markdown",
   "metadata": {},
   "source": [
    "### Calculate Reference"
   ]
  },
  {
   "cell_type": "code",
   "execution_count": null,
   "metadata": {},
   "outputs": [],
   "source": [
    "def quad_equation(a, b, c):\n",
    "    D = np.sqrt(b**2-4*a*c)\n",
    "    return ((-b+D)/2/a, (-b-D)/2/a)\n",
    "\n",
    "a = C2*R2\n",
    "b = C1*R1\n",
    "c = C1*R2\n",
    "s1, s2 = quad_equation(1, (a+b+c)/a/b, 1/a/b)\n",
    "s3, s4 = quad_equation(1, (a+b+c)/a/b, 1/a/b)\n",
    "\n",
    "t_ref = tout[t>t0]-t0\n",
    "\n",
    "uc1_ref = np.zeros(t.size)\n",
    "uc1_ref[t>t0] = V0/a/b * (1/s1/s2 + 1/(s2-s1)*(-1/s1*np.exp(s1*t_ref)+1/s2*np.exp(s2*t_ref))) + V0/b * 1/(s1-s2) * (np.exp(s1*t_ref)-np.exp(s2*t_ref))\n",
    "\n",
    "uc2_ref = np.zeros(t.size)\n",
    "uc2_ref[t>t0] = V0*c/a/b * (np.exp(s3*t_ref)-np.exp(s4*t_ref))/(s3-s4)\n",
    "\n",
    "phi1_ref = uc1_ref + uc2_ref"
   ]
  },
  {
   "cell_type": "markdown",
   "metadata": {},
   "source": [
    "### Plot Solution"
   ]
  },
  {
   "cell_type": "code",
   "execution_count": null,
   "metadata": {},
   "outputs": [],
   "source": [
    "_, ax = plt.subplots(nrows=3, sharex=True, figsize=(6, 8))\n",
    "ax[0].plot(tout, yout[:,0]-yout[:,1], 'b-')\n",
    "ax[0].plot(tout, uc1_ref, 'k--')\n",
    "ax[0].grid(True)\n",
    "\n",
    "ax[1].plot(tout, yout[:,0], 'b-')\n",
    "ax[1].plot(tout, phi1_ref, 'k--')\n",
    "ax[1].grid(True)\n",
    "\n",
    "ax[2].plot(tout, yout[:,1], 'b-')\n",
    "ax[2].plot(tout, uc2_ref, 'g--')\n",
    "ax[2].grid(True)\n",
    "ax[2].set_xlim((0, t_max))"
   ]
  }
 ],
 "metadata": {
  "kernelspec": {
   "display_name": "Python 3",
   "language": "python",
   "name": "python3"
  },
  "language_info": {
   "codemirror_mode": {
    "name": "ipython",
    "version": 3
   },
   "file_extension": ".py",
   "mimetype": "text/x-python",
   "name": "python",
   "nbconvert_exporter": "python",
   "pygments_lexer": "ipython3",
   "version": "3.10.14"
  },
  "orig_nbformat": 4
 },
 "nbformat": 4,
 "nbformat_minor": 2
}
