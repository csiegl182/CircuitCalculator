{
 "cells": [
  {
   "attachments": {},
   "cell_type": "markdown",
   "metadata": {},
   "source": [
    "# Test Case 5 - Single Inductance"
   ]
  },
  {
   "cell_type": "code",
   "execution_count": 1,
   "metadata": {},
   "outputs": [],
   "source": [
    "from CircuitCalculator.Circuit.state_space_model import state_space_model_v2\n",
    "from CircuitCalculator.Circuit.circuit import Circuit, transform_circuit\n",
    "from CircuitCalculator.Circuit import components as cmp\n",
    "from scipy import signal\n",
    "import numpy as np\n",
    "import matplotlib.pyplot as plt"
   ]
  },
  {
   "cell_type": "markdown",
   "metadata": {},
   "source": [
    "## Setup Circuit"
   ]
  },
  {
   "cell_type": "code",
   "execution_count": 2,
   "metadata": {},
   "outputs": [],
   "source": [
    "R1, R2, R3 = 10, 20, 30\n",
    "L = 2\n",
    "V0 = 5\n",
    "circuit = Circuit([\n",
    "    cmp.dc_voltage_source(id='Uq', V=V0, nodes=('1', '0')),\n",
    "    cmp.resistor(id='R1', R=R1, nodes=('1', '2')),\n",
    "    cmp.resistor(id='R2', R=R2, nodes=('2', '0')),\n",
    "    cmp.resistor(id='R3', R=R3, nodes=('2', '3')),\n",
    "    cmp.inductance(id='L', L=L, nodes=('3', '0')),\n",
    "    cmp.ground(nodes=('0',))\n",
    "])"
   ]
  },
  {
   "cell_type": "code",
   "execution_count": 3,
   "metadata": {},
   "outputs": [
    {
     "data": {
      "text/plain": [
       "Network(branches=[Branch(node1='1', node2='0', element=NortenElement(name='Uq', type='voltage_source', Z=0j, V=(5+0j))), Branch(node1='1', node2='2', element=NortenElement(name='R1', type='resistor', Z=10.0, V=0)), Branch(node1='2', node2='0', element=NortenElement(name='R2', type='resistor', Z=20.0, V=0)), Branch(node1='2', node2='3', element=NortenElement(name='R3', type='resistor', Z=30.0, V=0)), Branch(node1='3', node2='0', element=NortenElement(name='L', type='impedance', Z=0j, V=0))], node_zero_label='0')"
      ]
     },
     "execution_count": 3,
     "metadata": {},
     "output_type": "execute_result"
    }
   ],
   "source": [
    "network=transform_circuit(circuit, w=0)\n",
    "network"
   ]
  },
  {
   "cell_type": "code",
   "execution_count": 4,
   "metadata": {},
   "outputs": [],
   "source": [
    "def step(t: np.ndarray) -> np.ndarray:\n",
    "    return np.heaviside(t, 1)"
   ]
  },
  {
   "cell_type": "code",
   "execution_count": 5,
   "metadata": {},
   "outputs": [],
   "source": [
    "t_max = 0.3\n",
    "t0 = 0.1\n",
    "Ts = 0.0003\n",
    "t = np.arange(0, t_max, Ts)\n",
    "V = V0*step(t-t0)"
   ]
  },
  {
   "cell_type": "code",
   "execution_count": 6,
   "metadata": {},
   "outputs": [],
   "source": [
    "import itertools\n",
    "from CircuitCalculator.Network.NodalAnalysis.label_mapping import default_node_mapper\n",
    "node_mapping = default_node_mapper(network)\n",
    "def element_incidence_matrix(values: dict[str, float]) -> np.ndarray:\n",
    "    Delta = np.zeros((len(values), node_mapping.N))\n",
    "    for (k, value), (i_label) in itertools.product(enumerate(values), node_mapping):\n",
    "        if i_label == network[value].node1:\n",
    "            Delta[k][node_mapping(i_label)] = +1\n",
    "        if i_label == network[value].node2:\n",
    "            Delta[k][node_mapping(i_label)] = -1\n",
    "    return Delta"
   ]
  },
  {
   "cell_type": "code",
   "execution_count": 7,
   "metadata": {},
   "outputs": [
    {
     "name": "stdout",
     "output_type": "stream",
     "text": [
      "[[-18.33333333+0.j]]\n",
      "[[0.33333333+0.j]]\n"
     ]
    }
   ],
   "source": [
    "from CircuitCalculator.Network.NodalAnalysis.node_analysis import *\n",
    "import CircuitCalculator.Network.NodalAnalysis.label_mapping as map\n",
    "\n",
    "l_labels = ['L']\n",
    "\n",
    "Y = create_node_matrix_from_network(network)\n",
    "\n",
    "source_mapping = map.default_source_mapper(network)\n",
    "Q = create_source_incidence_matrix_from_network(network)\n",
    "for l in l_labels:\n",
    "    Q = np.delete(Q, source_mapping[l], axis=1)\n",
    "\n",
    "Delta = np.array([[1]])\n",
    "\n",
    "Tau = np.array([[L/R3]])\n",
    "\n",
    "R = np.array([[R3]])\n",
    "L = np.array([[L]])\n",
    "\n",
    "A = np.linalg.inv(Delta @ np.linalg.inv(Y) @ np.linalg.inv(R) - np.eye(1)) @ np.linalg.inv(L) @ R\n",
    "B = np.linalg.inv(L - Delta @ np.linalg.inv(Y) @ Tau) @ Delta @ np.linalg.inv(Y) @ Q\n",
    "\n",
    "print(A)\n",
    "print(B)\n",
    "\n",
    "# (Delta @ np.linalg.inv(Y) @ np.linalg.inv(R) - np.eye(1)) @ L"
   ]
  },
  {
   "cell_type": "code",
   "execution_count": 8,
   "metadata": {},
   "outputs": [
    {
     "name": "stdout",
     "output_type": "stream",
     "text": [
      "[[-18.33333333]]\n",
      "[[0.33333333]]\n"
     ]
    }
   ],
   "source": [
    "A = -(R1*R2+R1*R3+R2*R3)/(R1+R2)/L\n",
    "B = R2/(R1+R2)/L\n",
    "sys = signal.StateSpace(A, B, 1, 0)\n",
    "tout, yout, _ = signal.lsim(sys, V, t)\n",
    "\n",
    "print(A)\n",
    "print(B)"
   ]
  },
  {
   "cell_type": "code",
   "execution_count": 9,
   "metadata": {},
   "outputs": [
    {
     "data": {
      "text/plain": [
       "[<matplotlib.lines.Line2D at 0x12f5d9720>]"
      ]
     },
     "execution_count": 9,
     "metadata": {},
     "output_type": "execute_result"
    },
    {
     "data": {
      "image/png": "[encoded data removed]",
      "text/plain": [
       "<Figure size 640x480 with 1 Axes>"
      ]
     },
     "metadata": {},
     "output_type": "display_data"
    }
   ],
   "source": [
    "plt.plot(t, yout)"
   ]
  }
 ],
 "metadata": {
  "kernelspec": {
   "display_name": "Python 3",
   "language": "python",
   "name": "python3"
  },
  "language_info": {
   "codemirror_mode": {
    "name": "ipython",
    "version": 3
   },
   "file_extension": ".py",
   "mimetype": "text/x-python",
   "name": "python",
   "nbconvert_exporter": "python",
   "pygments_lexer": "ipython3",
   "version": "3.10.14"
  },
  "orig_nbformat": 4
 },
 "nbformat": 4,
 "nbformat_minor": 2
}
