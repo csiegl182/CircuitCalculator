{
 "cells": [
  {
   "attachments": {},
   "cell_type": "markdown",
   "metadata": {},
   "source": [
    "# Test Setup for Transient Analysis"
   ]
  },
  {
   "cell_type": "code",
   "execution_count": 1,
   "metadata": {},
   "outputs": [],
   "source": [
    "from CircuitCalculator.Circuit.solution import DCSolution\n",
    "from CircuitCalculator.Circuit.circuit import Circuit, transform_circuit\n",
    "from CircuitCalculator.Circuit import components as cmp\n",
    "from CircuitCalculator.Network import elements as elm\n",
    "from CircuitCalculator.Network.network import Network, Branch"
   ]
  },
  {
   "cell_type": "code",
   "execution_count": 2,
   "metadata": {},
   "outputs": [],
   "source": [
    "# G1, G2, G3 = 10, 20, 30\n",
    "# R1, R2, R3 = 1/G1, 1/G2, 1/G3\n",
    "R1, R2, R3 = 10, 20, 30\n",
    "G1, G2, G3 = 1/R1, 1/R2, 1/R3\n",
    "RC = 40e6\n",
    "C = 1e-3\n",
    "circuit = Circuit([\n",
    "    cmp.dc_voltage_source(id='Uq', V=1, nodes=('1', '0')),\n",
    "    cmp.resistor(id='R1', R=R1, nodes=('1', '2')),\n",
    "    cmp.resistor(id='R2', R=R2, nodes=('2', '0')),\n",
    "    cmp.capacitor(id='C', C=C, nodes=('2', '3')),\n",
    "    cmp.resistor(id='R3', R=R3, nodes=('3', '0')),\n",
    "    cmp.ground(nodes=('0',))\n",
    "])\n",
    "solution = DCSolution(circuit)"
   ]
  },
  {
   "cell_type": "markdown",
   "metadata": {},
   "source": [
    "## Funktion zur Berechnung der State Space Matrizen"
   ]
  },
  {
   "cell_type": "code",
   "execution_count": 3,
   "metadata": {},
   "outputs": [],
   "source": [
    "from CircuitCalculator.Network.NodalAnalysis.node_analysis import *\n",
    "from CircuitCalculator.Network.NodalAnalysis import labelmapper as map\n",
    "from CircuitCalculator.Circuit.circuit import Component\n",
    "def voltage_derivatives(components: list[Component]) -> list[Component]:\n",
    "    return [c for c in components if c.type == 'capacitor']\n",
    "\n",
    "def create_state_space_matrices_from_circuit(circuit: Circuit, node_index_mapper: map.NodeIndexMapper = map.default) -> tuple[np.ndarray, np.ndarray]:\n",
    "    network = transform_circuit(circuit, w=0)\n",
    "    node_mapping = node_index_mapper(network)\n",
    "    Y = create_node_matrix_from_network(network).real\n",
    "    Q = create_source_incidence_matrix_from_network(network=network).real\n",
    "    all_Cs = voltage_derivatives(circuit.components)\n",
    "    Delta = np.zeros((len(all_Cs), Y.shape[1]))\n",
    "    for k in range(len(all_Cs)):\n",
    "        for i_label, i in node_mapping.items():\n",
    "            if i_label in all_Cs[k].nodes:\n",
    "                if i_label == all_Cs[k].nodes[0]:\n",
    "                    Delta[k][i] = +1\n",
    "                else:\n",
    "                    Delta[k][i] = -1\n",
    "    Delta = np.matrix(Delta)\n",
    "    invC = np.array([-1/float(C.value['C']) for C in all_Cs])\n",
    "    A = np.linalg.inv(Delta*np.linalg.inv(Y)*Delta.T)*np.diag(invC)\n",
    "    B = -A*Delta*np.linalg.inv(Y)*Q\n",
    "    return A, B"
   ]
  },
  {
   "cell_type": "code",
   "execution_count": 4,
   "metadata": {},
   "outputs": [
    {
     "name": "stdout",
     "output_type": "stream",
     "text": [
      "[[-27.27272727]]\n",
      "[[18.18181818]]\n"
     ]
    },
    {
     "data": {
      "text/plain": [
       "(None, None)"
      ]
     },
     "execution_count": 4,
     "metadata": {},
     "output_type": "execute_result"
    }
   ],
   "source": [
    "A, B = create_state_space_matrices_from_circuit(circuit=circuit)\n",
    "print(A), print(B)"
   ]
  },
  {
   "cell_type": "code",
   "execution_count": 5,
   "metadata": {},
   "outputs": [],
   "source": [
    "from scipy import signal\n",
    "\n",
    "sys = signal.StateSpace(A, B, 1, 0)\n"
   ]
  },
  {
   "cell_type": "code",
   "execution_count": 6,
   "metadata": {},
   "outputs": [],
   "source": [
    "t = np.arange(0, 0.5, 0.0003)\n",
    "U = t > 0.1\n",
    "\n",
    "tout, yout, xout = signal.lsim(sys, U, t)"
   ]
  },
  {
   "cell_type": "code",
   "execution_count": 7,
   "metadata": {},
   "outputs": [],
   "source": [
    "def pll(R1, R2):\n",
    "    return R1*R2/(R1+R2)\n",
    "\n",
    "Ri = pll(pll(R1, R2)+R3, RC)\n",
    "tau = Ri*C\n",
    "u_ref = U*RC/(RC+R3)*pll(R2, R3+RC)/(R1+pll(R2, R3+RC))*(1-np.exp(-(tout-0.1)/tau))"
   ]
  },
  {
   "cell_type": "code",
   "execution_count": 8,
   "metadata": {},
   "outputs": [
    {
     "data": {
      "text/plain": [
       "[<matplotlib.lines.Line2D at 0x14c1b19c0>]"
      ]
     },
     "execution_count": 8,
     "metadata": {},
     "output_type": "execute_result"
    },
    {
     "data": {
      "image/png": "[encoded data removed]",
      "text/plain": [
       "<Figure size 640x480 with 1 Axes>"
      ]
     },
     "metadata": {},
     "output_type": "display_data"
    }
   ],
   "source": [
    "import matplotlib.pyplot as plt\n",
    "\n",
    "plt.plot(tout, yout)\n",
    "plt.plot((tout[0], tout[-1]), (solution.get_voltage('C'), solution.get_voltage('C')))\n",
    "plt.plot(tout, u_ref, 'g--')\n"
   ]
  }
 ],
 "metadata": {
  "kernelspec": {
   "display_name": "Python 3",
   "language": "python",
   "name": "python3"
  },
  "language_info": {
   "codemirror_mode": {
    "name": "ipython",
    "version": 3
   },
   "file_extension": ".py",
   "mimetype": "text/x-python",
   "name": "python",
   "nbconvert_exporter": "python",
   "pygments_lexer": "ipython3",
   "version": "3.10.13"
  },
  "orig_nbformat": 4
 },
 "nbformat": 4,
 "nbformat_minor": 2
}
