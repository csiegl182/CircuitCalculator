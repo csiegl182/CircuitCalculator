{
 "cells": [
  {
   "attachments": {},
   "cell_type": "markdown",
   "metadata": {},
   "source": [
    "# Test Setup for Network Refactoring"
   ]
  },
  {
   "cell_type": "code",
   "execution_count": 1,
   "metadata": {},
   "outputs": [],
   "source": [
    "from CircuitCalculator.Network import elements as elm\n",
    "from CircuitCalculator.Network.network import Network, Branch\n",
    "from CircuitCalculator.Network.NodalAnalysis.bias_point_analysis import NodalAnalysisBiasPointSolution"
   ]
  },
  {
   "cell_type": "code",
   "execution_count": 3,
   "metadata": {},
   "outputs": [
    {
     "ename": "AttributeError",
     "evalue": "'Network' object has no attribute 'node_zero_label'",
     "output_type": "error",
     "traceback": [
      "\u001b[0;31m---------------------------------------------------------------------------\u001b[0m",
      "\u001b[0;31mAttributeError\u001b[0m                            Traceback (most recent call last)",
      "Cell \u001b[0;32mIn[3], line 7\u001b[0m\n\u001b[1;32m      2\u001b[0m R1 \u001b[38;5;241m=\u001b[39m \u001b[38;5;241m1\u001b[39m\n\u001b[1;32m      3\u001b[0m network \u001b[38;5;241m=\u001b[39m Network([\n\u001b[1;32m      4\u001b[0m     Branch(node1\u001b[38;5;241m=\u001b[39m\u001b[38;5;241m1\u001b[39m, node2\u001b[38;5;241m=\u001b[39m\u001b[38;5;241m0\u001b[39m, element\u001b[38;5;241m=\u001b[39melm\u001b[38;5;241m.\u001b[39mvoltage_source(name\u001b[38;5;241m=\u001b[39m\u001b[38;5;124m'\u001b[39m\u001b[38;5;124mVs\u001b[39m\u001b[38;5;124m'\u001b[39m, V\u001b[38;5;241m=\u001b[39mVs)),\n\u001b[1;32m      5\u001b[0m     Branch(node1\u001b[38;5;241m=\u001b[39m\u001b[38;5;241m1\u001b[39m, node2\u001b[38;5;241m=\u001b[39m\u001b[38;5;241m0\u001b[39m, element\u001b[38;5;241m=\u001b[39melm\u001b[38;5;241m.\u001b[39mresistor(name\u001b[38;5;241m=\u001b[39m\u001b[38;5;124m'\u001b[39m\u001b[38;5;124mR1\u001b[39m\u001b[38;5;124m'\u001b[39m, R\u001b[38;5;241m=\u001b[39mR1))\n\u001b[1;32m      6\u001b[0m ])\n\u001b[0;32m----> 7\u001b[0m solution \u001b[38;5;241m=\u001b[39m \u001b[43mNodalAnalysisBiasPointSolution\u001b[49m\u001b[43m(\u001b[49m\u001b[43mnetwork\u001b[49m\u001b[43m)\u001b[49m\n",
      "File \u001b[0;32m<string>:5\u001b[0m, in \u001b[0;36m__init__\u001b[0;34m(self, network, node_mapper)\u001b[0m\n",
      "File \u001b[0;32m~/Workspace/CircuitCalculator/src/CircuitCalculator/Network/NodalAnalysis/bias_point_analysis.py:14\u001b[0m, in \u001b[0;36mNodalAnalysisBiasPointSolution.__post_init__\u001b[0;34m(self)\u001b[0m\n\u001b[1;32m     13\u001b[0m \u001b[38;5;28;01mdef\u001b[39;00m \u001b[38;5;21m__post_init__\u001b[39m(\u001b[38;5;28mself\u001b[39m) \u001b[38;5;241m-\u001b[39m\u001b[38;5;241m>\u001b[39m \u001b[38;5;28;01mNone\u001b[39;00m:\n\u001b[0;32m---> 14\u001b[0m     Y \u001b[38;5;241m=\u001b[39m \u001b[43mcreate_node_matrix_from_network\u001b[49m\u001b[43m(\u001b[49m\u001b[38;5;28;43mself\u001b[39;49m\u001b[38;5;241;43m.\u001b[39;49m\u001b[43mnetwork\u001b[49m\u001b[43m,\u001b[49m\u001b[43m \u001b[49m\u001b[43mnode_index_mapper\u001b[49m\u001b[38;5;241;43m=\u001b[39;49m\u001b[38;5;28;43mself\u001b[39;49m\u001b[38;5;241;43m.\u001b[39;49m\u001b[43mnode_mapper\u001b[49m\u001b[43m)\u001b[49m\n\u001b[1;32m     15\u001b[0m     I \u001b[38;5;241m=\u001b[39m create_current_vector_from_network(\u001b[38;5;28mself\u001b[39m\u001b[38;5;241m.\u001b[39mnetwork, node_index_mapper\u001b[38;5;241m=\u001b[39m\u001b[38;5;28mself\u001b[39m\u001b[38;5;241m.\u001b[39mnode_mapper)\n\u001b[1;32m     16\u001b[0m     \u001b[38;5;28;01mtry\u001b[39;00m:\n",
      "File \u001b[0;32m~/Workspace/CircuitCalculator/src/CircuitCalculator/Network/NodalAnalysis/node_analysis.py:28\u001b[0m, in \u001b[0;36mcreate_node_matrix_from_network\u001b[0;34m(network, node_index_mapper)\u001b[0m\n\u001b[1;32m     26\u001b[0m     \u001b[38;5;28;01mreturn\u001b[39;00m \u001b[38;5;241m-\u001b[39madmittance_between(passive_net, i_label, j_label)\n\u001b[1;32m     27\u001b[0m passive_net \u001b[38;5;241m=\u001b[39m trf\u001b[38;5;241m.\u001b[39mpassive_network(network)\n\u001b[0;32m---> 28\u001b[0m node_mapping \u001b[38;5;241m=\u001b[39m \u001b[43mnode_index_mapper\u001b[49m\u001b[43m(\u001b[49m\u001b[43mnetwork\u001b[49m\u001b[43m)\u001b[49m\n\u001b[1;32m     29\u001b[0m Y \u001b[38;5;241m=\u001b[39m np\u001b[38;5;241m.\u001b[39mzeros((\u001b[38;5;28mlen\u001b[39m(node_mapping), \u001b[38;5;28mlen\u001b[39m(node_mapping)), dtype\u001b[38;5;241m=\u001b[39m\u001b[38;5;28mcomplex\u001b[39m)\n\u001b[1;32m     30\u001b[0m \u001b[38;5;28;01mfor\u001b[39;00m (i_label, i), (j_label, j) \u001b[38;5;129;01min\u001b[39;00m itertools\u001b[38;5;241m.\u001b[39mproduct(node_mapping\u001b[38;5;241m.\u001b[39mitems(), repeat\u001b[38;5;241m=\u001b[39m\u001b[38;5;241m2\u001b[39m):\n",
      "File \u001b[0;32m~/Workspace/CircuitCalculator/src/CircuitCalculator/Network/NodalAnalysis/labelmapper.py:11\u001b[0m, in \u001b[0;36malphabetic_node_mapper\u001b[0;34m(network)\u001b[0m\n\u001b[1;32m      9\u001b[0m \u001b[38;5;28;01mdef\u001b[39;00m \u001b[38;5;21malphabetic_node_mapper\u001b[39m(network: Network) \u001b[38;5;241m-\u001b[39m\u001b[38;5;241m>\u001b[39m \u001b[38;5;28mdict\u001b[39m[\u001b[38;5;28mstr\u001b[39m, \u001b[38;5;28mint\u001b[39m]:\n\u001b[1;32m     10\u001b[0m     super_nodes \u001b[38;5;241m=\u001b[39m SuperNodes(network\u001b[38;5;241m=\u001b[39mnetwork)\n\u001b[0;32m---> 11\u001b[0m     node_labels_without_zero \u001b[38;5;241m=\u001b[39m [label \u001b[38;5;28;01mfor\u001b[39;00m label \u001b[38;5;129;01min\u001b[39;00m \u001b[38;5;28msorted\u001b[39m(network\u001b[38;5;241m.\u001b[39mnode_ids) \u001b[38;5;28;01mif\u001b[39;00m label \u001b[38;5;241m!=\u001b[39m network\u001b[38;5;241m.\u001b[39mnode_zero_label \u001b[38;5;129;01mand\u001b[39;00m \u001b[38;5;129;01mnot\u001b[39;00m super_nodes\u001b[38;5;241m.\u001b[39mis_active(label)] \n\u001b[1;32m     12\u001b[0m     \u001b[38;5;28;01mreturn\u001b[39;00m {k: v \u001b[38;5;28;01mfor\u001b[39;00m v, k \u001b[38;5;129;01min\u001b[39;00m \u001b[38;5;28menumerate\u001b[39m(node_labels_without_zero)}\n",
      "File \u001b[0;32m~/Workspace/CircuitCalculator/src/CircuitCalculator/Network/NodalAnalysis/labelmapper.py:11\u001b[0m, in \u001b[0;36m<listcomp>\u001b[0;34m(.0)\u001b[0m\n\u001b[1;32m      9\u001b[0m \u001b[38;5;28;01mdef\u001b[39;00m \u001b[38;5;21malphabetic_node_mapper\u001b[39m(network: Network) \u001b[38;5;241m-\u001b[39m\u001b[38;5;241m>\u001b[39m \u001b[38;5;28mdict\u001b[39m[\u001b[38;5;28mstr\u001b[39m, \u001b[38;5;28mint\u001b[39m]:\n\u001b[1;32m     10\u001b[0m     super_nodes \u001b[38;5;241m=\u001b[39m SuperNodes(network\u001b[38;5;241m=\u001b[39mnetwork)\n\u001b[0;32m---> 11\u001b[0m     node_labels_without_zero \u001b[38;5;241m=\u001b[39m [label \u001b[38;5;28;01mfor\u001b[39;00m label \u001b[38;5;129;01min\u001b[39;00m \u001b[38;5;28msorted\u001b[39m(network\u001b[38;5;241m.\u001b[39mnode_ids) \u001b[38;5;28;01mif\u001b[39;00m label \u001b[38;5;241m!=\u001b[39m \u001b[43mnetwork\u001b[49m\u001b[38;5;241;43m.\u001b[39;49m\u001b[43mnode_zero_label\u001b[49m \u001b[38;5;129;01mand\u001b[39;00m \u001b[38;5;129;01mnot\u001b[39;00m super_nodes\u001b[38;5;241m.\u001b[39mis_active(label)] \n\u001b[1;32m     12\u001b[0m     \u001b[38;5;28;01mreturn\u001b[39;00m {k: v \u001b[38;5;28;01mfor\u001b[39;00m v, k \u001b[38;5;129;01min\u001b[39;00m \u001b[38;5;28menumerate\u001b[39m(node_labels_without_zero)}\n",
      "\u001b[0;31mAttributeError\u001b[0m: 'Network' object has no attribute 'node_zero_label'"
     ]
    }
   ],
   "source": [
    "Vs = 1\n",
    "R1 = 1\n",
    "network = Network([\n",
    "    Branch(node1=1, node2=0, element=elm.voltage_source(name='Vs', V=Vs)),\n",
    "    Branch(node1=1, node2=0, element=elm.resistor(name='R1', R=R1))\n",
    "])\n",
    "solution = NodalAnalysisBiasPointSolution(network)"
   ]
  }
 ],
 "metadata": {
  "kernelspec": {
   "display_name": "Python 3",
   "language": "python",
   "name": "python3"
  },
  "language_info": {
   "codemirror_mode": {
    "name": "ipython",
    "version": 3
   },
   "file_extension": ".py",
   "mimetype": "text/x-python",
   "name": "python",
   "nbconvert_exporter": "python",
   "pygments_lexer": "ipython3",
   "version": "3.10.14"
  },
  "orig_nbformat": 4
 },
 "nbformat": 4,
 "nbformat_minor": 2
}
