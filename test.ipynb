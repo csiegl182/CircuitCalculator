{
 "cells": [
  {
   "attachments": {},
   "cell_type": "markdown",
   "metadata": {},
   "source": [
    "# Test Setup for Transient Analysis"
   ]
  },
  {
   "cell_type": "code",
   "execution_count": 35,
   "metadata": {},
   "outputs": [],
   "source": [
    "from CircuitCalculator.Circuit.solution import DCSolution\n",
    "from CircuitCalculator.Circuit.circuit import Circuit, transform_circuit\n",
    "from CircuitCalculator.Circuit import components as cmp\n",
    "from CircuitCalculator.Network import elements as elm\n",
    "from CircuitCalculator.Network.network import Network, Branch"
   ]
  },
  {
   "cell_type": "code",
   "execution_count": 18,
   "metadata": {},
   "outputs": [
    {
     "data": {
      "text/plain": [
       "Network(branches=[Branch(node1='1', node2='0', element=NortenElement(name='Uq', type='voltage_source', Z=0, V=(1+0j))), Branch(node1='1', node2='2', element=NortenElement(name='R1', type='resistor', Z=10, V=0)), Branch(node1='2', node2='0', element=NortenElement(name='R2', type='resistor', Z=20, V=0)), Branch(node1='2', node2='3', element=NortenElement(name='R3', type='resistor', Z=30, V=0)), Branch(node1='3', node2='0', element=TheveninElement(name='C', type='admittance', Y=0j, I=0))], node_zero_label='0')"
      ]
     },
     "execution_count": 18,
     "metadata": {},
     "output_type": "execute_result"
    }
   ],
   "source": [
    "R1, R2, R3 = 10, 20, 30\n",
    "RC = 40e6\n",
    "C = 1e-3\n",
    "circuit = Circuit([\n",
    "    cmp.VoltageSource(id='Uq', V=1, nodes=('1', '0')),\n",
    "    cmp.Resistor(id='R1', R=R1, nodes=('1', '2')),\n",
    "    cmp.Resistor(id='R2', R=R2, nodes=('2', '0')),\n",
    "    cmp.Resistor(id='R3', R=R3, nodes=('2', '3')),\n",
    "    cmp.Capacitor(id='C', C=C, nodes=('3', '0')),\n",
    "    cmp.Ground(nodes=('0',))\n",
    "])\n",
    "solution = DCSolution(circuit)"
   ]
  },
  {
   "cell_type": "code",
   "execution_count": 36,
   "metadata": {},
   "outputs": [],
   "source": [
    "network = transform_circuit(circuit, w=0)\n",
    "network = Network([\n",
    "    Branch(node1='1', node2='0', element=elm.NortenElement(name='Uq', type='voltage_source', Z=0, V=1)),\n",
    "    Branch(node1='1', node2='2', element=elm.NortenElement(name='R1', type='resistor', Z=R1, V=0)),\n",
    "    Branch(node1='2', node2='0', element=elm.NortenElement(name='R2', type='resistor', Z=R2, V=0)),\n",
    "    Branch(node1='2', node2='3', element=elm.NortenElement(name='R3', type='resistor', Z=R3, V=0)),\n",
    "    Branch(node1='3', node2='0', element=elm.TheveninElement(name='C', type='capacitor', Y=1/RC, I=0))\n",
    "])"
   ]
  },
  {
   "cell_type": "code",
   "execution_count": 19,
   "metadata": {},
   "outputs": [
    {
     "name": "stdout",
     "output_type": "stream",
     "text": [
      "[[ 0.18333333 -0.03333333]\n",
      " [-0.03333333  0.03333333]]\n"
     ]
    }
   ],
   "source": [
    "from CircuitCalculator.Network.NodalAnalysis.node_analysis import *\n",
    "\n",
    "Y = create_node_matrix_from_network(network)\n",
    "Y = Y.real\n",
    "print(Y)"
   ]
  },
  {
   "cell_type": "code",
   "execution_count": 20,
   "metadata": {},
   "outputs": [
    {
     "name": "stdout",
     "output_type": "stream",
     "text": [
      "[0.1 0. ]\n"
     ]
    }
   ],
   "source": [
    "I = create_current_vector_from_network(network)\n",
    "I = I.real\n",
    "print(I)\n"
   ]
  },
  {
   "cell_type": "markdown",
   "metadata": {},
   "source": [
    "Berechne State Space Matrizen per Hand"
   ]
  },
  {
   "cell_type": "code",
   "execution_count": 21,
   "metadata": {},
   "outputs": [
    {
     "name": "stdout",
     "output_type": "stream",
     "text": [
      "[[-27.27272727]]\n",
      "[[18.18181818]]\n"
     ]
    },
    {
     "data": {
      "text/plain": [
       "(None, None)"
      ]
     },
     "execution_count": 21,
     "metadata": {},
     "output_type": "execute_result"
    }
   ],
   "source": [
    "Z_ = np.matrix([[0, 1]])*np.linalg.inv(Y)\n",
    "A = np.linalg.inv(Z_*np.matrix([[0], [-C]]))\n",
    "B = -A*Z_*np.matrix([[1/R1], [0]])\n",
    "print(A), print(B)"
   ]
  },
  {
   "cell_type": "markdown",
   "metadata": {},
   "source": [
    "## Berechnung der State Space Matrizen"
   ]
  },
  {
   "cell_type": "code",
   "execution_count": 52,
   "metadata": {},
   "outputs": [
    {
     "name": "stdout",
     "output_type": "stream",
     "text": [
      "[[0. 1.]]\n"
     ]
    }
   ],
   "source": [
    "node_index_mapper = map.default\n",
    "network = transform_circuit(circuit, w=0)\n",
    "node_mapping = node_index_mapper(network)\n",
    "Y = create_node_matrix_from_network(network).real\n",
    "I = create_current_vector_from_network(network).real\n",
    "all_Cs = [c for c in circuit.components if c.type == 'capacitor']\n",
    "P = np.zeros((len(all_Cs), Y.shape[1]))\n",
    "for k in range(len(all_Cs)):\n",
    "    for i_label, i in node_mapping.items():\n",
    "        if i_label in all_Cs[k].nodes:\n",
    "            P[k][i] = 1\n",
    "print(P)"
   ]
  },
  {
   "cell_type": "markdown",
   "metadata": {},
   "source": [
    "## Funktion zur Berechnung der State Space Matrizen"
   ]
  },
  {
   "cell_type": "code",
   "execution_count": 64,
   "metadata": {},
   "outputs": [],
   "source": [
    "from CircuitCalculator.Network.NodalAnalysis import labelmapper as map\n",
    "def create_state_space_matrices_from_circuit(circuit: Circuit, node_index_mapper: map.NodeIndexMapper = map.default) -> tuple[np.ndarray, np.ndarray]:\n",
    "    network = transform_circuit(circuit, w=0)\n",
    "    node_mapping = node_index_mapper(network)\n",
    "    Y = create_node_matrix_from_network(network).real\n",
    "    I = create_current_vector_from_network(network).real\n",
    "    all_Cs = [c for c in circuit.components if c.type == 'capacitor']\n",
    "    print(all_Cs)\n",
    "    P = np.zeros((len(all_Cs), Y.shape[1]))\n",
    "    for k in range(len(all_Cs)):\n",
    "        for i_label, i in node_mapping.items():\n",
    "            if i_label in all_Cs[k].nodes:\n",
    "                P[k][i] = 1\n",
    "    Z_ = np.matrix(P)*np.linalg.inv(Y)\n",
    "    print(Z_)\n",
    "    A = np.linalg.inv(Z_*np.matrix([[0], [-all_Cs[0].C]]))\n",
    "    B = -A*Z_*np.matrix(I).T\n",
    "    return A, B"
   ]
  },
  {
   "cell_type": "code",
   "execution_count": 65,
   "metadata": {},
   "outputs": [
    {
     "name": "stdout",
     "output_type": "stream",
     "text": [
      "[Capacitor(nodes=('3', '0'), type='capacitor', id='C', is_active=False, w=0, C=0.001)]\n",
      "[[ 6.66666667 36.66666667]]\n",
      "[[-27.27272727]]\n",
      "[[18.18181818]]\n"
     ]
    },
    {
     "data": {
      "text/plain": [
       "(None, None)"
      ]
     },
     "execution_count": 65,
     "metadata": {},
     "output_type": "execute_result"
    }
   ],
   "source": [
    "A, B = create_state_space_matrices_from_circuit(circuit=circuit)\n",
    "print(A), print(B)"
   ]
  },
  {
   "cell_type": "code",
   "execution_count": 25,
   "metadata": {},
   "outputs": [],
   "source": [
    "from scipy import signal\n",
    "\n",
    "sys = signal.StateSpace(A, B, 1, 0)\n"
   ]
  },
  {
   "cell_type": "code",
   "execution_count": 26,
   "metadata": {},
   "outputs": [],
   "source": [
    "t = np.arange(0, 0.3, 0.0003)\n",
    "U = t > 0.1\n",
    "\n",
    "tout, yout, xout = signal.lsim(sys, U, t)"
   ]
  },
  {
   "cell_type": "code",
   "execution_count": 27,
   "metadata": {},
   "outputs": [
    {
     "data": {
      "text/plain": [
       "[<matplotlib.lines.Line2D at 0x160ce93f0>]"
      ]
     },
     "execution_count": 27,
     "metadata": {},
     "output_type": "execute_result"
    },
    {
     "data": {
      "image/png": "[encoded data removed]",
      "text/plain": [
       "<Figure size 640x480 with 1 Axes>"
      ]
     },
     "metadata": {},
     "output_type": "display_data"
    }
   ],
   "source": [
    "import matplotlib.pyplot as plt\n",
    "\n",
    "plt.plot(tout, yout)\n",
    "plt.plot((tout[0], tout[-1]), (solution.get_voltage('C'), solution.get_voltage('C')))"
   ]
  }
 ],
 "metadata": {
  "kernelspec": {
   "display_name": "Python 3",
   "language": "python",
   "name": "python3"
  },
  "language_info": {
   "codemirror_mode": {
    "name": "ipython",
    "version": 3
   },
   "file_extension": ".py",
   "mimetype": "text/x-python",
   "name": "python",
   "nbconvert_exporter": "python",
   "pygments_lexer": "ipython3",
   "version": "3.10.11"
  },
  "orig_nbformat": 4
 },
 "nbformat": 4,
 "nbformat_minor": 2
}
