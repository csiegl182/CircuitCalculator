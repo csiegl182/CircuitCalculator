{
 "cells": [
  {
   "attachments": {},
   "cell_type": "markdown",
   "metadata": {},
   "source": [
    "# Test Setup for Transient Analysis"
   ]
  },
  {
   "cell_type": "code",
   "execution_count": 2,
   "metadata": {},
   "outputs": [],
   "source": [
    "from CircuitCalculator.Circuit.solution import DCSolution\n",
    "from CircuitCalculator.Circuit.circuit import Circuit, transform_circuit\n",
    "from CircuitCalculator.Circuit import components as cmp\n",
    "from CircuitCalculator.Network import elements as elm\n",
    "from CircuitCalculator.Network.network import Network, Branch"
   ]
  },
  {
   "cell_type": "code",
   "execution_count": 3,
   "metadata": {},
   "outputs": [],
   "source": [
    "G1, G2, G3 = 10, 20, 30\n",
    "R1, R2, R3 = 1/G1, 1/G2, 1/G3\n",
    "R1, R2, R3 = 10, 20, 30\n",
    "G1, G2, G3 = 1/R1, 1/R2, 1/R3\n",
    "RC = 40e6\n",
    "C = 1e-3\n",
    "circuit = Circuit([\n",
    "    cmp.dc_voltage_source(id='Uq', V=1, nodes=('1', '0')),\n",
    "    cmp.resistor(id='R1', R=R1, nodes=('1', '2')),\n",
    "    cmp.resistor(id='R2', R=R2, nodes=('2', '0')),\n",
    "    cmp.resistor(id='R3', R=R3, nodes=('2', '3')),\n",
    "    cmp.capacitor(id='C', C=C, nodes=('3', '0')),\n",
    "    cmp.ground(nodes=('0',))\n",
    "])\n",
    "solution = DCSolution(circuit)"
   ]
  },
  {
   "cell_type": "code",
   "execution_count": 4,
   "metadata": {},
   "outputs": [],
   "source": [
    "network = transform_circuit(circuit, w=0)\n",
    "network = Network([\n",
    "    Branch(node1='1', node2='0', element=elm.NortenElement(name='Uq', type='voltage_source', Z=0, V=1)),\n",
    "    Branch(node1='1', node2='2', element=elm.NortenElement(name='R1', type='resistor', Z=R1, V=0)),\n",
    "    Branch(node1='2', node2='0', element=elm.NortenElement(name='R2', type='resistor', Z=R2, V=0)),\n",
    "    Branch(node1='2', node2='3', element=elm.NortenElement(name='R3', type='resistor', Z=R3, V=0)),\n",
    "    Branch(node1='3', node2='0', element=elm.TheveninElement(name='C', type='capacitor', Y=1/RC, I=0))\n",
    "])"
   ]
  },
  {
   "cell_type": "markdown",
   "metadata": {},
   "source": [
    "## Funktion zur Berechnung der State Space Matrizen"
   ]
  },
  {
   "cell_type": "code",
   "execution_count": 5,
   "metadata": {},
   "outputs": [],
   "source": [
    "from CircuitCalculator.Network.NodalAnalysis.state_space_model import NodalStateSpaceModel, BranchValues\n",
    "ss = NodalStateSpaceModel(network=network, c_values=[BranchValues(value=C, node1='3', node2='0')])"
   ]
  },
  {
   "cell_type": "code",
   "execution_count": 6,
   "metadata": {},
   "outputs": [],
   "source": [
    "from scipy import signal\n",
    "import numpy as np\n",
    "\n",
    "ssC = np.array([[1-R3*(R1+R2)/(R1*R2+R2*R3+R1*R3)], [1]])\n",
    "ssD = np.array([[R2*R3/(R1*R2+R2*R3+R1*R3)], [0]])\n",
    "\n",
    "sys = signal.StateSpace(ss.A, ss.B, ss.C, ss.D)\n"
   ]
  },
  {
   "cell_type": "code",
   "execution_count": 7,
   "metadata": {},
   "outputs": [],
   "source": [
    "t = np.arange(0, 0.3, 0.0003)\n",
    "U = t > 0.1\n",
    "\n",
    "tout, yout, xout = signal.lsim(sys, U, t)"
   ]
  },
  {
   "cell_type": "code",
   "execution_count": 8,
   "metadata": {},
   "outputs": [],
   "source": [
    "def pll(R1, R2):\n",
    "    return R1*R2/(R1+R2)\n",
    "\n",
    "Ri = pll(pll(R1, R2)+R3, RC)\n",
    "tau = Ri*C\n",
    "u_ref = U*RC/(RC+R3)*pll(R2, R3+RC)/(R1+pll(R2, R3+RC))*(1-np.exp(-(tout-0.1)/tau))"
   ]
  },
  {
   "cell_type": "code",
   "execution_count": 10,
   "metadata": {},
   "outputs": [
    {
     "data": {
      "text/plain": [
       "[<matplotlib.lines.Line2D at 0x1239a0880>]"
      ]
     },
     "execution_count": 10,
     "metadata": {},
     "output_type": "execute_result"
    },
    {
     "data": {
      "image/png": "[encoded data removed]",
      "text/plain": [
       "<Figure size 640x480 with 1 Axes>"
      ]
     },
     "metadata": {},
     "output_type": "display_data"
    }
   ],
   "source": [
    "import matplotlib.pyplot as plt\n",
    "\n",
    "plt.plot(tout, yout[:,1])\n",
    "plt.plot((tout[0], tout[-1]), (solution.get_voltage('C'), solution.get_voltage('C')))\n",
    "plt.plot(tout, u_ref, 'g--')\n",
    "plt.plot(tout, yout[:,0], 'k')\n",
    "plt.grid(True)\n",
    "\n",
    "from CircuitCalculator.Network.NodalAnalysis.transient_analysis import NodalStateSpaceModel\n",
    "from CircuitCalculator.Network.NodalAnalysis.transient_analysis import TransientAnalysisSolution\n",
    "from CircuitCalculator.Network.NodalAnalysis.state_space_model import BranchValues\n",
    "from CircuitCalculator.SignalProcessing.one_sided_functions import step\n",
    "from CircuitCalculator.Network.network import Network, Branch\n",
    "from CircuitCalculator.Network.elements import voltage_source, open_circuit, resistor\n",
    "import functools\n",
    "import numpy as np\n",
    "solution = TransientAnalysisSolution(network, c_values=[BranchValues(C, '3', '0')], input={'Uq': functools.partial(step, t0=0.1)}, t_lim=(0, 0.5), Ts=0.0003)\n",
    "t, u = solution.get_voltage('C')\n",
    "plt.plot(t, u, 'm')\n"
   ]
  }
 ],
 "metadata": {
  "kernelspec": {
   "display_name": "Python 3",
   "language": "python",
   "name": "python3"
  },
  "language_info": {
   "codemirror_mode": {
    "name": "ipython",
    "version": 3
   },
   "file_extension": ".py",
   "mimetype": "text/x-python",
   "name": "python",
   "nbconvert_exporter": "python",
   "pygments_lexer": "ipython3",
   "version": "3.10.13"
  },
  "orig_nbformat": 4
 },
 "nbformat": 4,
 "nbformat_minor": 2
}
